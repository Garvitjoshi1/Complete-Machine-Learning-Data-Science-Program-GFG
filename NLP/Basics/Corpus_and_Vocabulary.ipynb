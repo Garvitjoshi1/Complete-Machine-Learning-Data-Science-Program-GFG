{
 "cells": [
  {
   "cell_type": "code",
   "execution_count": 1,
   "metadata": {},
   "outputs": [],
   "source": [
    "from nltk.tokenize import word_tokenize\n",
    "from nltk.corpus import stopwords"
   ]
  },
  {
   "cell_type": "markdown",
   "metadata": {},
   "source": [
    "``A corpus is a collection of authentic texts or audio that are organized into datasets and representative of a specific language or language variety``"
   ]
  },
  {
   "cell_type": "code",
   "execution_count": 2,
   "metadata": {},
   "outputs": [],
   "source": [
    "corpus = \"India, officially the Republic of India (ISO: Bhārat Gaṇarājya),is a country in South Asia. It is the seventh-largest country by area; the most populous country as of June 2023;and from the time of its independence in 1947, the world's most populous democracy.Bounded by the Indian Ocean on the south, the Arabian Sea on the southwest, and the Bay of Bengal on the southeast, it shares land borders with Pakistan to the west;China, Nepal, and Bhutan to the north; and Bangladesh and Myanmar to the east. In the Indian Ocean, India is in the vicinity of Sri Lanka and the Maldives; its Andaman and Nicobar Islands share a maritime border with Thailand, Myanmar, and Indonesia.\""
   ]
  },
  {
   "cell_type": "code",
   "execution_count": 3,
   "metadata": {},
   "outputs": [
    {
     "data": {
      "text/plain": [
       "\"India, officially the Republic of India (ISO: Bhārat Gaṇarājya),is a country in South Asia. It is the seventh-largest country by area; the most populous country as of June 2023;and from the time of its independence in 1947, the world's most populous democracy.Bounded by the Indian Ocean on the south, the Arabian Sea on the southwest, and the Bay of Bengal on the southeast, it shares land borders with Pakistan to the west;China, Nepal, and Bhutan to the north; and Bangladesh and Myanmar to the east. In the Indian Ocean, India is in the vicinity of Sri Lanka and the Maldives; its Andaman and Nicobar Islands share a maritime border with Thailand, Myanmar, and Indonesia.\""
      ]
     },
     "execution_count": 3,
     "metadata": {},
     "output_type": "execute_result"
    }
   ],
   "source": [
    "corpus"
   ]
  },
  {
   "cell_type": "code",
   "execution_count": 4,
   "metadata": {},
   "outputs": [
    {
     "data": {
      "text/plain": [
       "['India',\n",
       " ',',\n",
       " 'officially',\n",
       " 'the',\n",
       " 'Republic',\n",
       " 'of',\n",
       " 'India',\n",
       " '(',\n",
       " 'ISO',\n",
       " ':',\n",
       " 'Bhārat',\n",
       " 'Gaṇarājya',\n",
       " ')',\n",
       " ',',\n",
       " 'is',\n",
       " 'a',\n",
       " 'country',\n",
       " 'in',\n",
       " 'South',\n",
       " 'Asia',\n",
       " '.',\n",
       " 'It',\n",
       " 'is',\n",
       " 'the',\n",
       " 'seventh-largest',\n",
       " 'country',\n",
       " 'by',\n",
       " 'area',\n",
       " ';',\n",
       " 'the',\n",
       " 'most',\n",
       " 'populous',\n",
       " 'country',\n",
       " 'as',\n",
       " 'of',\n",
       " 'June',\n",
       " '2023',\n",
       " ';',\n",
       " 'and',\n",
       " 'from',\n",
       " 'the',\n",
       " 'time',\n",
       " 'of',\n",
       " 'its',\n",
       " 'independence',\n",
       " 'in',\n",
       " '1947',\n",
       " ',',\n",
       " 'the',\n",
       " 'world',\n",
       " \"'s\",\n",
       " 'most',\n",
       " 'populous',\n",
       " 'democracy.Bounded',\n",
       " 'by',\n",
       " 'the',\n",
       " 'Indian',\n",
       " 'Ocean',\n",
       " 'on',\n",
       " 'the',\n",
       " 'south',\n",
       " ',',\n",
       " 'the',\n",
       " 'Arabian',\n",
       " 'Sea',\n",
       " 'on',\n",
       " 'the',\n",
       " 'southwest',\n",
       " ',',\n",
       " 'and',\n",
       " 'the',\n",
       " 'Bay',\n",
       " 'of',\n",
       " 'Bengal',\n",
       " 'on',\n",
       " 'the',\n",
       " 'southeast',\n",
       " ',',\n",
       " 'it',\n",
       " 'shares',\n",
       " 'land',\n",
       " 'borders',\n",
       " 'with',\n",
       " 'Pakistan',\n",
       " 'to',\n",
       " 'the',\n",
       " 'west',\n",
       " ';',\n",
       " 'China',\n",
       " ',',\n",
       " 'Nepal',\n",
       " ',',\n",
       " 'and',\n",
       " 'Bhutan',\n",
       " 'to',\n",
       " 'the',\n",
       " 'north',\n",
       " ';',\n",
       " 'and',\n",
       " 'Bangladesh',\n",
       " 'and',\n",
       " 'Myanmar',\n",
       " 'to',\n",
       " 'the',\n",
       " 'east',\n",
       " '.',\n",
       " 'In',\n",
       " 'the',\n",
       " 'Indian',\n",
       " 'Ocean',\n",
       " ',',\n",
       " 'India',\n",
       " 'is',\n",
       " 'in',\n",
       " 'the',\n",
       " 'vicinity',\n",
       " 'of',\n",
       " 'Sri',\n",
       " 'Lanka',\n",
       " 'and',\n",
       " 'the',\n",
       " 'Maldives',\n",
       " ';',\n",
       " 'its',\n",
       " 'Andaman',\n",
       " 'and',\n",
       " 'Nicobar',\n",
       " 'Islands',\n",
       " 'share',\n",
       " 'a',\n",
       " 'maritime',\n",
       " 'border',\n",
       " 'with',\n",
       " 'Thailand',\n",
       " ',',\n",
       " 'Myanmar',\n",
       " ',',\n",
       " 'and',\n",
       " 'Indonesia',\n",
       " '.']"
      ]
     },
     "execution_count": 4,
     "metadata": {},
     "output_type": "execute_result"
    }
   ],
   "source": [
    "word_tokenize(corpus)"
   ]
  },
  {
   "cell_type": "code",
   "execution_count": 5,
   "metadata": {},
   "outputs": [
    {
     "data": {
      "text/plain": [
       "140"
      ]
     },
     "execution_count": 5,
     "metadata": {},
     "output_type": "execute_result"
    }
   ],
   "source": [
    "len(word_tokenize(corpus))"
   ]
  },
  {
   "cell_type": "markdown",
   "metadata": {},
   "source": [
    "`` So that the word don't repeat and sound similar like the and The, therefore we make all the text in lowercase.``"
   ]
  },
  {
   "cell_type": "markdown",
   "metadata": {},
   "source": [
    "``Vocabulary Size : The set of unique words used in the text corpus ,Greater the Vocabualry size more diffficult it's to train the model.``"
   ]
  },
  {
   "cell_type": "code",
   "execution_count": 6,
   "metadata": {},
   "outputs": [
    {
     "name": "stdout",
     "output_type": "stream",
     "text": [
      "['India', ',', 'officially', 'Republic', 'India', '(', 'ISO', ':', 'Bhārat', 'Gaṇarājya', ')', ',', 'country', 'South', 'Asia', '.', 'seventh-largest', 'country', 'area', ';', 'populous', 'country', 'June', '2023', ';', 'time', 'independence', '1947', ',', 'world', \"'s\", 'populous', 'democracy.Bounded', 'Indian', 'Ocean', 'south', ',', 'Arabian', 'Sea', 'southwest', ',', 'Bay', 'Bengal', 'southeast', ',', 'shares', 'land', 'borders', 'Pakistan', 'west', ';', 'China', ',', 'Nepal', ',', 'Bhutan', 'north', ';', 'Bangladesh', 'Myanmar', 'east', '.', 'Indian', 'Ocean', ',', 'India', 'vicinity', 'Sri', 'Lanka', 'Maldives', ';', 'Andaman', 'Nicobar', 'Islands', 'share', 'maritime', 'border', 'Thailand', ',', 'Myanmar', ',', 'Indonesia', '.']\n"
     ]
    }
   ],
   "source": [
    "# Removing stopwords\n",
    "l = []\n",
    "for word in word_tokenize(corpus):\n",
    "    if(word.lower() not in stopwords.words('english')):\n",
    "        l.append(word)\n",
    "print(l)"
   ]
  },
  {
   "cell_type": "code",
   "execution_count": 7,
   "metadata": {},
   "outputs": [
    {
     "data": {
      "text/plain": [
       "83"
      ]
     },
     "execution_count": 7,
     "metadata": {},
     "output_type": "execute_result"
    }
   ],
   "source": [
    "len(l)"
   ]
  },
  {
   "cell_type": "code",
   "execution_count": 8,
   "metadata": {},
   "outputs": [
    {
     "name": "stdout",
     "output_type": "stream",
     "text": [
      "['india', 'officially', 'republic', 'india', 'iso', 'bhārat', 'gaṇarājya', 'country', 'south', 'asia', 'seventh-largest', 'country', 'area', 'populous', 'country', 'june', '2023', 'time', 'independence', '1947', 'world', \"'s\", 'populous', 'democracy.bounded', 'indian', 'ocean', 'south', 'arabian', 'sea', 'southwest', 'bay', 'bengal', 'southeast', 'shares', 'land', 'borders', 'pakistan', 'west', 'china', 'nepal', 'bhutan', 'north', 'bangladesh', 'myanmar', 'east', 'indian', 'ocean', 'india', 'vicinity', 'sri', 'lanka', 'maldives', 'andaman', 'nicobar', 'islands', 'share', 'maritime', 'border', 'thailand', 'myanmar', 'indonesia']\n"
     ]
    }
   ],
   "source": [
    "# Removing punctuations\n",
    "k = []\n",
    "for word in word_tokenize(corpus):\n",
    "    if(word.lower() not in stopwords.words('english')) and (len(word) >= 2):\n",
    "        k.append(word.lower())\n",
    "print(k)"
   ]
  },
  {
   "cell_type": "code",
   "execution_count": 9,
   "metadata": {},
   "outputs": [
    {
     "data": {
      "text/plain": [
       "52"
      ]
     },
     "execution_count": 9,
     "metadata": {},
     "output_type": "execute_result"
    }
   ],
   "source": [
    "#to get most unique and useful words, without repetition\n",
    "len(set(k))"
   ]
  },
  {
   "cell_type": "markdown",
   "metadata": {},
   "source": [
    "`` 140 words made to 52 after removal of stopwrods, punctutation, and repititions.``"
   ]
  },
  {
   "cell_type": "code",
   "execution_count": 10,
   "metadata": {},
   "outputs": [],
   "source": [
    "vocab = list(set(k))"
   ]
  },
  {
   "cell_type": "code",
   "execution_count": 11,
   "metadata": {},
   "outputs": [
    {
     "data": {
      "text/plain": [
       "[\"'s\",\n",
       " 'time',\n",
       " 'area',\n",
       " 'ocean',\n",
       " 'bhutan',\n",
       " 'iso',\n",
       " 'islands',\n",
       " 'gaṇarājya',\n",
       " 'south',\n",
       " 'pakistan',\n",
       " 'maritime',\n",
       " 'arabian',\n",
       " 'populous',\n",
       " 'democracy.bounded',\n",
       " 'bay',\n",
       " 'country',\n",
       " 'india',\n",
       " '1947',\n",
       " 'borders',\n",
       " 'lanka',\n",
       " 'southwest',\n",
       " 'nicobar',\n",
       " 'east',\n",
       " 'indonesia',\n",
       " 'independence',\n",
       " 'officially',\n",
       " 'seventh-largest',\n",
       " 'asia',\n",
       " 'north',\n",
       " 'maldives',\n",
       " 'republic',\n",
       " 'thailand',\n",
       " 'china',\n",
       " 'myanmar',\n",
       " 'land',\n",
       " 'indian',\n",
       " 'world',\n",
       " 'june',\n",
       " 'sri',\n",
       " 'southeast',\n",
       " 'shares',\n",
       " 'andaman',\n",
       " '2023',\n",
       " 'border',\n",
       " 'west',\n",
       " 'nepal',\n",
       " 'bangladesh',\n",
       " 'bhārat',\n",
       " 'share',\n",
       " 'sea',\n",
       " 'bengal',\n",
       " 'vicinity']"
      ]
     },
     "execution_count": 11,
     "metadata": {},
     "output_type": "execute_result"
    }
   ],
   "source": [
    "vocab"
   ]
  },
  {
   "cell_type": "markdown",
   "metadata": {},
   "source": [
    "`` Performing Sentence tokenization.``"
   ]
  },
  {
   "cell_type": "code",
   "execution_count": 12,
   "metadata": {},
   "outputs": [],
   "source": [
    "from nltk.tokenize import sent_tokenize"
   ]
  },
  {
   "cell_type": "code",
   "execution_count": 13,
   "metadata": {},
   "outputs": [
    {
     "name": "stdout",
     "output_type": "stream",
     "text": [
      "India, officially the Republic of India (ISO: Bhārat Gaṇarājya),is a country in South Asia.\n",
      "It is the seventh-largest country by area; the most populous country as of June 2023;and from the time of its independence in 1947, the world's most populous democracy.Bounded by the Indian Ocean on the south, the Arabian Sea on the southwest, and the Bay of Bengal on the southeast, it shares land borders with Pakistan to the west;China, Nepal, and Bhutan to the north; and Bangladesh and Myanmar to the east.\n",
      "In the Indian Ocean, India is in the vicinity of Sri Lanka and the Maldives; its Andaman and Nicobar Islands share a maritime border with Thailand, Myanmar, and Indonesia.\n"
     ]
    }
   ],
   "source": [
    "for sent in sent_tokenize(corpus):\n",
    "    print(sent)"
   ]
  },
  {
   "cell_type": "code",
   "execution_count": null,
   "metadata": {},
   "outputs": [],
   "source": []
  }
 ],
 "metadata": {
  "kernelspec": {
   "display_name": "Python 3",
   "language": "python",
   "name": "python3"
  },
  "language_info": {
   "codemirror_mode": {
    "name": "ipython",
    "version": 3
   },
   "file_extension": ".py",
   "mimetype": "text/x-python",
   "name": "python",
   "nbconvert_exporter": "python",
   "pygments_lexer": "ipython3",
   "version": "3.12.3"
  }
 },
 "nbformat": 4,
 "nbformat_minor": 2
}
