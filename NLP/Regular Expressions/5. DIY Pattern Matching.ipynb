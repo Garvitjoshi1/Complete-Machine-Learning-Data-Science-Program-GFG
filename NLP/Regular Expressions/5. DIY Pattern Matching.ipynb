{
 "cells": [
  {
   "cell_type": "markdown",
   "metadata": {},
   "source": [
    "### 1.Continuous Number"
   ]
  },
  {
   "cell_type": "code",
   "execution_count": 1,
   "metadata": {},
   "outputs": [
    {
     "name": "stdout",
     "output_type": "stream",
     "text": [
      "Start 14 End 20\n",
      "935923\n",
      "Start 25 End 31\n",
      "930923\n",
      "Start 37 End 40\n",
      "844\n",
      "Start 44 End 49\n",
      "98450\n"
     ]
    }
   ],
   "source": [
    "txt = 'The number is 935923 not 930923 fgja 844 jg 98450 '\n",
    "c = 0\n",
    "index = []\n",
    "for i in range(len(txt)):\n",
    "    if (txt[i].isdigit() == True):\n",
    "        if(c == 0):\n",
    "            st = i\n",
    "            print(\"Start\", i, end =\" \")\n",
    "        c += 1\n",
    "    else:\n",
    "        if(c != 0):\n",
    "            end = i\n",
    "            print(\"End\", i)\n",
    "            print(txt[st:end])\n",
    "        c = 0    "
   ]
  },
  {
   "cell_type": "markdown",
   "metadata": {},
   "source": [
    "### 2. Word Finding"
   ]
  },
  {
   "cell_type": "code",
   "execution_count": 24,
   "metadata": {},
   "outputs": [],
   "source": [
    "text = \"AI is having the capability in revolutionize all the industries\"\n",
    "word = \"having\""
   ]
  },
  {
   "cell_type": "code",
   "execution_count": 25,
   "metadata": {},
   "outputs": [
    {
     "data": {
      "text/plain": [
       "True"
      ]
     },
     "execution_count": 25,
     "metadata": {},
     "output_type": "execute_result"
    }
   ],
   "source": [
    "word in text"
   ]
  },
  {
   "cell_type": "code",
   "execution_count": 26,
   "metadata": {},
   "outputs": [],
   "source": [
    "a = text.split()"
   ]
  },
  {
   "cell_type": "code",
   "execution_count": 28,
   "metadata": {},
   "outputs": [
    {
     "name": "stdout",
     "output_type": "stream",
     "text": [
      "True\n"
     ]
    }
   ],
   "source": [
    "for i in range(len(a)):\n",
    "    if a[i] == word:\n",
    "        print(\"True\")"
   ]
  },
  {
   "cell_type": "markdown",
   "metadata": {},
   "source": [
    "### 3. Word Starting From Specific Character"
   ]
  },
  {
   "cell_type": "code",
   "execution_count": 37,
   "metadata": {},
   "outputs": [],
   "source": [
    "text = \"AI is having the capability to revolutionize all the industries. The Industry is ready for a big change .\"\n",
    "word = \"in\""
   ]
  },
  {
   "cell_type": "code",
   "execution_count": 38,
   "metadata": {},
   "outputs": [
    {
     "name": "stdout",
     "output_type": "stream",
     "text": [
      "industries.\n",
      "Industry\n"
     ]
    }
   ],
   "source": [
    "for i in text.split(\" \"):\n",
    "    if(i[:2].lower() == word.lower()):\n",
    "        print(i)"
   ]
  },
  {
   "cell_type": "markdown",
   "metadata": {},
   "source": [
    "### 4. Word Ending with Specific Character"
   ]
  },
  {
   "cell_type": "code",
   "execution_count": 40,
   "metadata": {},
   "outputs": [
    {
     "name": "stdout",
     "output_type": "stream",
     "text": [
      "the\n",
      "revolutionize\n",
      "the\n",
      "The\n",
      "change\n"
     ]
    }
   ],
   "source": [
    "word = 'e'\n",
    "for i in text.split(\" \"):\n",
    "    if(i[-1:] == word):\n",
    "        print(i)"
   ]
  },
  {
   "cell_type": "code",
   "execution_count": null,
   "metadata": {},
   "outputs": [],
   "source": []
  }
 ],
 "metadata": {
  "kernelspec": {
   "display_name": "Python 3",
   "language": "python",
   "name": "python3"
  },
  "language_info": {
   "codemirror_mode": {
    "name": "ipython",
    "version": 3
   },
   "file_extension": ".py",
   "mimetype": "text/x-python",
   "name": "python",
   "nbconvert_exporter": "python",
   "pygments_lexer": "ipython3",
   "version": "3.11.8"
  }
 },
 "nbformat": 4,
 "nbformat_minor": 2
}
