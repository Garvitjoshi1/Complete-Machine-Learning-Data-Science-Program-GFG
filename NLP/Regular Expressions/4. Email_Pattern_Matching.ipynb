{
 "cells": [
  {
   "cell_type": "code",
   "execution_count": 5,
   "metadata": {},
   "outputs": [
    {
     "name": "stdout",
     "output_type": "stream",
     "text": [
      "<re.Match object; span=(0, 6), match='esbeck'>\n",
      "<re.Match object; span=(0, 8), match='credmond'>\n",
      "<re.Match object; span=(0, 7), match='engelen'>\n",
      "<re.Match object; span=(0, 6), match='jipsen'>\n",
      "<re.Match object; span=(0, 6), match='pkplex'>\n",
      "<re.Match object; span=(0, 6), match='fluffy'>\n",
      "<re.Match object; span=(0, 5), match='euice'>\n",
      "<re.Match object; span=(0, 7), match='drolsky'>\n",
      "<re.Match object; span=(0, 6), match='msherr'>\n",
      "<re.Match object; span=(0, 5), match='danny'>\n"
     ]
    }
   ],
   "source": [
    "import re\n",
    "\n",
    "mail = [\"esbeck@outlook.com\",\n",
    "\"credmond@aol.com\",\"engelen@comcast.net\",\"jipsen@icloud.com\",\"pkplex@yahoo.com\",\"fluffy@outlook.com\",\"euice@me.com\",\"drolsky@yahoo.ca\",\"msherr@att.net\"\n",
    "\"mhoffman@comcast.net\",\"danny@aol.com\"]\n",
    "p = '[A-Za-z0-9]+'\n",
    "for i in mail:\n",
    "    print(re.search(p, i))"
   ]
  },
  {
   "cell_type": "markdown",
   "metadata": {},
   "source": [
    "### Email ID with Specific Domains"
   ]
  },
  {
   "cell_type": "code",
   "execution_count": 7,
   "metadata": {},
   "outputs": [
    {
     "data": {
      "text/plain": [
       "<re.Match object; span=(0, 16), match='garvit@hello.org'>"
      ]
     },
     "execution_count": 7,
     "metadata": {},
     "output_type": "execute_result"
    }
   ],
   "source": [
    "mail = \"garvit@hello.org\"\n",
    "p = '[A-Za-z0-9]+@(hello.org)' # after + add the specific domain you need mail id\n",
    "re.search(p, mail)"
   ]
  },
  {
   "cell_type": "markdown",
   "metadata": {},
   "source": [
    "### Email ID with Multiple Domains"
   ]
  },
  {
   "cell_type": "code",
   "execution_count": 14,
   "metadata": {},
   "outputs": [
    {
     "name": "stdout",
     "output_type": "stream",
     "text": [
      "<re.Match object; span=(0, 13), match='garvit@lpu.in'>\n",
      "<re.Match object; span=(0, 13), match='ashish@gov.in'>\n",
      "<re.Match object; span=(0, 15), match='keshav@yahoo.in'>\n"
     ]
    }
   ],
   "source": [
    "mail = [\"garvit@lpu.in\", \"jatin@hello.org\", \"ashish@gov.in\", \"keshav@yahoo.in\"]\n",
    "p = '[A-Za-z0-9]+@[A-Za-z0-9]+.(in)'\n",
    "for i in mail:\n",
    "    if re.match(p, i): # to avoid None as output by non-in(domain) mail-ids\n",
    "        print(re.search(p, i))"
   ]
  },
  {
   "cell_type": "code",
   "execution_count": null,
   "metadata": {},
   "outputs": [],
   "source": []
  }
 ],
 "metadata": {
  "kernelspec": {
   "display_name": "Python 3",
   "language": "python",
   "name": "python3"
  },
  "language_info": {
   "codemirror_mode": {
    "name": "ipython",
    "version": 3
   },
   "file_extension": ".py",
   "mimetype": "text/x-python",
   "name": "python",
   "nbconvert_exporter": "python",
   "pygments_lexer": "ipython3",
   "version": "3.11.8"
  }
 },
 "nbformat": 4,
 "nbformat_minor": 2
}
