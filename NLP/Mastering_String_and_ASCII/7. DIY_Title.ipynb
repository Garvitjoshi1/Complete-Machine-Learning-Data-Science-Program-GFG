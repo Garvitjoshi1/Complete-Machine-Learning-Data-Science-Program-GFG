{
 "cells": [
  {
   "cell_type": "markdown",
   "metadata": {},
   "source": [
    "*title()*: *helps* *you* *to* *upperCase* *each* *first* *alphabet* *of* *each* *word* *in* *a* *string*"
   ]
  },
  {
   "cell_type": "code",
   "execution_count": 1,
   "metadata": {},
   "outputs": [],
   "source": [
    "txt = \"Hello everyone, Welcome to GFG.\""
   ]
  },
  {
   "cell_type": "code",
   "execution_count": 3,
   "metadata": {},
   "outputs": [
    {
     "name": "stdout",
     "output_type": "stream",
     "text": [
      "Hello\n",
      "Everyone,\n",
      "Welcome\n",
      "To\n",
      "Gfg.\n"
     ]
    }
   ],
   "source": [
    "# by pre-defined function:\n",
    "for words in txt.split(' '):\n",
    "    print(words[0].upper() + words[1:].lower())"
   ]
  },
  {
   "cell_type": "code",
   "execution_count": 6,
   "metadata": {},
   "outputs": [],
   "source": [
    "# by user-defined functions:\n",
    "def upper(text):    \n",
    "    string = ''\n",
    "    for char in text:\n",
    "        if(ord(char) >= 97 and ord(char) <= 122):\n",
    "            string += chr(ord(char) - 32)\n",
    "        else:\n",
    "            string += char\n",
    "    return string\n",
    "\n",
    "def lower(text):    \n",
    "    string = ''\n",
    "    for char in text:\n",
    "        if(ord(char) >= 65 and ord(char) <= 90):\n",
    "            string += chr(ord(char) + 32)\n",
    "        else:\n",
    "            string += char\n",
    "    return string"
   ]
  },
  {
   "cell_type": "code",
   "execution_count": 17,
   "metadata": {},
   "outputs": [],
   "source": [
    "def title(text):\n",
    "    output = []\n",
    "\n",
    "    for word in text.split(' '):\n",
    "        output.append(upper(word[0]) + lower(word[1:]))\n",
    "        \n",
    "    return ' '.join(output)"
   ]
  },
  {
   "cell_type": "code",
   "execution_count": 18,
   "metadata": {},
   "outputs": [
    {
     "name": "stdout",
     "output_type": "stream",
     "text": [
      "Hello, How Are You?\n"
     ]
    }
   ],
   "source": [
    "text = \"hello, how are you?\"\n",
    "print(title(text))"
   ]
  },
  {
   "cell_type": "code",
   "execution_count": null,
   "metadata": {},
   "outputs": [],
   "source": []
  }
 ],
 "metadata": {
  "kernelspec": {
   "display_name": "Python 3",
   "language": "python",
   "name": "python3"
  },
  "language_info": {
   "codemirror_mode": {
    "name": "ipython",
    "version": 3
   },
   "file_extension": ".py",
   "mimetype": "text/x-python",
   "name": "python",
   "nbconvert_exporter": "python",
   "pygments_lexer": "ipython3",
   "version": "3.11.8"
  }
 },
 "nbformat": 4,
 "nbformat_minor": 2
}
