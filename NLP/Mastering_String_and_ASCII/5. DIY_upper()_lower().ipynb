{
 "cells": [
  {
   "cell_type": "code",
   "execution_count": 8,
   "metadata": {},
   "outputs": [],
   "source": [
    "txt = \"HELLO, how are you?\""
   ]
  },
  {
   "cell_type": "markdown",
   "metadata": {},
   "source": [
    "## 1. UpperCase Funciton:\n",
    "- `` 65-90 is for upper case.``\n",
    "- ``97-122 are in lower case.``"
   ]
  },
  {
   "cell_type": "code",
   "execution_count": 9,
   "metadata": {},
   "outputs": [
    {
     "name": "stdout",
     "output_type": "stream",
     "text": [
      "H   72\n",
      "E   69\n",
      "L   76\n",
      "L   76\n",
      "O   79\n",
      ",   44\n",
      "    32\n",
      "h   104\n",
      "o   111\n",
      "w   119\n",
      "    32\n",
      "a   97\n",
      "r   114\n",
      "e   101\n",
      "    32\n",
      "y   121\n",
      "o   111\n",
      "u   117\n",
      "?   63\n"
     ]
    }
   ],
   "source": [
    "for char in txt:\n",
    "    print(char,\" \", ord(char))"
   ]
  },
  {
   "cell_type": "code",
   "execution_count": 16,
   "metadata": {},
   "outputs": [
    {
     "name": "stdout",
     "output_type": "stream",
     "text": [
      "H\n",
      "E\n",
      "L\n",
      "L\n",
      "O\n",
      "h 104\n",
      "o 111\n",
      "w 119\n",
      "a 97\n",
      "r 114\n",
      "e 101\n",
      "y 121\n",
      "o 111\n",
      "u 117\n"
     ]
    }
   ],
   "source": [
    "for char in txt:\n",
    "    if(ord(char) >= 65 and ord(char) <= 90):\n",
    "        print(char) #no change in values because they are already in upper case and same is applicable to special characters\n",
    "    elif(ord(char) >= 97 and ord(char) <= 122):\n",
    "       print(char, ord(char))"
   ]
  },
  {
   "cell_type": "markdown",
   "metadata": {},
   "source": [
    "## 2. UpperCase Function(User-defined):"
   ]
  },
  {
   "cell_type": "code",
   "execution_count": 25,
   "metadata": {},
   "outputs": [],
   "source": [
    "def upper(text):    \n",
    "    string = ''\n",
    "    for char in text:\n",
    "        if(ord(char) >= 97 and ord(char) <= 122):\n",
    "            string += chr(ord(char) - 32)\n",
    "        else:\n",
    "            string += char\n",
    "    return string"
   ]
  },
  {
   "cell_type": "code",
   "execution_count": 26,
   "metadata": {},
   "outputs": [
    {
     "name": "stdout",
     "output_type": "stream",
     "text": [
      "HELLO\n"
     ]
    }
   ],
   "source": [
    "text = input(\"Enter the text you want in uppercase: \")\n",
    "print(upper(text))"
   ]
  },
  {
   "cell_type": "markdown",
   "metadata": {},
   "source": [
    "## 3.LowerCase(User-defined):"
   ]
  },
  {
   "cell_type": "code",
   "execution_count": 29,
   "metadata": {},
   "outputs": [],
   "source": [
    "def lower(text):    \n",
    "    string = ''\n",
    "    for char in text:\n",
    "        if(ord(char) >= 65 and ord(char) <= 90):\n",
    "            string += chr(ord(char) + 32)\n",
    "        else:\n",
    "            string += char\n",
    "    return string"
   ]
  },
  {
   "cell_type": "code",
   "execution_count": 30,
   "metadata": {},
   "outputs": [
    {
     "name": "stdout",
     "output_type": "stream",
     "text": [
      "hello\n"
     ]
    }
   ],
   "source": [
    "print(lower(\"HELLO\"))"
   ]
  },
  {
   "cell_type": "code",
   "execution_count": null,
   "metadata": {},
   "outputs": [],
   "source": []
  }
 ],
 "metadata": {
  "kernelspec": {
   "display_name": "Python 3",
   "language": "python",
   "name": "python3"
  },
  "language_info": {
   "codemirror_mode": {
    "name": "ipython",
    "version": 3
   },
   "file_extension": ".py",
   "mimetype": "text/x-python",
   "name": "python",
   "nbconvert_exporter": "python",
   "pygments_lexer": "ipython3",
   "version": "3.11.8"
  }
 },
 "nbformat": 4,
 "nbformat_minor": 2
}
