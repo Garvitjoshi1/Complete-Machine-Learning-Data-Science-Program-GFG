{
 "cells": [
  {
   "cell_type": "code",
   "execution_count": 1,
   "metadata": {},
   "outputs": [],
   "source": [
    "import spacy, nltk"
   ]
  },
  {
   "cell_type": "code",
   "execution_count": 2,
   "metadata": {},
   "outputs": [],
   "source": [
    "nlp = spacy.load(\"en_core_web_lg\")"
   ]
  },
  {
   "cell_type": "code",
   "execution_count": 3,
   "metadata": {},
   "outputs": [],
   "source": [
    "text = nlp(\"GFG is Looking for Data Science Interns\")"
   ]
  },
  {
   "cell_type": "code",
   "execution_count": 4,
   "metadata": {},
   "outputs": [
    {
     "data": {
      "text/plain": [
       "GFG is Looking for Data Science Interns"
      ]
     },
     "execution_count": 4,
     "metadata": {},
     "output_type": "execute_result"
    }
   ],
   "source": [
    "text"
   ]
  },
  {
   "cell_type": "markdown",
   "metadata": {},
   "source": [
    "### 1. Tokenization"
   ]
  },
  {
   "cell_type": "code",
   "execution_count": 8,
   "metadata": {},
   "outputs": [
    {
     "name": "stdout",
     "output_type": "stream",
     "text": [
      "GFG\n",
      "<class 'spacy.tokens.token.Token'>\n",
      "is\n",
      "<class 'spacy.tokens.token.Token'>\n",
      "Looking\n",
      "<class 'spacy.tokens.token.Token'>\n",
      "for\n",
      "<class 'spacy.tokens.token.Token'>\n",
      "Data\n",
      "<class 'spacy.tokens.token.Token'>\n",
      "Science\n",
      "<class 'spacy.tokens.token.Token'>\n",
      "Interns\n",
      "<class 'spacy.tokens.token.Token'>\n"
     ]
    }
   ],
   "source": [
    "for tokens in text:\n",
    "    print(tokens)\n",
    "    print(type(tokens))"
   ]
  },
  {
   "cell_type": "code",
   "execution_count": 9,
   "metadata": {},
   "outputs": [
    {
     "name": "stdout",
     "output_type": "stream",
     "text": [
      "GFG\n",
      "<class 'str'>\n",
      "is\n",
      "<class 'str'>\n",
      "Looking\n",
      "<class 'str'>\n",
      "for\n",
      "<class 'str'>\n",
      "Data\n",
      "<class 'str'>\n",
      "Science\n",
      "<class 'str'>\n",
      "Interns\n",
      "<class 'str'>\n"
     ]
    }
   ],
   "source": [
    "for i in text:\n",
    "    print(i.text)\n",
    "    print(type(i.text))"
   ]
  },
  {
   "cell_type": "code",
   "execution_count": 12,
   "metadata": {},
   "outputs": [],
   "source": [
    "text = nlp(\"The cost of iphone in U.K is $699\")"
   ]
  },
  {
   "cell_type": "code",
   "execution_count": 13,
   "metadata": {},
   "outputs": [
    {
     "name": "stdout",
     "output_type": "stream",
     "text": [
      "The\n",
      "cost\n",
      "of\n",
      "iphone\n",
      "in\n",
      "U.K\n",
      "is\n",
      "$\n",
      "699\n"
     ]
    }
   ],
   "source": [
    "for token in text:\n",
    "    print(token)"
   ]
  },
  {
   "cell_type": "markdown",
   "metadata": {},
   "source": [
    "### 2. POS-Tags"
   ]
  },
  {
   "cell_type": "code",
   "execution_count": 15,
   "metadata": {},
   "outputs": [
    {
     "name": "stdout",
     "output_type": "stream",
     "text": [
      "The 90\n",
      "cost 92\n",
      "of 85\n",
      "iphone 92\n",
      "in 85\n",
      "U.K 96\n",
      "is 87\n",
      "$ 99\n",
      "699 93\n"
     ]
    }
   ],
   "source": [
    "for token in text:\n",
    "    print(token.text, token.pos)\n",
    "    # token.pos gives a numerical code to each word"
   ]
  },
  {
   "cell_type": "code",
   "execution_count": 17,
   "metadata": {},
   "outputs": [
    {
     "name": "stdout",
     "output_type": "stream",
     "text": [
      "The DET\n",
      "cost NOUN\n",
      "of ADP\n",
      "iphone NOUN\n",
      "in ADP\n",
      "U.K PROPN\n",
      "is AUX\n",
      "$ SYM\n",
      "699 NUM\n"
     ]
    }
   ],
   "source": [
    "for token in text:\n",
    "    print(token.text, token.pos_)\n",
    "    # pos_ tells which Part-of-Speech does this word belong to"
   ]
  },
  {
   "cell_type": "markdown",
   "metadata": {},
   "source": [
    "### 3. Sentence Tokenization"
   ]
  },
  {
   "cell_type": "code",
   "execution_count": 22,
   "metadata": {},
   "outputs": [],
   "source": [
    "txt = nlp('This is sentence one. This is second sentence. This is last sentence. Lets Study now.')"
   ]
  },
  {
   "cell_type": "code",
   "execution_count": 26,
   "metadata": {},
   "outputs": [
    {
     "name": "stdout",
     "output_type": "stream",
     "text": [
      "This is sentence one.\n",
      "This is second sentence.\n",
      "This is last sentence.\n",
      "Lets Study now.\n"
     ]
    }
   ],
   "source": [
    "for sent in txt.sents:\n",
    "    print(sent)"
   ]
  },
  {
   "cell_type": "code",
   "execution_count": 27,
   "metadata": {},
   "outputs": [],
   "source": [
    "import nltk"
   ]
  },
  {
   "cell_type": "code",
   "execution_count": 36,
   "metadata": {},
   "outputs": [
    {
     "name": "stderr",
     "output_type": "stream",
     "text": [
      "[nltk_data] Downloading package punkt to\n",
      "[nltk_data]     C:\\Users\\LENOVO\\AppData\\Roaming\\nltk_data...\n",
      "[nltk_data]   Package punkt is already up-to-date!\n"
     ]
    },
    {
     "data": {
      "text/plain": [
       "True"
      ]
     },
     "execution_count": 36,
     "metadata": {},
     "output_type": "execute_result"
    }
   ],
   "source": [
    "from nltk.tokenize import sent_tokenize, word_tokenize\n",
    "nltk.download(\"punkt\")"
   ]
  },
  {
   "cell_type": "markdown",
   "metadata": {},
   "source": [
    "``Why is a punkt used in NLP? This tokenizer divides a text into a list of sentences by using an unsupervised algorithm to build a model for abbreviation words, collocations, and words that start sentences.``"
   ]
  },
  {
   "cell_type": "code",
   "execution_count": 41,
   "metadata": {},
   "outputs": [
    {
     "data": {
      "text/plain": [
       "['This is sentence one.',\n",
       " 'This is second sentence.',\n",
       " 'This is last sentence.',\n",
       " 'Lets Study now.']"
      ]
     },
     "execution_count": 41,
     "metadata": {},
     "output_type": "execute_result"
    }
   ],
   "source": [
    "sent_tokenize('This is sentence one. This is second sentence. This is last sentence. Lets Study now.')"
   ]
  },
  {
   "cell_type": "code",
   "execution_count": null,
   "metadata": {},
   "outputs": [],
   "source": []
  }
 ],
 "metadata": {
  "kernelspec": {
   "display_name": "Python 3",
   "language": "python",
   "name": "python3"
  },
  "language_info": {
   "codemirror_mode": {
    "name": "ipython",
    "version": 3
   },
   "file_extension": ".py",
   "mimetype": "text/x-python",
   "name": "python",
   "nbconvert_exporter": "python",
   "pygments_lexer": "ipython3",
   "version": "3.11.8"
  }
 },
 "nbformat": 4,
 "nbformat_minor": 2
}
