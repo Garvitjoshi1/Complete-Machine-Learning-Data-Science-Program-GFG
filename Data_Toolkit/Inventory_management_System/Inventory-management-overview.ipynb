{
 "cells": [
  {
   "cell_type": "code",
   "execution_count": 1,
   "id": "f8adcc81",
   "metadata": {},
   "outputs": [],
   "source": [
    "fd = open(\"Inventory.txt\", 'w')\n",
    "\n",
    "fd.close()"
   ]
  },
  {
   "cell_type": "markdown",
   "id": "e487d7b6",
   "metadata": {},
   "source": [
    "# Product details\n",
    "1. Product ID\n",
    "2. Name of Product\n",
    "3. Price Of product\n",
    "4. Quantity"
   ]
  },
  {
   "cell_type": "code",
   "execution_count": 2,
   "id": "a6beb79f",
   "metadata": {},
   "outputs": [],
   "source": [
    "fd = open('Inventory.txt', 'r')\n",
    "\n",
    "txt = fd.read()\n",
    "\n",
    "fd.close()"
   ]
  },
  {
   "cell_type": "code",
   "execution_count": 18,
   "id": "8906a442",
   "metadata": {},
   "outputs": [
    {
     "name": "stdout",
     "output_type": "stream",
     "text": [
      "1\n",
      "2\n",
      "3\n",
      "4\n"
     ]
    }
   ],
   "source": [
    "fd = open('Inventory.txt', 'r')\n",
    "for i in fd:\n",
    "    print(i[0])"
   ]
  },
  {
   "cell_type": "code",
   "execution_count": 3,
   "id": "2c5ea388",
   "metadata": {},
   "outputs": [
    {
     "data": {
      "text/plain": [
       "'1, 5 star, 5,100\\n2, Milky Bar, 5,100\\n3, Cake, 300, 5\\n4, Candy, 1, 100'"
      ]
     },
     "execution_count": 3,
     "metadata": {},
     "output_type": "execute_result"
    }
   ],
   "source": [
    "txt"
   ]
  },
  {
   "cell_type": "code",
   "execution_count": 4,
   "id": "d80f275c",
   "metadata": {
    "scrolled": true
   },
   "outputs": [
    {
     "name": "stdout",
     "output_type": "stream",
     "text": [
      "1, 5 star, 5,100\n",
      "2, Milky Bar, 5,100\n",
      "3, Cake, 300, 5\n",
      "4, Candy, 1, 100\n"
     ]
    }
   ],
   "source": [
    "print(txt)"
   ]
  },
  {
   "cell_type": "code",
   "execution_count": 5,
   "id": "54a0db87",
   "metadata": {
    "scrolled": true
   },
   "outputs": [
    {
     "data": {
      "text/plain": [
       "['1, 5 star, 5,100',\n",
       " '2, Milky Bar, 5,100',\n",
       " '3, Cake, 300, 5',\n",
       " '4, Candy, 1, 100']"
      ]
     },
     "execution_count": 5,
     "metadata": {},
     "output_type": "execute_result"
    }
   ],
   "source": [
    "txt.split('\\n')"
   ]
  },
  {
   "cell_type": "code",
   "execution_count": 6,
   "id": "569b16a6",
   "metadata": {},
   "outputs": [
    {
     "data": {
      "text/plain": [
       "4"
      ]
     },
     "execution_count": 6,
     "metadata": {},
     "output_type": "execute_result"
    }
   ],
   "source": [
    "len(txt.split('\\n'))"
   ]
  },
  {
   "cell_type": "markdown",
   "id": "263a8d4b",
   "metadata": {},
   "source": [
    "* if we have an empty line at the end"
   ]
  },
  {
   "cell_type": "markdown",
   "id": "3db85b62",
   "metadata": {},
   "source": [
    "# Advanced manner to represent"
   ]
  },
  {
   "cell_type": "code",
   "execution_count": 7,
   "id": "b0901918",
   "metadata": {},
   "outputs": [],
   "source": [
    "fd = open('Inventory.txt', 'r')\n",
    "\n",
    "products = fd.read().split('\\n')\n",
    "\n",
    "fd.close()"
   ]
  },
  {
   "cell_type": "code",
   "execution_count": 8,
   "id": "fa0943c2",
   "metadata": {},
   "outputs": [
    {
     "data": {
      "text/plain": [
       "['1, 5 star, 5,100',\n",
       " '2, Milky Bar, 5,100',\n",
       " '3, Cake, 300, 5',\n",
       " '4, Candy, 1, 100']"
      ]
     },
     "execution_count": 8,
     "metadata": {},
     "output_type": "execute_result"
    }
   ],
   "source": [
    "products"
   ]
  },
  {
   "cell_type": "code",
   "execution_count": 9,
   "id": "122bc917",
   "metadata": {
    "scrolled": true
   },
   "outputs": [
    {
     "name": "stdout",
     "output_type": "stream",
     "text": [
      "1, 5 star, 5,100\n",
      "2, Milky Bar, 5,100\n",
      "3, Cake, 300, 5\n",
      "4, Candy, 1, 100\n"
     ]
    }
   ],
   "source": [
    "for product in products:\n",
    "    print(product)"
   ]
  },
  {
   "cell_type": "code",
   "execution_count": 10,
   "id": "38f3c2d0",
   "metadata": {},
   "outputs": [
    {
     "data": {
      "text/plain": [
       "list"
      ]
     },
     "execution_count": 10,
     "metadata": {},
     "output_type": "execute_result"
    }
   ],
   "source": [
    "type(products)\n",
    "# this is list and element inside are string so we can perform slicing here"
   ]
  },
  {
   "cell_type": "code",
   "execution_count": 11,
   "id": "399006d1",
   "metadata": {},
   "outputs": [
    {
     "name": "stdout",
     "output_type": "stream",
     "text": [
      "<class 'str'>\n",
      "<class 'str'>\n",
      "<class 'str'>\n",
      "<class 'str'>\n"
     ]
    }
   ],
   "source": [
    "for product in products:\n",
    "    print(type(product))"
   ]
  },
  {
   "cell_type": "code",
   "execution_count": 12,
   "id": "41666a9f",
   "metadata": {},
   "outputs": [
    {
     "name": "stdout",
     "output_type": "stream",
     "text": [
      "['1', ' 5 star', ' 5', '100']\n",
      "['2', ' Milky Bar', ' 5', '100']\n",
      "['3', ' Cake', ' 300', ' 5']\n",
      "['4', ' Candy', ' 1', ' 100']\n"
     ]
    }
   ],
   "source": [
    "for product in products:\n",
    "    print(product.split(','))"
   ]
  },
  {
   "cell_type": "code",
   "execution_count": 13,
   "id": "27b79ca9",
   "metadata": {
    "scrolled": true
   },
   "outputs": [
    {
     "name": "stdout",
     "output_type": "stream",
     "text": [
      "1\n",
      "2\n",
      "3\n",
      "4\n"
     ]
    }
   ],
   "source": [
    "for product in products:\n",
    "    print(product.split(',')[0])"
   ]
  },
  {
   "cell_type": "code",
   "execution_count": 14,
   "id": "be76aedc",
   "metadata": {},
   "outputs": [
    {
     "name": "stdout",
     "output_type": "stream",
     "text": [
      "Enter the product ID: 3\n",
      "3, Cake, 300, 5\n"
     ]
    }
   ],
   "source": [
    "ui_product_id = input(\"Enter the product ID: \")\n",
    "\n",
    "for product in products:\n",
    "    if (product.split(',')[0] == ui_product_id):\n",
    "        print(product)\n",
    "        "
   ]
  },
  {
   "cell_type": "code",
   "execution_count": 21,
   "id": "52765e6a",
   "metadata": {},
   "outputs": [
    {
     "name": "stdout",
     "output_type": "stream",
     "text": [
      " 5 star\n",
      "['1', ' 5 star', ' 5', '100']\n",
      " Milky Bar\n",
      " Cake\n",
      " Candy\n"
     ]
    }
   ],
   "source": [
    "fd = open('Inventory.txt', 'r')\n",
    "products = fd.read().split('\\n')\n",
    "for product in products:\n",
    "    product = product.split(',')\n",
    "    print(product[1])\n",
    "    if (product[0] == '1'):\n",
    "        print(product)"
   ]
  },
  {
   "cell_type": "code",
   "execution_count": 15,
   "id": "6c3f57be",
   "metadata": {},
   "outputs": [
    {
     "name": "stdout",
     "output_type": "stream",
     "text": [
      "Enter username: Garvit\n",
      "Enter the phone number: 54457459\n",
      "Enter the mailid: gdas@gmail.com\n",
      "Enter product ID: 3\n",
      "Enter product Quantity: 4\n",
      "-----------------------------\n",
      "Product Name     :   Cake\n",
      "Price            :   300\n",
      "Quantity         :  4\n",
      "-----------------------------\n",
      "Billing Amount   :  1200\n",
      "-----------------------------\n",
      "------------------------\n",
      "Inventory Updated\n"
     ]
    }
   ],
   "source": [
    "import time\n",
    "#Taking user input\n",
    "ui_username = input(\"Enter username: \")\n",
    "ui_phone = input(\"Enter the phone number: \")\n",
    "ui_mail = input(\"Enter the mailid: \")\n",
    "ui_prod_id = input(\"Enter product ID: \")\n",
    "ui_prod_qn = input(\"Enter product Quantity: \")\n",
    "\n",
    "updated_product_lst = []\n",
    "\n",
    "\n",
    "# Going through each product details\n",
    "for product in products:\n",
    "    prod_details = product.split(',')\n",
    "    \n",
    "    #Check if product exits or not\n",
    "    if(prod_details[0] == ui_prod_id):\n",
    "        \n",
    "        #Check if we are having enough quantity or not\n",
    "        if (int(ui_prod_qn) <= int(prod_details[3])):\n",
    "            \n",
    "            # if we have enough quantity\n",
    "                print(\"-----------------------------\")\n",
    "                print(\"Product Name     : \", prod_details[1])\n",
    "                print(\"Price            : \", prod_details[2]) \n",
    "                print(\"Quantity         : \", ui_prod_qn) \n",
    "                print(\"-----------------------------\")\n",
    "                print(\"Billing Amount   : \", int(ui_prod_qn) * int(prod_details[2]))\n",
    "                print(\"-----------------------------\")\n",
    "                \n",
    "                #Updating the inventory list: \n",
    "                prod_details[3] = str(int(prod_details[3]) - int(ui_prod_qn))\n",
    "                \n",
    "                #Generating Sales in sales.txt\n",
    "                fd = open('sales.txt', 'a')\n",
    "                sales_details =  ui_username + \",\" + ui_phone + \",\" + ui_mail  + \",\" + prod_details[1] + \",\" + ui_prod_id + \",\" + ui_prod_qn + \",\" + str(int(ui_prod_qn) * int(prod_details[2])) + \",\" + time.ctime() + \"\\n\"\n",
    "                fd.write(sales_details)\n",
    "                fd.close()\n",
    "                \n",
    "        else:\n",
    "            # we don't have enough quantity\n",
    "            \n",
    "            print(\"Sorry we are not having enough quantity.\")\n",
    "            print('We are only having {} this much of Quantity'.format(prod_details[3]))\n",
    "            print(\"Would you like to purchase it ?\")\n",
    "            \n",
    "            #ask to purchase rest of the quantity\n",
    "            ch = input(\"Press Y/N: \")\n",
    "            \n",
    "            if (ch == 'Y' or ch == 'y'):\n",
    "                \n",
    "                print(\"-----------------------------\")\n",
    "                print(\"Product Name     : \", prod_details[1])\n",
    "                print(\"Price            : \", prod_details[2]) \n",
    "                print(\"Quantity         : \", prod_details[3]) \n",
    "                print(\"-----------------------------\")\n",
    "                print(\"Billing Amount   : \", int(prod_details[3]) * int(prod_details[2]))\n",
    "                print(\"-----------------------------\")\n",
    "\n",
    "                prod_details[3] = '0'\n",
    "            else:\n",
    "                \n",
    "                print(\"Thanks\")\n",
    "                \n",
    "    #Updating my inventory list\n",
    "    updated_product_lst.append(prod_details)\n",
    "    \n",
    "\n",
    "    \n",
    "lst = []\n",
    "\n",
    "#Updating my inventory string\n",
    "for i in updated_product_lst:\n",
    "    prod = i[0] +\",\"+  i[1] +\",\"+ i[2] +\",\"+ i[3] + '\\n'\n",
    "    lst.append(prod)\n",
    "\n",
    "lst[-1] = lst[-1][:-1]\n",
    "\n",
    "#Updating Inventory File\n",
    "fd = open('Inventory.txt','w')\n",
    "\n",
    "for i in lst:\n",
    "    fd.write(i)\n",
    "\n",
    "fd.close()\n",
    "\n",
    "print(\"------------------------\")\n",
    "print(\"Inventory Updated\")"
   ]
  },
  {
   "cell_type": "code",
   "execution_count": 16,
   "id": "38b5231a",
   "metadata": {},
   "outputs": [
    {
     "name": "stdout",
     "output_type": "stream",
     "text": [
      "['1', ' 5 star', ' 5', '100']\n",
      "['2', ' Milky Bar', ' 5', '100']\n",
      "['3', ' Cake', ' 300', '1']\n",
      "['4', ' Candy', ' 1', ' 100']\n"
     ]
    }
   ],
   "source": [
    "for i in updated_product_lst:\n",
    "    print(i)\n",
    "    # to check the total items left"
   ]
  },
  {
   "cell_type": "markdown",
   "id": "3a115226",
   "metadata": {},
   "source": [
    "## Move the value to representable form rather than list"
   ]
  },
  {
   "cell_type": "code",
   "execution_count": 17,
   "id": "e8e19970",
   "metadata": {},
   "outputs": [
    {
     "name": "stdout",
     "output_type": "stream",
     "text": [
      "1, 5 star, 5,100\n",
      "2, Milky Bar, 5,100\n",
      "3, Cake, 300,1\n",
      "4, Candy, 1, 100\n"
     ]
    }
   ],
   "source": [
    "for i in updated_product_lst:\n",
    "    prod = i[0] + \",\" + i[1] + \",\" + i[2] + \",\" + i[3]\n",
    "    print(prod)"
   ]
  },
  {
   "cell_type": "code",
   "execution_count": null,
   "id": "19486c5c",
   "metadata": {},
   "outputs": [],
   "source": []
  }
 ],
 "metadata": {
  "kernelspec": {
   "display_name": "Python 3 (ipykernel)",
   "language": "python",
   "name": "python3"
  },
  "language_info": {
   "codemirror_mode": {
    "name": "ipython",
    "version": 3
   },
   "file_extension": ".py",
   "mimetype": "text/x-python",
   "name": "python",
   "nbconvert_exporter": "python",
   "pygments_lexer": "ipython3",
   "version": "3.10.9"
  }
 },
 "nbformat": 4,
 "nbformat_minor": 5
}
