{
 "cells": [
  {
   "cell_type": "code",
   "execution_count": 1,
   "id": "53a1a7e7",
   "metadata": {
    "scrolled": true
   },
   "outputs": [
    {
     "name": "stdout",
     "output_type": "stream",
     "text": [
      "====================MENU=====================\n",
      "1001 | 5 Star | 10 | 200\n",
      "1002 | Bar_One | 20 | 64\n",
      "1003 | Candy | 2 | 100\n",
      "1004 | Chocalate Cake | 550 | 20\n",
      "1005 | Blueberries Cake | 650 | 5\n",
      "=============================================\n",
      "\n",
      "Enter product ID : 1002\n",
      "Enter Quantity   : 12\n",
      "=============================================\n",
      "\n",
      "Name      :  Bar_One\n",
      "Price (Rs):  20\n",
      "Quantity  :  12\n",
      "=============================================\n",
      "Billing   :  240 Rs\n",
      "=============================================\n",
      "\n",
      "=============================================\n",
      "  Thanks for your order, Inventory Updated!  \n",
      "==============================================\n"
     ]
    }
   ],
   "source": [
    "import json\n",
    "\n",
    "fd = open('Records2.json','r')\n",
    "js = fd.read()\n",
    "fd.close()\n",
    "\n",
    "record = json.loads(js)\n",
    "\n",
    "print(\"====================MENU=====================\")\n",
    "for key in record.keys():\n",
    "    print(key,'|', record[key]['Name'], '|',record[key]['Price'],'|', record[key]['Qn'])\n",
    "print(\"=============================================\")\n",
    "print('')\n",
    "\n",
    "ui_pr = str(input(\"Enter product ID : \"))\n",
    "ui_qn = int(input(\"Enter Quantity   : \"))\n",
    "\n",
    "print(\"=============================================\")\n",
    "print('')\n",
    "\n",
    "print(\"Name      : \", record[ui_pr][\"Name\"])\n",
    "print(\"Price (Rs): \", record[ui_pr][\"Price\"])\n",
    "print(\"Quantity  : \", ui_qn)\n",
    "print(\"=============================================\")\n",
    "print(\"Billing   : \", ui_qn * record[ui_pr][\"Price\"], \"Rs\")\n",
    "print(\"=============================================\")\n",
    "\n",
    "record[ui_pr]['Qn'] = record[ui_pr]['Qn'] - ui_qn\n",
    "\n",
    "js = json.dumps(record)\n",
    "\n",
    "fd = open('Records2.json','w')\n",
    "fd.write(js)\n",
    "fd.close()\n",
    "\n",
    "print('')\n",
    "print(\"=============================================\")\n",
    "print(\"  Thanks for your order, Inventory Updated!  \")\n",
    "print(\"==============================================\")"
   ]
  },
  {
   "cell_type": "code",
   "execution_count": 4,
   "id": "3d5ec563",
   "metadata": {},
   "outputs": [
    {
     "data": {
      "text/plain": [
       "{'1001': {'Name': '5 Star', 'Price': 10, 'Qn': 200},\n",
       " '1002': {'Name': 'Bar_One', 'Price': 20, 'Qn': 52},\n",
       " '1003': {'Name': 'Candy', 'Price': 2, 'Qn': 100},\n",
       " '1004': {'Name': 'Chocalate Cake', 'Price': 550, 'Qn': 20},\n",
       " '1005': {'Name': 'Blueberries Cake', 'Price': 650, 'Qn': 5}}"
      ]
     },
     "execution_count": 4,
     "metadata": {},
     "output_type": "execute_result"
    }
   ],
   "source": [
    "record"
   ]
  },
  {
   "cell_type": "code",
   "execution_count": 5,
   "id": "6d35e4ba",
   "metadata": {},
   "outputs": [
    {
     "data": {
      "text/plain": [
       "<module 'json' from 'C:\\\\Users\\\\LENOVO\\\\anaconda3\\\\lib\\\\json\\\\__init__.py'>"
      ]
     },
     "execution_count": 5,
     "metadata": {},
     "output_type": "execute_result"
    }
   ],
   "source": [
    "json"
   ]
  },
  {
   "cell_type": "code",
   "execution_count": null,
   "id": "6d464167",
   "metadata": {},
   "outputs": [],
   "source": []
  }
 ],
 "metadata": {
  "kernelspec": {
   "display_name": "Python 3 (ipykernel)",
   "language": "python",
   "name": "python3"
  },
  "language_info": {
   "codemirror_mode": {
    "name": "ipython",
    "version": 3
   },
   "file_extension": ".py",
   "mimetype": "text/x-python",
   "name": "python",
   "nbconvert_exporter": "python",
   "pygments_lexer": "ipython3",
   "version": "3.10.9"
  }
 },
 "nbformat": 4,
 "nbformat_minor": 5
}
