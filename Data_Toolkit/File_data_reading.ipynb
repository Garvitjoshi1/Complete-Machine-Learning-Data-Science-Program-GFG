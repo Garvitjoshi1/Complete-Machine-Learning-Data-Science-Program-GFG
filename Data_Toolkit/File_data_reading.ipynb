{
 "cells": [
  {
   "cell_type": "code",
   "execution_count": 1,
   "id": "e7b3fcd4",
   "metadata": {
    "scrolled": true
   },
   "outputs": [
    {
     "name": "stdout",
     "output_type": "stream",
     "text": [
      "Coronavirus disease 2019 (COVID-19) is a contagious disease caused by severe acute respiratory syndrome coronavirus 2 (SARS-CoV-2). The first known case was identified in Wuhan, China, in December 2019.[7] The disease has since spread worldwide, leading to an ongoing pandemic.[8]\n",
      "\n",
      "Symptoms of COVID-19 are variable, but often include fever,[9] cough, headache,[10] fatigue, breathing difficulties, and loss of smell and taste.[11][12][13] Symptoms may begin one to fourteen days after exposure to the virus. At least a third of people who are infected do not develop noticeable symptoms.[14] Of those people who develop symptoms noticeable enough to be classed as patients, most (81%) develop mild to moderate symptoms (up to mild pneumonia), while 14% develop severe symptoms (dyspnea, hypoxia, or more than 50% lung involvement on imaging), and 5% suffer critical symptoms (respiratory failure, shock, or multi-organ dysfunction).[15] Older people are at a higher risk of developing severe symptoms. Some people continue to experience a range of effects (long COVID) for months after recovery, and damage to organs has been observed.[16] Multi-year studies are underway to further investigate the long-term effects of the disease.[16]\n",
      "\n",
      "COVID-19 transmits when people breathe in air contaminated by droplets and small airborne particles containing the virus. The risk of breathing these in is highest when people are in close proximity, but they can be inhaled over longer distances, particularly indoors. Transmission can also occur if splashed or sprayed with contaminated fluids in the eyes, nose or mouth, and, rarely, via contaminated surfaces. People remain contagious for up to 20 days, and can spread the virus even if they do not develop symptoms.[17][18]\n",
      "\n",
      "Several testing methods have been developed to diagnose the disease. The standard diagnostic method is by detection of the virus' nucleic acid by real-time reverse transcription polymerase chain reaction (rRT-PCR), transcription-mediated amplification (TMA), or by reverse transcription loop-mediated isothermal amplification (RT-LAMP) from a nasopharyngeal swab.\n",
      "\n",
      "Preventive measures include physical or social distancing, quarantining, ventilation of indoor spaces, covering coughs and sneezes, hand washing, and keeping unwashed hands away from the face. The use of face masks or coverings has been recommended in public settings to minimise the risk of transmissions.\n",
      "\n",
      "While work is underway to develop drugs that inhibit the virus (and several vaccines for it have been approved and distributed in various countries, which have since initiated mass vaccination campaigns), the primary treatment is symptomatic. Management involves the treatment of symptoms, supportive care, isolation, and experimental measures.\n"
     ]
    }
   ],
   "source": [
    "fd = open('data.txt','r')\n",
    "# need to mention the file name with extension\n",
    "txt = fd.read()\n",
    "print(txt)\n",
    "\n",
    "fd.close()"
   ]
  },
  {
   "cell_type": "markdown",
   "id": "8174ea80",
   "metadata": {},
   "source": [
    "### Reading data from a corpus(multiple file or large data with multiple paragraphs)."
   ]
  },
  {
   "cell_type": "code",
   "execution_count": 2,
   "id": "229a7ee8",
   "metadata": {},
   "outputs": [
    {
     "data": {
      "text/plain": [
       "\"Coronavirus disease 2019 (COVID-19) is a contagious disease caused by severe acute respiratory syndrome coronavirus 2 (SARS-CoV-2). The first known case was identified in Wuhan, China, in December 2019.[7] The disease has since spread worldwide, leading to an ongoing pandemic.[8]\\n\\nSymptoms of COVID-19 are variable, but often include fever,[9] cough, headache,[10] fatigue, breathing difficulties, and loss of smell and taste.[11][12][13] Symptoms may begin one to fourteen days after exposure to the virus. At least a third of people who are infected do not develop noticeable symptoms.[14] Of those people who develop symptoms noticeable enough to be classed as patients, most (81%) develop mild to moderate symptoms (up to mild pneumonia), while 14% develop severe symptoms (dyspnea, hypoxia, or more than 50% lung involvement on imaging), and 5% suffer critical symptoms (respiratory failure, shock, or multi-organ dysfunction).[15] Older people are at a higher risk of developing severe symptoms. Some people continue to experience a range of effects (long COVID) for months after recovery, and damage to organs has been observed.[16] Multi-year studies are underway to further investigate the long-term effects of the disease.[16]\\n\\nCOVID-19 transmits when people breathe in air contaminated by droplets and small airborne particles containing the virus. The risk of breathing these in is highest when people are in close proximity, but they can be inhaled over longer distances, particularly indoors. Transmission can also occur if splashed or sprayed with contaminated fluids in the eyes, nose or mouth, and, rarely, via contaminated surfaces. People remain contagious for up to 20 days, and can spread the virus even if they do not develop symptoms.[17][18]\\n\\nSeveral testing methods have been developed to diagnose the disease. The standard diagnostic method is by detection of the virus' nucleic acid by real-time reverse transcription polymerase chain reaction (rRT-PCR), transcription-mediated amplification (TMA), or by reverse transcription loop-mediated isothermal amplification (RT-LAMP) from a nasopharyngeal swab.\\n\\nPreventive measures include physical or social distancing, quarantining, ventilation of indoor spaces, covering coughs and sneezes, hand washing, and keeping unwashed hands away from the face. The use of face masks or coverings has been recommended in public settings to minimise the risk of transmissions.\\n\\nWhile work is underway to develop drugs that inhibit the virus (and several vaccines for it have been approved and distributed in various countries, which have since initiated mass vaccination campaigns), the primary treatment is symptomatic. Management involves the treatment of symptoms, supportive care, isolation, and experimental measures.\""
      ]
     },
     "execution_count": 2,
     "metadata": {},
     "output_type": "execute_result"
    }
   ],
   "source": [
    "txt"
   ]
  },
  {
   "cell_type": "code",
   "execution_count": 3,
   "id": "19d20cea",
   "metadata": {},
   "outputs": [
    {
     "data": {
      "text/plain": [
       "\"Coronavirus disease 2019 (COVID-19) is a contagious disease caused by severe acute respiratory syndrome coronavirus 2 (SARS-CoV-2). The first known case was identified in Wuhan, China, in December 2019.[7] The disease has since spread worldwide, leading to an ongoing pandemic.[8] Symptoms of COVID-19 are variable, but often include fever,[9] cough, headache,[10] fatigue, breathing difficulties, and loss of smell and taste.[11][12][13] Symptoms may begin one to fourteen days after exposure to the virus. At least a third of people who are infected do not develop noticeable symptoms.[14] Of those people who develop symptoms noticeable enough to be classed as patients, most (81%) develop mild to moderate symptoms (up to mild pneumonia), while 14% develop severe symptoms (dyspnea, hypoxia, or more than 50% lung involvement on imaging), and 5% suffer critical symptoms (respiratory failure, shock, or multi-organ dysfunction).[15] Older people are at a higher risk of developing severe symptoms. Some people continue to experience a range of effects (long COVID) for months after recovery, and damage to organs has been observed.[16] Multi-year studies are underway to further investigate the long-term effects of the disease.[16] COVID-19 transmits when people breathe in air contaminated by droplets and small airborne particles containing the virus. The risk of breathing these in is highest when people are in close proximity, but they can be inhaled over longer distances, particularly indoors. Transmission can also occur if splashed or sprayed with contaminated fluids in the eyes, nose or mouth, and, rarely, via contaminated surfaces. People remain contagious for up to 20 days, and can spread the virus even if they do not develop symptoms.[17][18] Several testing methods have been developed to diagnose the disease. The standard diagnostic method is by detection of the virus' nucleic acid by real-time reverse transcription polymerase chain reaction (rRT-PCR), transcription-mediated amplification (TMA), or by reverse transcription loop-mediated isothermal amplification (RT-LAMP) from a nasopharyngeal swab. Preventive measures include physical or social distancing, quarantining, ventilation of indoor spaces, covering coughs and sneezes, hand washing, and keeping unwashed hands away from the face. The use of face masks or coverings has been recommended in public settings to minimise the risk of transmissions. While work is underway to develop drugs that inhibit the virus (and several vaccines for it have been approved and distributed in various countries, which have since initiated mass vaccination campaigns), the primary treatment is symptomatic. Management involves the treatment of symptoms, supportive care, isolation, and experimental measures.\""
      ]
     },
     "execution_count": 3,
     "metadata": {},
     "output_type": "execute_result"
    }
   ],
   "source": [
    "txt.replace(\"\\n\\n\",' ')"
   ]
  },
  {
   "cell_type": "code",
   "execution_count": 4,
   "id": "1f9974ac",
   "metadata": {},
   "outputs": [
    {
     "name": "stdout",
     "output_type": "stream",
     "text": [
      "Coronavirus disease 2019 (COVID-19) is a contagious disease caused by severe acute respiratory syndrome coronavirus 2 (SARS-CoV-2). The first known case was identified in Wuhan, China, in December 2019.[7] The disease has since spread worldwide, leading to an ongoing pandemic.[8]\n",
      "\n",
      "Symptoms of COVID-19 are variable, but often include fever,[9] cough, headache,[10] fatigue, breathing difficulties, and loss of smell and taste.[11][12][13] Symptoms may begin one to fourteen days after exposure to the virus. At least a third of people who are infected do not develop noticeable symptoms.[14] Of those people who develop symptoms noticeable enough to be classed as patients, most (81%) develop mild to moderate symptoms (up to mild pneumonia), while 14% develop severe symptoms (dyspnea, hypoxia, or more than 50% lung involvement on imaging), and 5% suffer critical symptoms (respiratory failure, shock, or multi-organ dysfunction).[15] Older people are at a higher risk of developing severe symptoms. Some people continue to experience a range of effects (long COVID) for months after recovery, and damage to organs has been observed.[16] Multi-year studies are underway to further investigate the long-term effects of the disease.[16]\n",
      "\n",
      "COVID-19 transmits when people breathe in air contaminated by droplets and small airborne particles containing the virus. The risk of breathing these in is highest when people are in close proximity, but they can be inhaled over longer distances, particularly indoors. Transmission can also occur if splashed or sprayed with contaminated fluids in the eyes, nose or mouth, and, rarely, via contaminated surfaces. People remain contagious for up to 20 days, and can spread the virus even if they do not develop symptoms.[17][18]\n",
      "\n",
      "Several testing methods have been developed to diagnose the disease. The standard diagnostic method is by detection of the virus' nucleic acid by real-time reverse transcription polymerase chain reaction (rRT-PCR), transcription-mediated amplification (TMA), or by reverse transcription loop-mediated isothermal amplification (RT-LAMP) from a nasopharyngeal swab.\n",
      "\n",
      "Preventive measures include physical or social distancing, quarantining, ventilation of indoor spaces, covering coughs and sneezes, hand washing, and keeping unwashed hands away from the face. The use of face masks or coverings has been recommended in public settings to minimise the risk of transmissions.\n",
      "\n",
      "While work is underway to develop drugs that inhibit the virus (and several vaccines for it have been approved and distributed in various countries, which have since initiated mass vaccination campaigns), the primary treatment is symptomatic. Management involves the treatment of symptoms, supportive care, isolation, and experimental measures.\n"
     ]
    }
   ],
   "source": [
    "print(txt)"
   ]
  },
  {
   "cell_type": "code",
   "execution_count": 5,
   "id": "5f0f5606",
   "metadata": {},
   "outputs": [
    {
     "data": {
      "text/plain": [
       "str"
      ]
     },
     "execution_count": 5,
     "metadata": {},
     "output_type": "execute_result"
    }
   ],
   "source": [
    "type(txt)"
   ]
  },
  {
   "cell_type": "markdown",
   "id": "d128c3d6",
   "metadata": {},
   "source": [
    "## Paragraph"
   ]
  },
  {
   "cell_type": "code",
   "execution_count": 7,
   "id": "f39230e9",
   "metadata": {},
   "outputs": [],
   "source": [
    "# to check number of paragraph we have, we use slicing in string\n",
    "per = txt.split('\\n\\n')"
   ]
  },
  {
   "cell_type": "code",
   "execution_count": 8,
   "id": "62d0831a",
   "metadata": {},
   "outputs": [
    {
     "data": {
      "text/plain": [
       "['Coronavirus disease 2019 (COVID-19) is a contagious disease caused by severe acute respiratory syndrome coronavirus 2 (SARS-CoV-2). The first known case was identified in Wuhan, China, in December 2019.[7] The disease has since spread worldwide, leading to an ongoing pandemic.[8]',\n",
       " 'Symptoms of COVID-19 are variable, but often include fever,[9] cough, headache,[10] fatigue, breathing difficulties, and loss of smell and taste.[11][12][13] Symptoms may begin one to fourteen days after exposure to the virus. At least a third of people who are infected do not develop noticeable symptoms.[14] Of those people who develop symptoms noticeable enough to be classed as patients, most (81%) develop mild to moderate symptoms (up to mild pneumonia), while 14% develop severe symptoms (dyspnea, hypoxia, or more than 50% lung involvement on imaging), and 5% suffer critical symptoms (respiratory failure, shock, or multi-organ dysfunction).[15] Older people are at a higher risk of developing severe symptoms. Some people continue to experience a range of effects (long COVID) for months after recovery, and damage to organs has been observed.[16] Multi-year studies are underway to further investigate the long-term effects of the disease.[16]',\n",
       " 'COVID-19 transmits when people breathe in air contaminated by droplets and small airborne particles containing the virus. The risk of breathing these in is highest when people are in close proximity, but they can be inhaled over longer distances, particularly indoors. Transmission can also occur if splashed or sprayed with contaminated fluids in the eyes, nose or mouth, and, rarely, via contaminated surfaces. People remain contagious for up to 20 days, and can spread the virus even if they do not develop symptoms.[17][18]',\n",
       " \"Several testing methods have been developed to diagnose the disease. The standard diagnostic method is by detection of the virus' nucleic acid by real-time reverse transcription polymerase chain reaction (rRT-PCR), transcription-mediated amplification (TMA), or by reverse transcription loop-mediated isothermal amplification (RT-LAMP) from a nasopharyngeal swab.\",\n",
       " 'Preventive measures include physical or social distancing, quarantining, ventilation of indoor spaces, covering coughs and sneezes, hand washing, and keeping unwashed hands away from the face. The use of face masks or coverings has been recommended in public settings to minimise the risk of transmissions.',\n",
       " 'While work is underway to develop drugs that inhibit the virus (and several vaccines for it have been approved and distributed in various countries, which have since initiated mass vaccination campaigns), the primary treatment is symptomatic. Management involves the treatment of symptoms, supportive care, isolation, and experimental measures.']"
      ]
     },
     "execution_count": 8,
     "metadata": {},
     "output_type": "execute_result"
    }
   ],
   "source": [
    "per"
   ]
  },
  {
   "cell_type": "code",
   "execution_count": 9,
   "id": "e21869c0",
   "metadata": {},
   "outputs": [
    {
     "data": {
      "text/plain": [
       "list"
      ]
     },
     "execution_count": 9,
     "metadata": {},
     "output_type": "execute_result"
    }
   ],
   "source": [
    "type(per)"
   ]
  },
  {
   "cell_type": "code",
   "execution_count": 10,
   "id": "acebce0c",
   "metadata": {},
   "outputs": [
    {
     "name": "stdout",
     "output_type": "stream",
     "text": [
      "Coronavirus disease 2019 (COVID-19) is a contagious disease caused by severe acute respiratory syndrome coronavirus 2 (SARS-CoV-2). The first known case was identified in Wuhan, China, in December 2019.[7] The disease has since spread worldwide, leading to an ongoing pandemic.[8]\n",
      "Symptoms of COVID-19 are variable, but often include fever,[9] cough, headache,[10] fatigue, breathing difficulties, and loss of smell and taste.[11][12][13] Symptoms may begin one to fourteen days after exposure to the virus. At least a third of people who are infected do not develop noticeable symptoms.[14] Of those people who develop symptoms noticeable enough to be classed as patients, most (81%) develop mild to moderate symptoms (up to mild pneumonia), while 14% develop severe symptoms (dyspnea, hypoxia, or more than 50% lung involvement on imaging), and 5% suffer critical symptoms (respiratory failure, shock, or multi-organ dysfunction).[15] Older people are at a higher risk of developing severe symptoms. Some people continue to experience a range of effects (long COVID) for months after recovery, and damage to organs has been observed.[16] Multi-year studies are underway to further investigate the long-term effects of the disease.[16]\n",
      "COVID-19 transmits when people breathe in air contaminated by droplets and small airborne particles containing the virus. The risk of breathing these in is highest when people are in close proximity, but they can be inhaled over longer distances, particularly indoors. Transmission can also occur if splashed or sprayed with contaminated fluids in the eyes, nose or mouth, and, rarely, via contaminated surfaces. People remain contagious for up to 20 days, and can spread the virus even if they do not develop symptoms.[17][18]\n",
      "Several testing methods have been developed to diagnose the disease. The standard diagnostic method is by detection of the virus' nucleic acid by real-time reverse transcription polymerase chain reaction (rRT-PCR), transcription-mediated amplification (TMA), or by reverse transcription loop-mediated isothermal amplification (RT-LAMP) from a nasopharyngeal swab.\n",
      "Preventive measures include physical or social distancing, quarantining, ventilation of indoor spaces, covering coughs and sneezes, hand washing, and keeping unwashed hands away from the face. The use of face masks or coverings has been recommended in public settings to minimise the risk of transmissions.\n",
      "While work is underway to develop drugs that inhibit the virus (and several vaccines for it have been approved and distributed in various countries, which have since initiated mass vaccination campaigns), the primary treatment is symptomatic. Management involves the treatment of symptoms, supportive care, isolation, and experimental measures.\n"
     ]
    }
   ],
   "source": [
    "for i in per:\n",
    "    print(i)"
   ]
  },
  {
   "cell_type": "code",
   "execution_count": 11,
   "id": "b63ab1c4",
   "metadata": {},
   "outputs": [
    {
     "data": {
      "text/plain": [
       "6"
      ]
     },
     "execution_count": 11,
     "metadata": {},
     "output_type": "execute_result"
    }
   ],
   "source": [
    "len(per)"
   ]
  },
  {
   "cell_type": "markdown",
   "id": "ec075aa7",
   "metadata": {},
   "source": [
    "## Lines"
   ]
  },
  {
   "cell_type": "code",
   "execution_count": 12,
   "id": "de51b123",
   "metadata": {},
   "outputs": [
    {
     "data": {
      "text/plain": [
       "['Coronavirus disease 2019 (COVID-19) is a contagious disease caused by severe acute respiratory syndrome coronavirus 2 (SARS-CoV-2)',\n",
       " ' The first known case was identified in Wuhan, China, in December 2019',\n",
       " '[7] The disease has since spread worldwide, leading to an ongoing pandemic',\n",
       " '[8]\\n\\nSymptoms of COVID-19 are variable, but often include fever,[9] cough, headache,[10] fatigue, breathing difficulties, and loss of smell and taste',\n",
       " '[11][12][13] Symptoms may begin one to fourteen days after exposure to the virus',\n",
       " ' At least a third of people who are infected do not develop noticeable symptoms',\n",
       " '[14] Of those people who develop symptoms noticeable enough to be classed as patients, most (81%) develop mild to moderate symptoms (up to mild pneumonia), while 14% develop severe symptoms (dyspnea, hypoxia, or more than 50% lung involvement on imaging), and 5% suffer critical symptoms (respiratory failure, shock, or multi-organ dysfunction)',\n",
       " '[15] Older people are at a higher risk of developing severe symptoms',\n",
       " ' Some people continue to experience a range of effects (long COVID) for months after recovery, and damage to organs has been observed',\n",
       " '[16] Multi-year studies are underway to further investigate the long-term effects of the disease',\n",
       " '[16]\\n\\nCOVID-19 transmits when people breathe in air contaminated by droplets and small airborne particles containing the virus',\n",
       " ' The risk of breathing these in is highest when people are in close proximity, but they can be inhaled over longer distances, particularly indoors',\n",
       " ' Transmission can also occur if splashed or sprayed with contaminated fluids in the eyes, nose or mouth, and, rarely, via contaminated surfaces',\n",
       " ' People remain contagious for up to 20 days, and can spread the virus even if they do not develop symptoms',\n",
       " '[17][18]\\n\\nSeveral testing methods have been developed to diagnose the disease',\n",
       " \" The standard diagnostic method is by detection of the virus' nucleic acid by real-time reverse transcription polymerase chain reaction (rRT-PCR), transcription-mediated amplification (TMA), or by reverse transcription loop-mediated isothermal amplification (RT-LAMP) from a nasopharyngeal swab\",\n",
       " '\\n\\nPreventive measures include physical or social distancing, quarantining, ventilation of indoor spaces, covering coughs and sneezes, hand washing, and keeping unwashed hands away from the face',\n",
       " ' The use of face masks or coverings has been recommended in public settings to minimise the risk of transmissions',\n",
       " '\\n\\nWhile work is underway to develop drugs that inhibit the virus (and several vaccines for it have been approved and distributed in various countries, which have since initiated mass vaccination campaigns), the primary treatment is symptomatic',\n",
       " ' Management involves the treatment of symptoms, supportive care, isolation, and experimental measures',\n",
       " '']"
      ]
     },
     "execution_count": 12,
     "metadata": {},
     "output_type": "execute_result"
    }
   ],
   "source": [
    "line = txt.split('.')\n",
    "line"
   ]
  },
  {
   "cell_type": "code",
   "execution_count": 14,
   "id": "453c8e05",
   "metadata": {},
   "outputs": [
    {
     "data": {
      "text/plain": [
       "21"
      ]
     },
     "execution_count": 14,
     "metadata": {},
     "output_type": "execute_result"
    }
   ],
   "source": [
    "len(line)"
   ]
  },
  {
   "cell_type": "markdown",
   "id": "77005fe5",
   "metadata": {},
   "source": [
    "## Words"
   ]
  },
  {
   "cell_type": "code",
   "execution_count": 15,
   "id": "133c6a09",
   "metadata": {},
   "outputs": [
    {
     "data": {
      "text/plain": [
       "['Coronavirus',\n",
       " 'disease',\n",
       " '2019',\n",
       " '(COVID-19)',\n",
       " 'is',\n",
       " 'a',\n",
       " 'contagious',\n",
       " 'disease',\n",
       " 'caused',\n",
       " 'by',\n",
       " 'severe',\n",
       " 'acute',\n",
       " 'respiratory',\n",
       " 'syndrome',\n",
       " 'coronavirus',\n",
       " '2',\n",
       " '(SARS-CoV-2).',\n",
       " 'The',\n",
       " 'first',\n",
       " 'known',\n",
       " 'case',\n",
       " 'was',\n",
       " 'identified',\n",
       " 'in',\n",
       " 'Wuhan,',\n",
       " 'China,',\n",
       " 'in',\n",
       " 'December',\n",
       " '2019.[7]',\n",
       " 'The',\n",
       " 'disease',\n",
       " 'has',\n",
       " 'since',\n",
       " 'spread',\n",
       " 'worldwide,',\n",
       " 'leading',\n",
       " 'to',\n",
       " 'an',\n",
       " 'ongoing',\n",
       " 'pandemic.[8]\\n\\nSymptoms',\n",
       " 'of',\n",
       " 'COVID-19',\n",
       " 'are',\n",
       " 'variable,',\n",
       " 'but',\n",
       " 'often',\n",
       " 'include',\n",
       " 'fever,[9]',\n",
       " 'cough,',\n",
       " 'headache,[10]',\n",
       " 'fatigue,',\n",
       " 'breathing',\n",
       " 'difficulties,',\n",
       " 'and',\n",
       " 'loss',\n",
       " 'of',\n",
       " 'smell',\n",
       " 'and',\n",
       " 'taste.[11][12][13]',\n",
       " 'Symptoms',\n",
       " 'may',\n",
       " 'begin',\n",
       " 'one',\n",
       " 'to',\n",
       " 'fourteen',\n",
       " 'days',\n",
       " 'after',\n",
       " 'exposure',\n",
       " 'to',\n",
       " 'the',\n",
       " 'virus.',\n",
       " 'At',\n",
       " 'least',\n",
       " 'a',\n",
       " 'third',\n",
       " 'of',\n",
       " 'people',\n",
       " 'who',\n",
       " 'are',\n",
       " 'infected',\n",
       " 'do',\n",
       " 'not',\n",
       " 'develop',\n",
       " 'noticeable',\n",
       " 'symptoms.[14]',\n",
       " 'Of',\n",
       " 'those',\n",
       " 'people',\n",
       " 'who',\n",
       " 'develop',\n",
       " 'symptoms',\n",
       " 'noticeable',\n",
       " 'enough',\n",
       " 'to',\n",
       " 'be',\n",
       " 'classed',\n",
       " 'as',\n",
       " 'patients,',\n",
       " 'most',\n",
       " '(81%)',\n",
       " 'develop',\n",
       " 'mild',\n",
       " 'to',\n",
       " 'moderate',\n",
       " 'symptoms',\n",
       " '(up',\n",
       " 'to',\n",
       " 'mild',\n",
       " 'pneumonia),',\n",
       " 'while',\n",
       " '14%',\n",
       " 'develop',\n",
       " 'severe',\n",
       " 'symptoms',\n",
       " '(dyspnea,',\n",
       " 'hypoxia,',\n",
       " 'or',\n",
       " 'more',\n",
       " 'than',\n",
       " '50%',\n",
       " 'lung',\n",
       " 'involvement',\n",
       " 'on',\n",
       " 'imaging),',\n",
       " 'and',\n",
       " '5%',\n",
       " 'suffer',\n",
       " 'critical',\n",
       " 'symptoms',\n",
       " '(respiratory',\n",
       " 'failure,',\n",
       " 'shock,',\n",
       " 'or',\n",
       " 'multi-organ',\n",
       " 'dysfunction).[15]',\n",
       " 'Older',\n",
       " 'people',\n",
       " 'are',\n",
       " 'at',\n",
       " 'a',\n",
       " 'higher',\n",
       " 'risk',\n",
       " 'of',\n",
       " 'developing',\n",
       " 'severe',\n",
       " 'symptoms.',\n",
       " 'Some',\n",
       " 'people',\n",
       " 'continue',\n",
       " 'to',\n",
       " 'experience',\n",
       " 'a',\n",
       " 'range',\n",
       " 'of',\n",
       " 'effects',\n",
       " '(long',\n",
       " 'COVID)',\n",
       " 'for',\n",
       " 'months',\n",
       " 'after',\n",
       " 'recovery,',\n",
       " 'and',\n",
       " 'damage',\n",
       " 'to',\n",
       " 'organs',\n",
       " 'has',\n",
       " 'been',\n",
       " 'observed.[16]',\n",
       " 'Multi-year',\n",
       " 'studies',\n",
       " 'are',\n",
       " 'underway',\n",
       " 'to',\n",
       " 'further',\n",
       " 'investigate',\n",
       " 'the',\n",
       " 'long-term',\n",
       " 'effects',\n",
       " 'of',\n",
       " 'the',\n",
       " 'disease.[16]\\n\\nCOVID-19',\n",
       " 'transmits',\n",
       " 'when',\n",
       " 'people',\n",
       " 'breathe',\n",
       " 'in',\n",
       " 'air',\n",
       " 'contaminated',\n",
       " 'by',\n",
       " 'droplets',\n",
       " 'and',\n",
       " 'small',\n",
       " 'airborne',\n",
       " 'particles',\n",
       " 'containing',\n",
       " 'the',\n",
       " 'virus.',\n",
       " 'The',\n",
       " 'risk',\n",
       " 'of',\n",
       " 'breathing',\n",
       " 'these',\n",
       " 'in',\n",
       " 'is',\n",
       " 'highest',\n",
       " 'when',\n",
       " 'people',\n",
       " 'are',\n",
       " 'in',\n",
       " 'close',\n",
       " 'proximity,',\n",
       " 'but',\n",
       " 'they',\n",
       " 'can',\n",
       " 'be',\n",
       " 'inhaled',\n",
       " 'over',\n",
       " 'longer',\n",
       " 'distances,',\n",
       " 'particularly',\n",
       " 'indoors.',\n",
       " 'Transmission',\n",
       " 'can',\n",
       " 'also',\n",
       " 'occur',\n",
       " 'if',\n",
       " 'splashed',\n",
       " 'or',\n",
       " 'sprayed',\n",
       " 'with',\n",
       " 'contaminated',\n",
       " 'fluids',\n",
       " 'in',\n",
       " 'the',\n",
       " 'eyes,',\n",
       " 'nose',\n",
       " 'or',\n",
       " 'mouth,',\n",
       " 'and,',\n",
       " 'rarely,',\n",
       " 'via',\n",
       " 'contaminated',\n",
       " 'surfaces.',\n",
       " 'People',\n",
       " 'remain',\n",
       " 'contagious',\n",
       " 'for',\n",
       " 'up',\n",
       " 'to',\n",
       " '20',\n",
       " 'days,',\n",
       " 'and',\n",
       " 'can',\n",
       " 'spread',\n",
       " 'the',\n",
       " 'virus',\n",
       " 'even',\n",
       " 'if',\n",
       " 'they',\n",
       " 'do',\n",
       " 'not',\n",
       " 'develop',\n",
       " 'symptoms.[17][18]\\n\\nSeveral',\n",
       " 'testing',\n",
       " 'methods',\n",
       " 'have',\n",
       " 'been',\n",
       " 'developed',\n",
       " 'to',\n",
       " 'diagnose',\n",
       " 'the',\n",
       " 'disease.',\n",
       " 'The',\n",
       " 'standard',\n",
       " 'diagnostic',\n",
       " 'method',\n",
       " 'is',\n",
       " 'by',\n",
       " 'detection',\n",
       " 'of',\n",
       " 'the',\n",
       " \"virus'\",\n",
       " 'nucleic',\n",
       " 'acid',\n",
       " 'by',\n",
       " 'real-time',\n",
       " 'reverse',\n",
       " 'transcription',\n",
       " 'polymerase',\n",
       " 'chain',\n",
       " 'reaction',\n",
       " '(rRT-PCR),',\n",
       " 'transcription-mediated',\n",
       " 'amplification',\n",
       " '(TMA),',\n",
       " 'or',\n",
       " 'by',\n",
       " 'reverse',\n",
       " 'transcription',\n",
       " 'loop-mediated',\n",
       " 'isothermal',\n",
       " 'amplification',\n",
       " '(RT-LAMP)',\n",
       " 'from',\n",
       " 'a',\n",
       " 'nasopharyngeal',\n",
       " 'swab.\\n\\nPreventive',\n",
       " 'measures',\n",
       " 'include',\n",
       " 'physical',\n",
       " 'or',\n",
       " 'social',\n",
       " 'distancing,',\n",
       " 'quarantining,',\n",
       " 'ventilation',\n",
       " 'of',\n",
       " 'indoor',\n",
       " 'spaces,',\n",
       " 'covering',\n",
       " 'coughs',\n",
       " 'and',\n",
       " 'sneezes,',\n",
       " 'hand',\n",
       " 'washing,',\n",
       " 'and',\n",
       " 'keeping',\n",
       " 'unwashed',\n",
       " 'hands',\n",
       " 'away',\n",
       " 'from',\n",
       " 'the',\n",
       " 'face.',\n",
       " 'The',\n",
       " 'use',\n",
       " 'of',\n",
       " 'face',\n",
       " 'masks',\n",
       " 'or',\n",
       " 'coverings',\n",
       " 'has',\n",
       " 'been',\n",
       " 'recommended',\n",
       " 'in',\n",
       " 'public',\n",
       " 'settings',\n",
       " 'to',\n",
       " 'minimise',\n",
       " 'the',\n",
       " 'risk',\n",
       " 'of',\n",
       " 'transmissions.\\n\\nWhile',\n",
       " 'work',\n",
       " 'is',\n",
       " 'underway',\n",
       " 'to',\n",
       " 'develop',\n",
       " 'drugs',\n",
       " 'that',\n",
       " 'inhibit',\n",
       " 'the',\n",
       " 'virus',\n",
       " '(and',\n",
       " 'several',\n",
       " 'vaccines',\n",
       " 'for',\n",
       " 'it',\n",
       " 'have',\n",
       " 'been',\n",
       " 'approved',\n",
       " 'and',\n",
       " 'distributed',\n",
       " 'in',\n",
       " 'various',\n",
       " 'countries,',\n",
       " 'which',\n",
       " 'have',\n",
       " 'since',\n",
       " 'initiated',\n",
       " 'mass',\n",
       " 'vaccination',\n",
       " 'campaigns),',\n",
       " 'the',\n",
       " 'primary',\n",
       " 'treatment',\n",
       " 'is',\n",
       " 'symptomatic.',\n",
       " 'Management',\n",
       " 'involves',\n",
       " 'the',\n",
       " 'treatment',\n",
       " 'of',\n",
       " 'symptoms,',\n",
       " 'supportive',\n",
       " 'care,',\n",
       " 'isolation,',\n",
       " 'and',\n",
       " 'experimental',\n",
       " 'measures.']"
      ]
     },
     "execution_count": 15,
     "metadata": {},
     "output_type": "execute_result"
    }
   ],
   "source": [
    "word = txt.split(' ')\n",
    "word"
   ]
  },
  {
   "cell_type": "code",
   "execution_count": 16,
   "id": "245c413e",
   "metadata": {},
   "outputs": [
    {
     "data": {
      "text/plain": [
       "398"
      ]
     },
     "execution_count": 16,
     "metadata": {},
     "output_type": "execute_result"
    }
   ],
   "source": [
    "len(word)"
   ]
  },
  {
   "cell_type": "markdown",
   "id": "618d7c58",
   "metadata": {},
   "source": [
    "# Advanced Text processing:"
   ]
  },
  {
   "cell_type": "code",
   "execution_count": 19,
   "id": "f3a595d1",
   "metadata": {},
   "outputs": [
    {
     "name": "stdout",
     "output_type": "stream",
     "text": [
      "Coronavirus disease 2019 (COVID-19) is a contagious disease caused by severe acute respiratory syndrome coronavirus 2 (SARS-CoV-2). The first known case was identified in Wuhan, China, in December 2019. The disease has since spread worldwide, leading to an ongoing pandemic.[8]\n",
      "\n",
      "Symptoms of COVID-19 are variable, but often include fever,[9] cough, headache,[10] fatigue, breathing difficulties, and loss of smell and taste.[11][12][13] Symptoms may begin one to fourteen days after exposure to the virus. At least a third of people who are infected do not develop noticeable symptoms.[14] Of those people who develop symptoms noticeable enough to be classed as patients, most (81%) develop mild to moderate symptoms (up to mild pneumonia), while 14% develop severe symptoms (dyspnea, hypoxia, or more than 50% lung involvement on imaging), and 5% suffer critical symptoms (respiratory failure, shock, or multi-organ dysfunction).[15] Older people are at a higher risk of developing severe symptoms. Some people continue to experience a range of effects (long COVID) for months after recovery, and damage to organs has been observed.[16] Multi-year studies are underway to further investigate the long-term effects of the disease.[16]\n",
      "\n",
      "COVID-19 transmits when people breathe in air contaminated by droplets and small airborne particles containing the virus. The risk of breathing these in is highest when people are in close proximity, but they can be inhaled over longer distances, particularly indoors. Transmission can also occur if splashed or sprayed with contaminated fluids in the eyes, nose or mouth, and, rarely, via contaminated surfaces. People remain contagious for up to 20 days, and can spread the virus even if they do not develop symptoms.[17][18]\n",
      "\n",
      "Several testing methods have been developed to diagnose the disease. The standard diagnostic method is by detection of the virus' nucleic acid by real-time reverse transcription polymerase chain reaction (rRT-PCR), transcription-mediated amplification (TMA), or by reverse transcription loop-mediated isothermal amplification (RT-LAMP) from a nasopharyngeal swab.\n",
      "\n",
      "Preventive measures include physical or social distancing, quarantining, ventilation of indoor spaces, covering coughs and sneezes, hand washing, and keeping unwashed hands away from the face. The use of face masks or coverings has been recommended in public settings to minimise the risk of transmissions.\n",
      "\n",
      "While work is underway to develop drugs that inhibit the virus (and several vaccines for it have been approved and distributed in various countries, which have since initiated mass vaccination campaigns), the primary treatment is symptomatic. Management involves the treatment of symptoms, supportive care, isolation, and experimental measures.\n"
     ]
    }
   ],
   "source": [
    "repl = txt.replace('[7]', '')\n",
    "print(repl)\n",
    "# this replace only one [7] not all."
   ]
  },
  {
   "cell_type": "code",
   "execution_count": 23,
   "id": "5ea7d72b",
   "metadata": {},
   "outputs": [],
   "source": [
    "## code for clean data"
   ]
  },
  {
   "cell_type": "code",
   "execution_count": 20,
   "id": "2b03e791",
   "metadata": {},
   "outputs": [],
   "source": [
    "for i in range(7, 19):\n",
    "    pattern = '[' + str(i) + ']'\n",
    "    txt = txt.replace(pattern, '')"
   ]
  },
  {
   "cell_type": "code",
   "execution_count": 22,
   "id": "513e0af6",
   "metadata": {},
   "outputs": [
    {
     "name": "stdout",
     "output_type": "stream",
     "text": [
      "Coronavirus disease 2019 (COVID-19) is a contagious disease caused by severe acute respiratory syndrome coronavirus 2 (SARS-CoV-2). The first known case was identified in Wuhan, China, in December 2019. The disease has since spread worldwide, leading to an ongoing pandemic.\n",
      "\n",
      "Symptoms of COVID-19 are variable, but often include fever, cough, headache, fatigue, breathing difficulties, and loss of smell and taste. Symptoms may begin one to fourteen days after exposure to the virus. At least a third of people who are infected do not develop noticeable symptoms. Of those people who develop symptoms noticeable enough to be classed as patients, most (81%) develop mild to moderate symptoms (up to mild pneumonia), while 14% develop severe symptoms (dyspnea, hypoxia, or more than 50% lung involvement on imaging), and 5% suffer critical symptoms (respiratory failure, shock, or multi-organ dysfunction). Older people are at a higher risk of developing severe symptoms. Some people continue to experience a range of effects (long COVID) for months after recovery, and damage to organs has been observed. Multi-year studies are underway to further investigate the long-term effects of the disease.\n",
      "\n",
      "COVID-19 transmits when people breathe in air contaminated by droplets and small airborne particles containing the virus. The risk of breathing these in is highest when people are in close proximity, but they can be inhaled over longer distances, particularly indoors. Transmission can also occur if splashed or sprayed with contaminated fluids in the eyes, nose or mouth, and, rarely, via contaminated surfaces. People remain contagious for up to 20 days, and can spread the virus even if they do not develop symptoms.\n",
      "\n",
      "Several testing methods have been developed to diagnose the disease. The standard diagnostic method is by detection of the virus' nucleic acid by real-time reverse transcription polymerase chain reaction (rRT-PCR), transcription-mediated amplification (TMA), or by reverse transcription loop-mediated isothermal amplification (RT-LAMP) from a nasopharyngeal swab.\n",
      "\n",
      "Preventive measures include physical or social distancing, quarantining, ventilation of indoor spaces, covering coughs and sneezes, hand washing, and keeping unwashed hands away from the face. The use of face masks or coverings has been recommended in public settings to minimise the risk of transmissions.\n",
      "\n",
      "While work is underway to develop drugs that inhibit the virus (and several vaccines for it have been approved and distributed in various countries, which have since initiated mass vaccination campaigns), the primary treatment is symptomatic. Management involves the treatment of symptoms, supportive care, isolation, and experimental measures.\n"
     ]
    }
   ],
   "source": [
    "print(txt)"
   ]
  },
  {
   "cell_type": "code",
   "execution_count": null,
   "id": "bb39c2e3",
   "metadata": {},
   "outputs": [],
   "source": []
  }
 ],
 "metadata": {
  "kernelspec": {
   "display_name": "Python 3 (ipykernel)",
   "language": "python",
   "name": "python3"
  },
  "language_info": {
   "codemirror_mode": {
    "name": "ipython",
    "version": 3
   },
   "file_extension": ".py",
   "mimetype": "text/x-python",
   "name": "python",
   "nbconvert_exporter": "python",
   "pygments_lexer": "ipython3",
   "version": "3.10.9"
  }
 },
 "nbformat": 4,
 "nbformat_minor": 5
}
