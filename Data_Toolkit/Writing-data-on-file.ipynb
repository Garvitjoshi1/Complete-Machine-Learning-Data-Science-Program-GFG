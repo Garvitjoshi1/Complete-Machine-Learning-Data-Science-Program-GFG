{
 "cells": [
  {
   "cell_type": "code",
   "execution_count": 8,
   "id": "209e2c51",
   "metadata": {
    "scrolled": true
   },
   "outputs": [
    {
     "name": "stdout",
     "output_type": "stream",
     "text": [
      " Volume in drive C has no label.\n",
      " Volume Serial Number is EAEB-5477\n",
      "\n",
      " Directory of C:\\Users\\LENOVO\\GFG\\Data_Toolkit\n",
      "\n",
      "02-06-2023  06:14 PM    <DIR>          .\n",
      "29-05-2023  03:03 PM    <DIR>          ..\n",
      "02-06-2023  12:01 PM    <DIR>          .ipynb_checkpoints\n",
      "02-06-2023  06:15 PM               159 create.txt\n",
      "02-06-2023  12:00 PM             2,795 data.txt\n",
      "02-06-2023  07:57 AM            41,825 File_data_reading.ipynb\n",
      "02-06-2023  06:14 PM             3,342 Writing-data-on-file.ipynb\n",
      "               4 File(s)         48,121 bytes\n",
      "               3 Dir(s)  154,315,010,048 bytes free\n"
     ]
    }
   ],
   "source": [
    "ls"
   ]
  },
  {
   "cell_type": "markdown",
   "id": "c485f854",
   "metadata": {},
   "source": [
    "## creating new file and writing data into it."
   ]
  },
  {
   "cell_type": "code",
   "execution_count": 9,
   "id": "406e0796",
   "metadata": {},
   "outputs": [],
   "source": [
    "fd = open('create.txt', 'w')\n",
    "\n",
    "fd.write(\"Hi, My name is Garvit Joshi\")\n",
    "\n",
    "fd.close()"
   ]
  },
  {
   "cell_type": "code",
   "execution_count": 10,
   "id": "4061629d",
   "metadata": {},
   "outputs": [],
   "source": [
    "# if we dont close the file the results might not be updated"
   ]
  },
  {
   "cell_type": "markdown",
   "id": "21362569",
   "metadata": {},
   "source": [
    "## To append the data to file."
   ]
  },
  {
   "cell_type": "code",
   "execution_count": 11,
   "id": "9bf9b01e",
   "metadata": {},
   "outputs": [],
   "source": [
    "fd = open('create.txt', 'a')\n",
    "\n",
    "fd.write(\"I am from LPU.\")\n",
    "\n",
    "fd.close()"
   ]
  },
  {
   "cell_type": "code",
   "execution_count": 12,
   "id": "92e908df",
   "metadata": {},
   "outputs": [],
   "source": [
    "# (w) in file is to overwrite the data , and (a) is to append"
   ]
  },
  {
   "cell_type": "markdown",
   "id": "17469595",
   "metadata": {},
   "source": [
    "# Write the data with new line by taking user input"
   ]
  },
  {
   "cell_type": "code",
   "execution_count": 16,
   "id": "bbb99fa8",
   "metadata": {},
   "outputs": [
    {
     "name": "stdout",
     "output_type": "stream",
     "text": [
      "Enter the message: How are you all\n"
     ]
    }
   ],
   "source": [
    "fd = open('create.txt', 'a')\n",
    "\n",
    "txt = input(\"Enter the message: \")\n",
    "txt += '.\\n'\n",
    "\n",
    "fd.write(txt)\n",
    "fd.close()"
   ]
  }
 ],
 "metadata": {
  "kernelspec": {
   "display_name": "Python 3 (ipykernel)",
   "language": "python",
   "name": "python3"
  },
  "language_info": {
   "codemirror_mode": {
    "name": "ipython",
    "version": 3
   },
   "file_extension": ".py",
   "mimetype": "text/x-python",
   "name": "python",
   "nbconvert_exporter": "python",
   "pygments_lexer": "ipython3",
   "version": "3.10.9"
  }
 },
 "nbformat": 4,
 "nbformat_minor": 5
}
