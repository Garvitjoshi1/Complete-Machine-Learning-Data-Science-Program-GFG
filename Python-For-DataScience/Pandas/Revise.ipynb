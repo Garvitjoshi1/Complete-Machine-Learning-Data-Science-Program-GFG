{
 "cells": [
  {
   "cell_type": "markdown",
   "id": "d0e5987c",
   "metadata": {},
   "source": [
    "<span style=\"color:green; background-color:Lightgreen; font-size:40px;\"> \n",
    "    <strong>GeeksforGeeks              </strong>\n",
    "    \n",
    "</span>"
   ]
  },
  {
   "cell_type": "markdown",
   "id": "f763a110",
   "metadata": {},
   "source": [
    "<span style=\"color:green; background-color:lightgreen; font-size:18px;\">\n",
    "    \n",
    "## Pandas\n",
    "    \n",
    "</span>"
   ]
  },
  {
   "cell_type": "code",
   "execution_count": 1,
   "id": "85aaebf8",
   "metadata": {},
   "outputs": [],
   "source": [
    "import numpy as np\n",
    "import pandas as pd"
   ]
  },
  {
   "cell_type": "code",
   "execution_count": 2,
   "id": "ce8719ce",
   "metadata": {},
   "outputs": [
    {
     "data": {
      "text/plain": [
       "'1.5.3'"
      ]
     },
     "execution_count": 2,
     "metadata": {},
     "output_type": "execute_result"
    }
   ],
   "source": [
    "pd.__version__\n",
    "# to check the version of panndas library"
   ]
  },
  {
   "cell_type": "markdown",
   "id": "d8c5faee",
   "metadata": {},
   "source": [
    "<span style=\"color:green; background-color:lightgreen; font-size:18px;\">\n",
    "    \n",
    "## `Table of Contents`\n",
    "\n",
    "<div class='alert alert-success'>\n",
    "\n",
    "1. Working with Pandas Series\n",
    "    - a) Creating Series\n",
    "        - Series through list\n",
    "        - Series through Numpy Array\n",
    "        - Setting up our own index\n",
    "        - Series through dictionary\n",
    "        - Using repeat function along with creating a Series\n",
    "        - Accessing data from Series\n",
    "    - b) Aggregate function on Pandas Series\n",
    "    - c) Series Absolute Function\n",
    "    - d) Appending Series\n",
    "    - e) Astype Function\n",
    "    - f) Between Functions\n",
    "    - g) All strings functions can be used to extract or modify texts in a series\n",
    "        - Upper and Lower Function\n",
    "        - Len function\n",
    "        - Strip Function\n",
    "        - Split Function\n",
    "        - Contains Function\n",
    "        - Replace Function\n",
    "        - Count Function\n",
    "        - Startswith and Endswith Function\n",
    "        - Find Function\n",
    "    - h) Converting a Series to List\n",
    "\n",
    "2. Detailed Coding Implementations on Pandas DataFrame\n",
    "    - a) Creating Data Frames\n",
    "    - b) Slicing in DataFrames Using Iloc and Loc\n",
    "        - Basic Loc Operations\n",
    "        - Basic Iloc Operations\n",
    "        - Slicing Using Conditions\n",
    "    - c) Column Addition in DataFrames\n",
    "        - Using List\n",
    "        - Using Pandas Series\n",
    "        - Using an Existing Column\n",
    "    - d) Deleting Column in DataFrame\n",
    "        - Using del\n",
    "        - Using pop function\n",
    "    - e) Addition of rows\n",
    "    - f) Drop function\n",
    "    - g) Transposing a DataFrame\n",
    "    - h) A set of more DataFrame Functionalities\n",
    "        - axes function\n",
    "        - ndim function\n",
    "        - dtypes function\n",
    "        - shape function\n",
    "        - head function\n",
    "        - tail function\n",
    "        - empty function\n",
    "    - i) Statistical or Mathematical Functions\n",
    "        - Sum\n",
    "        - Mean\n",
    "        - Median\n",
    "        - Mode\n",
    "        - Variance\n",
    "        - Min\n",
    "        - Max\n",
    "        - Standard Deviation\n",
    "    - j) Describe Function\n",
    "    - k) Pipe Functions:\n",
    "        - Pipe function\n",
    "        - Apply Function\n",
    "        - Applymap Function\n",
    "    - l) Reindex Function\n",
    "    - m) Renaming Columns in Pandas DataFrame\n",
    "    - n) Sorting in Pandas DataFrame\n",
    "    - o) Groupby Functions\n",
    "        - Adding Statistical Computation on groupby\n",
    "        - Using Filter Function with Groupby\n",
    "\n",
    "3. Working with CSV files and Basic Data Analysis Using Pandas\n",
    "    - a) Reading CSV\n",
    "    - b) Info Function\n",
    "    - c) isnull() Function\n",
    "    - d) Quantile Function\n",
    "    - e) Copy Function\n",
    "    - f) Value Counts Function\n",
    "    - g) Unique and Nunique function\n",
    "    - h) dropna() function\n",
    "    - i) fillna() function\n",
    "    - j) sample Functions\n",
    "    - k) to_csv() functions\n",
    "\n",
    "4. A Detailed Pandas Profile Report\n",
    "</span>\n"
   ]
  },
  {
   "cell_type": "markdown",
   "id": "188af5d4",
   "metadata": {},
   "source": [
    "<span style=\"color:green; background-color:lightgreen; font-size:18px;\">\n",
    "    \n",
    "## 1.Working with Pandas Series\n",
    "    \n",
    "</span>\n",
    "\n",
    "## `a) Creating Series`\n",
    "`Pandas Series is a one-dimensional labeled array capable of holding data of any type (integer, string, float, python objects, etc.). The axis labels are collectively called index. Labels need not be unique but must be a hashable type. The object supports both integer and label-based indexing and provides a host of methods for performing operations involving the index.`\n",
    "\n",
    "**Seires through list**"
   ]
  },
  {
   "cell_type": "code",
   "execution_count": 3,
   "id": "b0899f9a",
   "metadata": {},
   "outputs": [
    {
     "data": {
      "text/plain": [
       "0    1\n",
       "1    2\n",
       "2    3\n",
       "3    4\n",
       "4    5\n",
       "dtype: int64"
      ]
     },
     "execution_count": 3,
     "metadata": {},
     "output_type": "execute_result"
    }
   ],
   "source": [
    "lst = [1, 2, 3, 4, 5]\n",
    "pd.Series(lst)"
   ]
  },
  {
   "cell_type": "markdown",
   "id": "5c5965b3",
   "metadata": {},
   "source": [
    "**Series Through Numpy Array**"
   ]
  },
  {
   "cell_type": "code",
   "execution_count": 4,
   "id": "1cc412b3",
   "metadata": {},
   "outputs": [
    {
     "data": {
      "text/plain": [
       "0    1\n",
       "1    2\n",
       "2    3\n",
       "3    4\n",
       "4    5\n",
       "dtype: int32"
      ]
     },
     "execution_count": 4,
     "metadata": {},
     "output_type": "execute_result"
    }
   ],
   "source": [
    "arr = np.array([1, 2, 3, 4, 5])\n",
    "pd.Series(arr)"
   ]
  },
  {
   "cell_type": "markdown",
   "id": "4425b483",
   "metadata": {},
   "source": [
    "**Giving Index From our own End**"
   ]
  },
  {
   "cell_type": "code",
   "execution_count": 5,
   "id": "1cfb8a6a",
   "metadata": {},
   "outputs": [
    {
     "data": {
      "text/plain": [
       "1    1\n",
       "2    2\n",
       "3    3\n",
       "4    4\n",
       "5    5\n",
       "dtype: int32"
      ]
     },
     "execution_count": 5,
     "metadata": {},
     "output_type": "execute_result"
    }
   ],
   "source": [
    "pd.Series(data = arr, index = [1, 2, 3, 4, 5])"
   ]
  },
  {
   "cell_type": "code",
   "execution_count": null,
   "id": "a13e43bb",
   "metadata": {},
   "outputs": [],
   "source": []
  }
 ],
 "metadata": {
  "kernelspec": {
   "display_name": "Python 3 (ipykernel)",
   "language": "python",
   "name": "python3"
  },
  "language_info": {
   "codemirror_mode": {
    "name": "ipython",
    "version": 3
   },
   "file_extension": ".py",
   "mimetype": "text/x-python",
   "name": "python",
   "nbconvert_exporter": "python",
   "pygments_lexer": "ipython3",
   "version": "3.10.9"
  }
 },
 "nbformat": 4,
 "nbformat_minor": 5
}
