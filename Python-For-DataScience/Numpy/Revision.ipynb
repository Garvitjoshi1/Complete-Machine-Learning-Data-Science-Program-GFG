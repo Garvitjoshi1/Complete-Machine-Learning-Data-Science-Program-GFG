{
 "cells": [
  {
   "cell_type": "markdown",
   "id": "356a5a8f",
   "metadata": {},
   "source": [
    "<span style=\"color:green; background-color:lightgreen;font-size:18px;\">\n",
    "\n",
    "## `NumPy`\n",
    "## `Table of Contents`\n",
    "\n",
    "<div class='alert alert-success'>\n",
    "\n",
    "**1. Converting a List to an array<br>\n",
    "2. Arange Function<br>\n",
    "3. Multidimensional Array<br>\n",
    "4. Size Function<br>\n",
    "5. Shape Function<br>\n",
    "6. Dtype Function<br>\n",
    "7. Ndim Function<br>\n",
    "8. Zeros and Ones Function<br>\n",
    "9. Eye Function<br>\n",
    "10. Empty Function<br>\n",
    "11. Random Functions:<br>\n",
    "    -----a) np.random.rand<br>\n",
    "    -----b) np.random.randint<br>\n",
    "    -----c) np.random.randn<br>\n",
    "12. Reshape function<br>\n",
    "13. Linspace Function<br>\n",
    "14. Flatten Function<br>\n",
    "15. Logspace Function<br>\n",
    "16. Copy Function<br>\n",
    "17. arr.max(), arr.min(), arr.sum() functions<br>\n",
    "18. Seed function<br>\n",
    "19. Sorting in numpy array<br>\n",
    "20. Mathematical Operation in Numpy<br>\n",
    "    -----a) Addition<br>\n",
    "    -----b) Substraction<br>\n",
    "    -----c) Multiplication<br>\n",
    "    -----d) Division<br>\n",
    "    -----e) Matrix Multiplication<br>\n",
    "    -----f) Power<br>\n",
    "21. Percentile Function<br>\n",
    "22. Mean, Variance and Standard Deviation<br>\n",
    "23. Filtering an numpy array<br>\n",
    "24. Transposing an array<br>\n",
    "25. Where function<br>\n",
    "26. Merging Arrays<br>\n",
    "    -----a) Using Concatenate<br>\n",
    "    -----b) Using vstack and hstack<br>\n",
    "27. Splitting Arrays<br>\n",
    "28. Turning Pictures into Numpy arrays<br>**\n",
    "</span>"
   ]
  },
  {
   "cell_type": "code",
   "execution_count": 21,
   "id": "f8380d0d",
   "metadata": {},
   "outputs": [
    {
     "name": "stdout",
     "output_type": "stream",
     "text": [
      "Requirement already satisfied: numpy in c:\\users\\lenovo\\anaconda3\\lib\\site-packages (1.23.5)\n"
     ]
    }
   ],
   "source": [
    "!pip install numpy\n",
    "\n",
    "import numpy as np"
   ]
  },
  {
   "cell_type": "markdown",
   "id": "359301a1",
   "metadata": {},
   "source": [
    "# `1. Converting a List to Array`"
   ]
  },
  {
   "cell_type": "code",
   "execution_count": 22,
   "id": "7e196c10",
   "metadata": {},
   "outputs": [
    {
     "name": "stdout",
     "output_type": "stream",
     "text": [
      "<class 'type'>\n",
      "<class 'numpy.ndarray'>\n"
     ]
    }
   ],
   "source": [
    "lst = [1, 2, 3, 4]\n",
    "\n",
    "print(type(list))\n",
    "\n",
    "arr = np.array(lst)\n",
    "\n",
    "print(type(arr))"
   ]
  },
  {
   "cell_type": "code",
   "execution_count": 23,
   "id": "06d312a7",
   "metadata": {},
   "outputs": [
    {
     "name": "stdout",
     "output_type": "stream",
     "text": [
      "[1 2 3 4]\n",
      "[[1 2 3 4]]\n",
      "[[[1 2 3 4]]]\n"
     ]
    }
   ],
   "source": [
    "arr = np.array(lst, ndmin = 1)\n",
    "print(arr)\n",
    "\n",
    "arr = np.array(lst, ndmin = 2)\n",
    "print(arr)\n",
    "\n",
    "arr = np.array(lst, ndmin = 3)\n",
    "print(arr)"
   ]
  },
  {
   "cell_type": "markdown",
   "id": "ba81aa20",
   "metadata": {},
   "source": [
    "# `2.Arrange Function`\n",
    "`The arange([start,] stop[, step,][, dtype]) : Returns an array with evenly spaced elements as per the interval. The interval mentioned is half-opened i.e. [Start, Stop)`"
   ]
  },
  {
   "cell_type": "code",
   "execution_count": 24,
   "id": "a58d6cc0",
   "metadata": {},
   "outputs": [
    {
     "data": {
      "text/plain": [
       "array([1, 2, 3, 4, 5, 6, 7, 8, 9])"
      ]
     },
     "execution_count": 24,
     "metadata": {},
     "output_type": "execute_result"
    }
   ],
   "source": [
    "np.arange(1, 10)"
   ]
  },
  {
   "cell_type": "code",
   "execution_count": 25,
   "id": "5ae61282",
   "metadata": {},
   "outputs": [
    {
     "data": {
      "text/plain": [
       "array([1, 4, 7])"
      ]
     },
     "execution_count": 25,
     "metadata": {},
     "output_type": "execute_result"
    }
   ],
   "source": [
    "np.arange(1, 10, 3)"
   ]
  },
  {
   "cell_type": "markdown",
   "id": "a979e8cc",
   "metadata": {},
   "source": [
    "# `3. Multi-dimensional Array`"
   ]
  },
  {
   "cell_type": "code",
   "execution_count": 26,
   "id": "de18d631",
   "metadata": {},
   "outputs": [
    {
     "data": {
      "text/plain": [
       "array([[ 1,  2,  3,  4],\n",
       "       [ 5,  6,  7,  8],\n",
       "       [ 9, 10, 11, 12]])"
      ]
     },
     "execution_count": 26,
     "metadata": {},
     "output_type": "execute_result"
    }
   ],
   "source": [
    "arr = np.array([[1, 2, 3, 4], [5, 6,7 , 8], [9, 10, 11, 12]])\n",
    "arr"
   ]
  },
  {
   "cell_type": "markdown",
   "id": "7a4c857b",
   "metadata": {},
   "source": [
    "# `4.Size Function`"
   ]
  },
  {
   "cell_type": "markdown",
   "id": "3a0c7e17",
   "metadata": {},
   "source": [
    "`The shape of an array can be defined as the number of elements in each dimension. Dimension is the number of indeices or subscripts, that we require in order to specify an individual element of an array.`<br>\n",
    "`In Python, numpy.size() function count the number of elelments along a given axis (0 = ROWS | 1 = COLUMNS)`"
   ]
  },
  {
   "cell_type": "code",
   "execution_count": 27,
   "id": "8cc88dfd",
   "metadata": {},
   "outputs": [
    {
     "name": "stdout",
     "output_type": "stream",
     "text": [
      "ROWS    : 3\n",
      "COLUMNS : 3\n",
      "TOTAL   : 9\n"
     ]
    },
    {
     "data": {
      "text/plain": [
       "array([[1, 2, 3],\n",
       "       [4, 5, 6],\n",
       "       [7, 8, 9]])"
      ]
     },
     "execution_count": 27,
     "metadata": {},
     "output_type": "execute_result"
    }
   ],
   "source": [
    "arr = np.array([[1, 2, 3], [4, 5, 6], [7, 8, 9]])\n",
    "\n",
    "print(\"ROWS    :\", np.size(arr, 0))\n",
    "print(\"COLUMNS :\", np.size(arr, 1))\n",
    "print(\"TOTAL   :\", np.size(arr))\n",
    "\n",
    "arr"
   ]
  },
  {
   "cell_type": "markdown",
   "id": "ef859ec4",
   "metadata": {},
   "source": [
    "# `5.Shape Function`"
   ]
  },
  {
   "cell_type": "markdown",
   "id": "383c50cd",
   "metadata": {},
   "source": [
    "`The shape of an array can be defined as the number of elements in each dimensions. Dimension is the number of indices or subscripts, that we require in order to specify an individual element in an array.`"
   ]
  },
  {
   "cell_type": "code",
   "execution_count": 28,
   "id": "9ca98112",
   "metadata": {},
   "outputs": [
    {
     "name": "stdout",
     "output_type": "stream",
     "text": [
      "3 3\n",
      "(3, 3)\n"
     ]
    }
   ],
   "source": [
    "arr = np.array([[1, 2, 3], [4, 5, 6], [7, 8, 9]])\n",
    "\n",
    "print((np.size(arr, 0)), np.size(arr, 1))\n",
    "\n",
    "print(arr.shape)"
   ]
  },
  {
   "cell_type": "markdown",
   "id": "136738d9",
   "metadata": {},
   "source": [
    "# `6. Dtype Function`\n",
    "`Every ndarray has an associated data type(dtype) object. This data type object (dtype) informs us about the layout of the array. This means it gives us information about:`\n",
    "* Type of the data (integer, float, Python object, etc.)\n",
    "* Size of the data (number of bytes)\n",
    "* The byte order of the data (little-endian or big-endian)\n",
    "* If the data type is a sub-array, what is its shape and data type?"
   ]
  },
  {
   "cell_type": "code",
   "execution_count": 29,
   "id": "277385f6",
   "metadata": {},
   "outputs": [
    {
     "name": "stdout",
     "output_type": "stream",
     "text": [
      "int32\n",
      "float64\n"
     ]
    }
   ],
   "source": [
    "arr1 = np.array([1,2,3,1,2,3])\n",
    "arr2 = np.array([1.2,3.1,2.3])\n",
    "\n",
    "\n",
    "print(arr1.dtype)\n",
    "print(arr2.dtype)"
   ]
  },
  {
   "cell_type": "markdown",
   "id": "a69f1523",
   "metadata": {},
   "source": [
    "# `7. Ndim Function`\n",
    "`numpy.ndarray.ndim() function return the number of dimensions of an array.`"
   ]
  },
  {
   "cell_type": "code",
   "execution_count": 30,
   "id": "3f4259e0",
   "metadata": {},
   "outputs": [
    {
     "name": "stdout",
     "output_type": "stream",
     "text": [
      "1\n",
      "2\n",
      "3\n"
     ]
    }
   ],
   "source": [
    "arr1 = np.array([1,2,3,1,2,3])\n",
    "arr2 = np.array([[1,2,3],[1,2,3]])\n",
    "\n",
    "print(arr1.ndim)\n",
    "print(arr2.ndim)\n",
    "\n",
    "arr3 = np.array(arr1, ndmin = 3)\n",
    "print(arr3.ndim)"
   ]
  },
  {
   "cell_type": "markdown",
   "id": "517695e0",
   "metadata": {},
   "source": [
    "# `8. Zeros Function`\n",
    "`The numpy.zeros() function returns a new array of given shape and type, with zeros.`\n",
    "\n",
    "`Syntax: numpy.zeros(shape, dtype = None)`"
   ]
  },
  {
   "cell_type": "code",
   "execution_count": 31,
   "id": "990ba8de",
   "metadata": {},
   "outputs": [
    {
     "name": "stdout",
     "output_type": "stream",
     "text": [
      "[[0 0 0 0 0]\n",
      " [0 0 0 0 0]\n",
      " [0 0 0 0 0]]\n"
     ]
    }
   ],
   "source": [
    "arr = np.zeros(shape = (3,5), dtype = int)\n",
    "\n",
    "print(arr)"
   ]
  },
  {
   "cell_type": "markdown",
   "id": "e2be4f19",
   "metadata": {},
   "source": [
    "# `Ones Function`\n",
    "`The numpy.ones() function returns a new array of given shape and type, with ones.`\n",
    "\n",
    "`Syntax: numpy.ones(shape, dtype = None)`"
   ]
  },
  {
   "cell_type": "code",
   "execution_count": 32,
   "id": "2fd13982",
   "metadata": {},
   "outputs": [
    {
     "name": "stdout",
     "output_type": "stream",
     "text": [
      "[[1 1 1 1 1]\n",
      " [1 1 1 1 1]\n",
      " [1 1 1 1 1]]\n"
     ]
    }
   ],
   "source": [
    "arr = np.ones(shape = (3,5), dtype = int)\n",
    "\n",
    "print(arr)"
   ]
  },
  {
   "cell_type": "markdown",
   "id": "53d984d9",
   "metadata": {},
   "source": [
    "# `9.Eye Function`\n",
    "`The eye tool returns a 2-D array with 1’s as the diagonal and 0’s elsewhere. The diagonal can be main, upper, or lower depending on the optional parameter k.`"
   ]
  },
  {
   "cell_type": "code",
   "execution_count": 33,
   "id": "1c78a35f",
   "metadata": {},
   "outputs": [
    {
     "name": "stdout",
     "output_type": "stream",
     "text": [
      "[[1. 0.]\n",
      " [0. 1.]]\n"
     ]
    },
    {
     "data": {
      "text/plain": [
       "array([[1, 0, 0, 0],\n",
       "       [0, 1, 0, 0],\n",
       "       [0, 0, 1, 0],\n",
       "       [0, 0, 0, 1]])"
      ]
     },
     "execution_count": 33,
     "metadata": {},
     "output_type": "execute_result"
    }
   ],
   "source": [
    "print(np.eye(2))\n",
    "\n",
    "np.eye(4, dtype = int)"
   ]
  },
  {
   "cell_type": "markdown",
   "id": "5d7b82f0",
   "metadata": {},
   "source": [
    "# `10. Empty Function`\n",
    "`The np.empty() function in NumPy returns a new array with uninitialized values. It does not guarantee an empty array filled with zeros or any specific values.`\n",
    "\n",
    "`Basically the values in the array are random and depend on the current state of memory.`"
   ]
  },
  {
   "cell_type": "code",
   "execution_count": 34,
   "id": "cc9faed6",
   "metadata": {},
   "outputs": [
    {
     "data": {
      "text/plain": [
       "array([[6.23042070e-307, 4.67296746e-307, 1.69121096e-306,\n",
       "        3.33772792e-307, 6.23047503e-307],\n",
       "       [8.45593934e-307, 7.56593017e-307, 1.11261027e-306,\n",
       "        1.11261502e-306, 1.42410839e-306],\n",
       "       [7.56597770e-307, 6.23059726e-307, 1.42419530e-306,\n",
       "        1.37961302e-306, 6.89804132e-307],\n",
       "       [8.45610231e-307, 9.34601642e-307, 6.89804132e-307,\n",
       "        1.06811422e-306, 8.34451503e-308],\n",
       "       [1.78022342e-306, 8.06635958e-308, 8.34423068e-308,\n",
       "        2.10081501e-312, 0.00000000e+000]])"
      ]
     },
     "execution_count": 34,
     "metadata": {},
     "output_type": "execute_result"
    }
   ],
   "source": [
    "np.empty(shape = (5,5))"
   ]
  },
  {
   "cell_type": "markdown",
   "id": "58b2286d",
   "metadata": {},
   "source": [
    "# `11. Random Functions`\n",
    "## a) np.random.rand\n",
    "`The numpy.random.rand() function creates an array of specified shape and fills it with random values. They have a range from 0 to 1`"
   ]
  },
  {
   "cell_type": "code",
   "execution_count": 35,
   "id": "710010a0",
   "metadata": {},
   "outputs": [
    {
     "data": {
      "text/plain": [
       "array([[0.26277535, 0.53752455, 0.84152872, 0.8360936 ],\n",
       "       [0.98081355, 0.53686038, 0.45721727, 0.70249547],\n",
       "       [0.80445487, 0.6331357 , 0.80486281, 0.48444865]])"
      ]
     },
     "execution_count": 35,
     "metadata": {},
     "output_type": "execute_result"
    }
   ],
   "source": [
    "np.random.rand(3,4)"
   ]
  },
  {
   "cell_type": "markdown",
   "id": "ced9fbb9",
   "metadata": {},
   "source": [
    "## b) np.random.randint\n",
    "`numpy.random.randint() is one of the function for doing random sampling in numpy. It returns an array of specified shape and fills it with random integers from low (inclusive) to high (exclusive), i.e. in the interval [low, high).`"
   ]
  },
  {
   "cell_type": "code",
   "execution_count": 36,
   "id": "fab59057",
   "metadata": {},
   "outputs": [
    {
     "data": {
      "text/plain": [
       "array([7, 8, 2, 5, 5, 8, 7, 5, 2, 8])"
      ]
     },
     "execution_count": 36,
     "metadata": {},
     "output_type": "execute_result"
    }
   ],
   "source": [
    "np.random.randint(low = 1, high = 10, size = 10)"
   ]
  },
  {
   "cell_type": "markdown",
   "id": "577db912",
   "metadata": {},
   "source": [
    "## c) np.random.randn\n",
    "`The numpy.random.randn() function creates an array of specified shape and fills it with random values as per standard normal distribution.`"
   ]
  },
  {
   "cell_type": "code",
   "execution_count": 41,
   "id": "9455aebd",
   "metadata": {},
   "outputs": [
    {
     "data": {
      "image/png": "[encoded data removed]",
      "text/plain": [
       "<Figure size 640x480 with 1 Axes>"
      ]
     },
     "metadata": {},
     "output_type": "display_data"
    }
   ],
   "source": [
    "import matplotlib.pyplot as plt\n",
    "\n",
    "%matplotlib inline\n",
    "\n",
    "plt.hist(np.random.randn(10000000), bins = 1000);"
   ]
  },
  {
   "cell_type": "markdown",
   "id": "045cee9b",
   "metadata": {},
   "source": [
    "# `12. Reshape function - will not alter the original data`\n",
    "`The numpy.reshape() function shapes an array without changing the data of the array.<br> It should be noted that the product if the rows and columns should be same`"
   ]
  },
  {
   "cell_type": "code",
   "execution_count": 42,
   "id": "e40bca35",
   "metadata": {},
   "outputs": [
    {
     "name": "stdout",
     "output_type": "stream",
     "text": [
      "(3, 4)\n",
      "(4, 3)\n",
      "(6, 2)\n"
     ]
    }
   ],
   "source": [
    "arr = np.random.randint(1,15,(3,4))\n",
    "\n",
    "print(arr.shape)\n",
    "arr = arr.reshape(4,3)\n",
    "print(arr.shape)\n",
    "arr = arr.reshape(6,2)\n",
    "print(arr.shape)"
   ]
  },
  {
   "cell_type": "markdown",
   "id": "64b48e89",
   "metadata": {},
   "source": [
    "# `13. Linspace Function`\n",
    "`The numpy.linspace() function returns number spaces evenly w.r.t interval. Similar to numpy.arange() function but instead of step it uses sample number.`\n",
    "\n",
    "`Parameters :`\n",
    "\n",
    "* --> start : [optional] start of interval range. By default start = 0\n",
    "* --> stop : end of interval range\n",
    "* --> restep : If True, return (samples, step). By default restep = False\n",
    "* --> num : [int, optional] No. of samples to generate\n",
    "* --> dtype : type of output array"
   ]
  },
  {
   "cell_type": "code",
   "execution_count": 43,
   "id": "57eb695a",
   "metadata": {},
   "outputs": [
    {
     "data": {
      "text/plain": [
       "array([ 1.  ,  3.25,  5.5 ,  7.75, 10.  ])"
      ]
     },
     "execution_count": 43,
     "metadata": {},
     "output_type": "execute_result"
    }
   ],
   "source": [
    "np.linspace(1,10,5)"
   ]
  },
  {
   "cell_type": "markdown",
   "id": "1a0e0c9c",
   "metadata": {},
   "source": [
    " # `14. Flatten Function`\n",
    "`ndarray.flatten() function return a copy of the array collapsed into one dimension`"
   ]
  },
  {
   "cell_type": "code",
   "execution_count": 44,
   "id": "9d707bfe",
   "metadata": {},
   "outputs": [
    {
     "name": "stdout",
     "output_type": "stream",
     "text": [
      "(3, 4)\n",
      "[[11  4 12  1]\n",
      " [ 5  1  1  6]\n",
      " [ 7  6  8  6]]\n",
      "--------------------\n",
      "(12,)\n",
      "[11  4 12  1  5  1  1  6  7  6  8  6]\n"
     ]
    }
   ],
   "source": [
    "arr = np.random.randint(1,15,(3,4))\n",
    "\n",
    "print(arr.shape)\n",
    "print(arr)\n",
    "print('-'*20)\n",
    "arr = arr.flatten()\n",
    "print(arr.shape)\n",
    "print(arr)"
   ]
  },
  {
   "cell_type": "markdown",
   "id": "ca305ba6",
   "metadata": {},
   "source": [
    "# `15. Logspace Function`\n",
    "`The numpy.logspace() function returns number spaces evenly w.r.t interval on a log scale.`\n",
    "\n",
    "`Parameters :`\n",
    "\n",
    "* --> start : [float] start(base ** start) of interval range.\n",
    "* --> stop : [float] end(base ** stop) of interval range\n",
    "* --> endpoint : [boolean, optional]If True, stop is the last sample. By    default, True\n",
    "* --> num : [int, optional] No. of samples to generate\n",
    "* --> base : [float, optional] Base of log scale. By default, equals 10.0\n",
    "* --> dtype : type of output array"
   ]
  },
  {
   "cell_type": "code",
   "execution_count": 45,
   "id": "e1ab9334",
   "metadata": {},
   "outputs": [
    {
     "name": "stdout",
     "output_type": "stream",
     "text": [
      "[  100.           166.81005372   278.25594022   464.15888336\n",
      "   774.26368268  1291.54966501  2154.43469003  3593.8136638\n",
      "  5994.84250319 10000.        ]\n",
      "--------------------\n",
      "[ 4.          4.66611616  5.44316     6.34960421  7.4069977   8.64047791\n",
      " 10.0793684  11.75787594 13.71590373 16.        ]\n"
     ]
    }
   ],
   "source": [
    "print(np.logspace(2,4,10))\n",
    "print('-'*20)\n",
    "print(np.logspace(2,4,10, base = 2))"
   ]
  },
  {
   "cell_type": "markdown",
   "id": "94df4758",
   "metadata": {},
   "source": [
    "# `16. Copy function`\n",
    "`If we normally use the equals sign then the **id** of both the numpy array will be same, so we need to use to copy function`"
   ]
  },
  {
   "cell_type": "code",
   "execution_count": 46,
   "id": "27a315b9",
   "metadata": {},
   "outputs": [
    {
     "name": "stdout",
     "output_type": "stream",
     "text": [
      "[ 9  5 14  2 10  9 12 10  5  2] 1889440594416\n",
      "[ 9  5 14  2 10  9 12 10  5  2] 1889440594416\n",
      "--------------------------------------------------\n",
      "[ 5 12  1  4  7  3 12  3  5 10] 1889306604240\n",
      "[ 5 12  1  4  7  3 12  3  5 10] 1889306594448\n"
     ]
    }
   ],
   "source": [
    "arr1 = np.random.randint(1,15,10)\n",
    "\n",
    "arr2 = arr1\n",
    "\n",
    "print(arr1, id(arr1))\n",
    "print(arr2, id(arr2))\n",
    "\n",
    "print('-'*50)\n",
    "\n",
    "arr1 = np.random.randint(1,15,10)\n",
    "arr2 = np.copy(arr1)\n",
    "\n",
    "print(arr1, id(arr1))\n",
    "print(arr2, id(arr2))"
   ]
  },
  {
   "cell_type": "markdown",
   "id": "476db50f",
   "metadata": {},
   "source": [
    "# `17. arr.max() , arr.min() , arr.sum() functions`\n",
    "* arr.max() will give us the maximum element present in the array\n",
    "* arr.min() will give us the minimun element present in the array\n",
    "* arr.sum() will give us the sum of all the elements present in the array"
   ]
  },
  {
   "cell_type": "code",
   "execution_count": 47,
   "id": "0e0a203b",
   "metadata": {},
   "outputs": [
    {
     "name": "stdout",
     "output_type": "stream",
     "text": [
      "--------------------\n",
      "[[ 2 28  9 17 15]\n",
      " [19 10  1 21 14]\n",
      " [ 1 15  8 23  9]]\n",
      "--------------------\n",
      "MAX :  28\n",
      "MIN :  1\n",
      "SUM :  192\n"
     ]
    }
   ],
   "source": [
    "arr = np.random.randint(1,30,(3,5))\n",
    "\n",
    "print('-'*20)\n",
    "print(arr)\n",
    "print('-'*20)\n",
    "\n",
    "print('MAX : ', arr.max())\n",
    "print('MIN : ', arr.min())\n",
    "print('SUM : ', arr.sum())"
   ]
  },
  {
   "cell_type": "markdown",
   "id": "a4953bba",
   "metadata": {},
   "source": [
    "**We can use the axis parameter to get the max, min and sum of a particular column or row**\n",
    "\n",
    "* axis=0 is for the column\n",
    "* axis=1 is for the row"
   ]
  },
  {
   "cell_type": "code",
   "execution_count": 48,
   "id": "a813ae0b",
   "metadata": {},
   "outputs": [
    {
     "name": "stdout",
     "output_type": "stream",
     "text": [
      "--------------------\n",
      "[[17 18  5 15 11]\n",
      " [ 2  7  3  8 15]\n",
      " [26 21  1 20 27]]\n",
      "--------------------\n"
     ]
    }
   ],
   "source": [
    "arr = np.random.randint(1,30,(3,5))\n",
    "\n",
    "print('-'*20)\n",
    "print(arr)\n",
    "print('-'*20)"
   ]
  },
  {
   "cell_type": "markdown",
   "id": "e4d30644",
   "metadata": {},
   "source": [
    "**For columns**"
   ]
  },
  {
   "cell_type": "code",
   "execution_count": 49,
   "id": "7534b3e1",
   "metadata": {},
   "outputs": [
    {
     "name": "stdout",
     "output_type": "stream",
     "text": [
      "MAX :  [26 21  5 20 27]\n",
      "MIN :  [ 2  7  1  8 11]\n",
      "SUM :  [45 46  9 43 53]\n"
     ]
    }
   ],
   "source": [
    "print('MAX : ', arr.max(axis = 0))\n",
    "print('MIN : ', arr.min(axis = 0))\n",
    "print('SUM : ', arr.sum(axis = 0))"
   ]
  },
  {
   "cell_type": "markdown",
   "id": "38d12d8d",
   "metadata": {},
   "source": [
    "**Fow rows**"
   ]
  },
  {
   "cell_type": "code",
   "execution_count": 50,
   "id": "5e262659",
   "metadata": {},
   "outputs": [
    {
     "name": "stdout",
     "output_type": "stream",
     "text": [
      "MAX :  [18 15 27]\n",
      "MIN :  [5 2 1]\n",
      "SUM :  [66 35 95]\n"
     ]
    }
   ],
   "source": [
    "print('MAX : ', arr.max(axis = 1))\n",
    "print('MIN : ', arr.min(axis = 1))\n",
    "print('SUM : ', arr.sum(axis = 1))"
   ]
  },
  {
   "cell_type": "markdown",
   "id": "88b12dbd",
   "metadata": {},
   "source": [
    "# `18. Seed Function`\n",
    "`random() function is used to generate random numbers in Python. Not actually random, rather this is used to generate pseudo-random numbers. That implies that these randomly generated numbers can be determined. random() function generates numbers for some values. This value is also called seed value.`\n",
    "\n",
    "`Syntax : random.seed( l, version )`<br>\n",
    "\n",
    "**Parameter :**\n",
    "\n",
    "* l : Any seed value used to produce a random number.\n",
    "* version : A integer used to specify how to convert l in a integer."
   ]
  },
  {
   "cell_type": "code",
   "execution_count": 51,
   "id": "93b68637",
   "metadata": {},
   "outputs": [
    {
     "data": {
      "text/plain": [
       "array([[9, 4, 9, 9, 1],\n",
       "       [6, 4, 6, 8, 7],\n",
       "       [1, 5, 8, 9, 2]])"
      ]
     },
     "execution_count": 51,
     "metadata": {},
     "output_type": "execute_result"
    }
   ],
   "source": [
    "np.random.seed(3)\n",
    "\n",
    "arr = np.random.randint(1,10,(3,5))\n",
    "\n",
    "arr"
   ]
  },
  {
   "cell_type": "markdown",
   "id": "2595403f",
   "metadata": {},
   "source": [
    "# `19. Sorting Function`\n",
    "`numpy.sort() : This function returns a sorted copy of an array.`\n",
    "\n",
    "**Parameters :**\n",
    "\n",
    "* arr : Array to be sorted.\n",
    "* axis : Axis along which we need array to be started.\n",
    "* order : This argument specifies which fields to compare first.\n",
    "* kind : [‘quicksort’{default}, ‘mergesort’, ‘heapsort’]Sorting algorithm."
   ]
  },
  {
   "cell_type": "code",
   "execution_count": 52,
   "id": "e3cd531d",
   "metadata": {},
   "outputs": [
    {
     "name": "stdout",
     "output_type": "stream",
     "text": [
      "---------------\n",
      "[[9 4 9 9 1]\n",
      " [6 4 6 8 7]\n",
      " [1 5 8 9 2]]\n",
      "---------------\n",
      "[[1 4 9 9 9]\n",
      " [4 6 6 7 8]\n",
      " [1 2 5 8 9]]\n",
      "---------------\n",
      "[[1 4 6 8 1]\n",
      " [6 4 8 9 2]\n",
      " [9 5 9 9 7]]\n",
      "---------------\n",
      "[[1 1 2 4 4]\n",
      " [5 6 6 7 8]\n",
      " [8 9 9 9 9]]\n",
      "---------------\n"
     ]
    }
   ],
   "source": [
    "np.random.seed(3)\n",
    "arr = np.random.randint(1,10,(3,5))\n",
    "\n",
    "\n",
    "print('-'*15)\n",
    "print(arr)\n",
    "print('-'*15)\n",
    "print(np.sort(arr, axis = 1))\n",
    "print('-'*15)\n",
    "print(np.sort(arr, axis = 0))\n",
    "print('-'*15)\n",
    "\n",
    "arr = np.reshape(np.sort(arr.flatten()), arr.shape)\n",
    "print(arr)\n",
    "print('-'*15)"
   ]
  },
  {
   "cell_type": "markdown",
   "id": "5488e6c2",
   "metadata": {},
   "source": [
    "***We can choose which type of sort we want to perform***"
   ]
  },
  {
   "cell_type": "code",
   "execution_count": 53,
   "id": "06e29da9",
   "metadata": {},
   "outputs": [
    {
     "name": "stdout",
     "output_type": "stream",
     "text": [
      "[[1 1 2 4 4]\n",
      " [5 6 6 7 8]\n",
      " [8 9 9 9 9]]\n"
     ]
    }
   ],
   "source": [
    "print(np.sort(arr, axis = 0, kind = 'mergesort'))"
   ]
  },
  {
   "cell_type": "markdown",
   "id": "5d92889e",
   "metadata": {},
   "source": [
    "# `20. Mathematical Operations`"
   ]
  },
  {
   "cell_type": "markdown",
   "id": "a82b77f4",
   "metadata": {},
   "source": [
    "## a) Addition"
   ]
  },
  {
   "cell_type": "code",
   "execution_count": 54,
   "id": "f76cfd9e",
   "metadata": {},
   "outputs": [
    {
     "name": "stdout",
     "output_type": "stream",
     "text": [
      "---------------\n",
      "[[9 4 9 9 1]\n",
      " [6 4 6 8 7]\n",
      " [1 5 8 9 2]]\n",
      "---------------\n",
      "[[10  5 10 10  2]\n",
      " [ 7  5  7  9  8]\n",
      " [ 2  6  9 10  3]]\n",
      "---------------\n"
     ]
    }
   ],
   "source": [
    "np.random.seed(3)\n",
    "\n",
    "arr = np.random.randint(1,10,(3,5))\n",
    "\n",
    "print('-' * 15)\n",
    "print(arr)\n",
    "print('-' * 15)\n",
    "print(arr + 1)\n",
    "print('-' * 15)"
   ]
  },
  {
   "cell_type": "markdown",
   "id": "3ac06b55",
   "metadata": {},
   "source": [
    "## b) Substraction"
   ]
  },
  {
   "cell_type": "code",
   "execution_count": 55,
   "id": "739e8d89",
   "metadata": {},
   "outputs": [
    {
     "name": "stdout",
     "output_type": "stream",
     "text": [
      "---------------\n",
      "[[9 4 9 9 1]\n",
      " [6 4 6 8 7]\n",
      " [1 5 8 9 2]]\n",
      "---------------\n",
      "[[8 3 8 8 0]\n",
      " [5 3 5 7 6]\n",
      " [0 4 7 8 1]]\n",
      "---------------\n"
     ]
    }
   ],
   "source": [
    "print('-' * 15)\n",
    "print(arr)\n",
    "print('-' * 15)\n",
    "print(arr - 1)\n",
    "print('-' * 15)"
   ]
  },
  {
   "cell_type": "markdown",
   "id": "84b93ea3",
   "metadata": {},
   "source": [
    "## c) Multiplication"
   ]
  },
  {
   "cell_type": "code",
   "execution_count": 56,
   "id": "28556e5a",
   "metadata": {},
   "outputs": [
    {
     "name": "stdout",
     "output_type": "stream",
     "text": [
      "---------------\n",
      "[[9 4 9 9 1]\n",
      " [6 4 6 8 7]\n",
      " [1 5 8 9 2]]\n",
      "---------------\n",
      "[[18  8 18 18  2]\n",
      " [12  8 12 16 14]\n",
      " [ 2 10 16 18  4]]\n",
      "---------------\n"
     ]
    }
   ],
   "source": [
    "print('-' * 15)\n",
    "print(arr)\n",
    "print('-' * 15)\n",
    "print(arr * 2)\n",
    "print('-' * 15)"
   ]
  },
  {
   "cell_type": "markdown",
   "id": "8772ba82",
   "metadata": {},
   "source": [
    "## d) Division"
   ]
  },
  {
   "cell_type": "code",
   "execution_count": 57,
   "id": "9d217605",
   "metadata": {},
   "outputs": [
    {
     "name": "stdout",
     "output_type": "stream",
     "text": [
      "---------------\n",
      "[[9 4 9 9 1]\n",
      " [6 4 6 8 7]\n",
      " [1 5 8 9 2]]\n",
      "---------------\n",
      "[[4.5 2.  4.5 4.5 0.5]\n",
      " [3.  2.  3.  4.  3.5]\n",
      " [0.5 2.5 4.  4.5 1. ]]\n",
      "---------------\n"
     ]
    }
   ],
   "source": [
    "print('-' * 15)\n",
    "print(arr)\n",
    "print('-' * 15)\n",
    "print(arr / 2)\n",
    "print('-' * 15)"
   ]
  },
  {
   "cell_type": "markdown",
   "id": "7218e6f1",
   "metadata": {},
   "source": [
    "## e) Matrix Multiplication\n",
    "`For Matrix Multiplication we either use the`\n",
    "\n",
    "* dot function or\n",
    "* the @ symbol"
   ]
  },
  {
   "cell_type": "code",
   "execution_count": 58,
   "id": "51e3ca0e",
   "metadata": {},
   "outputs": [
    {
     "name": "stdout",
     "output_type": "stream",
     "text": [
      "[[ 25  78]\n",
      " [ 45 108]]\n",
      "------------\n",
      "[[ 25  78]\n",
      " [ 45 108]]\n"
     ]
    }
   ],
   "source": [
    "np.random.seed(3)\n",
    "\n",
    "arr1 = np.random.randint(1,10,(2,2))\n",
    "arr2 = np.random.randint(1,10,(2,2))\n",
    "\n",
    "print(arr1.dot(arr2))\n",
    "print('-'*12)\n",
    "print(arr1 @ arr2)"
   ]
  },
  {
   "cell_type": "markdown",
   "id": "38338772",
   "metadata": {},
   "source": [
    "## f) Power"
   ]
  },
  {
   "cell_type": "code",
   "execution_count": 59,
   "id": "6dd590e0",
   "metadata": {},
   "outputs": [
    {
     "name": "stdout",
     "output_type": "stream",
     "text": [
      "[[9 4 9 9 1]\n",
      " [6 4 6 8 7]\n",
      " [1 5 8 9 2]]\n",
      "---------------\n",
      "[[81 16 81 81  1]\n",
      " [36 16 36 64 49]\n",
      " [ 1 25 64 81  4]]\n"
     ]
    }
   ],
   "source": [
    "print(arr)\n",
    "print('-'*15)\n",
    "print(arr ** 2)"
   ]
  },
  {
   "cell_type": "markdown",
   "id": "ffc50fb2",
   "metadata": {},
   "source": [
    "# `21. Percentile Function`\n",
    "\n",
    "`numpy.percentile()function used to compute the nth percentile of the given data (array elements) along the specified axis.`"
   ]
  },
  {
   "cell_type": "code",
   "execution_count": 60,
   "id": "1f049a15",
   "metadata": {},
   "outputs": [
    {
     "name": "stdout",
     "output_type": "stream",
     "text": [
      "[9 4 9 9 1 6 4 6 8 7]\n",
      "[1 4 4 6 6 7 8 9 9 9]\n",
      "6.5\n"
     ]
    }
   ],
   "source": [
    "np.random.seed(3)\n",
    "\n",
    "arr = np.random.randint(1,10,10)\n",
    "print(arr)\n",
    "\n",
    "arr = np.sort(arr)\n",
    "print(arr)\n",
    "\n",
    "print(np.percentile(arr, 50))"
   ]
  },
  {
   "cell_type": "markdown",
   "id": "6e1d3bbd",
   "metadata": {},
   "source": [
    "# `22. Mean, Variance and Standard deviation`\n",
    "\n",
    "`In NumPy, we can compute the mean, standard deviation, and variance of a given array along the second axis by two approaches first is by using inbuilt functions and second is by the formulas of the mean, standard deviation, and variance.`<br>\n",
    "\n",
    "`Using numpy.mean(), numpy.std(), numpy.var()`"
   ]
  },
  {
   "cell_type": "code",
   "execution_count": 61,
   "id": "c8aa9661",
   "metadata": {},
   "outputs": [
    {
     "name": "stdout",
     "output_type": "stream",
     "text": [
      "[1 5 8 9 2 7 3 3 2 4]\n",
      "4.4\n",
      "6.839999999999999\n",
      "2.6153393661244038\n"
     ]
    }
   ],
   "source": [
    "arr = np.random.randint(1,10,10)\n",
    "\n",
    "print(arr)\n",
    "print(arr.mean())\n",
    "print(arr.var())\n",
    "print(arr.std())"
   ]
  },
  {
   "cell_type": "markdown",
   "id": "7370aab1",
   "metadata": {},
   "source": [
    "# `23. Filtering an numpy array`"
   ]
  },
  {
   "cell_type": "code",
   "execution_count": 62,
   "id": "61b08c1f",
   "metadata": {},
   "outputs": [
    {
     "name": "stdout",
     "output_type": "stream",
     "text": [
      "[1 2 3 4 5 6 7 8 9]\n",
      "[ True  True  True  True False False False False False]\n",
      "[1 2 3 4]\n"
     ]
    }
   ],
   "source": [
    "arr = np.arange(1,10)\n",
    "\n",
    "print(arr)\n",
    "print(arr < 5)\n",
    "print(arr[arr < 5])"
   ]
  },
  {
   "cell_type": "markdown",
   "id": "baecdc99",
   "metadata": {},
   "source": [
    "* **We can store this into a new variable if we need this filtered array**"
   ]
  },
  {
   "cell_type": "code",
   "execution_count": 63,
   "id": "3f59abf9",
   "metadata": {},
   "outputs": [
    {
     "name": "stdout",
     "output_type": "stream",
     "text": [
      "[1 2 3 4]\n"
     ]
    }
   ],
   "source": [
    "arr2 = arr[arr < 5] \n",
    "print(arr2)"
   ]
  },
  {
   "cell_type": "markdown",
   "id": "6aeb7415",
   "metadata": {},
   "source": [
    "* **If we want to replace all the values above 5 with 10 we can even do that**"
   ]
  },
  {
   "cell_type": "code",
   "execution_count": 64,
   "id": "808d8357",
   "metadata": {},
   "outputs": [
    {
     "data": {
      "text/plain": [
       "array([ 1,  2,  3,  4,  5, 10, 10, 10, 10])"
      ]
     },
     "execution_count": 64,
     "metadata": {},
     "output_type": "execute_result"
    }
   ],
   "source": [
    "arr[arr > 5] = 10\n",
    "\n",
    "arr"
   ]
  },
  {
   "cell_type": "markdown",
   "id": "89c09a8a",
   "metadata": {},
   "source": [
    "# `24. Transposing an array`\n",
    "\n",
    "`With the help of Numpy ndarray.T object, we can make a Transpose of an array having dimension greater than or equal to 2.`"
   ]
  },
  {
   "cell_type": "code",
   "execution_count": 65,
   "id": "ce6f59ce",
   "metadata": {},
   "outputs": [
    {
     "name": "stdout",
     "output_type": "stream",
     "text": [
      "[[ 6  9 15  2 11]\n",
      " [ 8 12  2 16 17]\n",
      " [ 6 18 15  1  1]]\n",
      "--------------------\n",
      "[[ 6  8  6]\n",
      " [ 9 12 18]\n",
      " [15  2 15]\n",
      " [ 2 16  1]\n",
      " [11 17  1]]\n"
     ]
    }
   ],
   "source": [
    "arr = np.random.randint(1,20,(3,5))\n",
    "\n",
    "print(arr)\n",
    "print('-'*20)\n",
    "print(arr.T)"
   ]
  },
  {
   "cell_type": "markdown",
   "id": "d30c07c2",
   "metadata": {},
   "source": [
    "# `25. Where function`\n",
    "`The numpy.where() function returns the indices of elements in an input array where the given condition is satisfied.`\n",
    "\n",
    "`Syntax :numpy.where(condition[, x, y]) Parameters: condition : When True, yield x, otherwise yield y. x, y : Values from which to choose. x, y and condition need to be broadcastable to some shape.`\n",
    "\n",
    "`Returns: out : [ndarray or tuple of ndarrays] If both x and y are specified, the output array contains elements of x where condition is True, and elements from y elsewhere.`\n",
    "\n",
    "`If only condition is given, return the tuple condition.nonzero(), the indices where condition is True.`"
   ]
  },
  {
   "cell_type": "code",
   "execution_count": 66,
   "id": "4399593a",
   "metadata": {},
   "outputs": [
    {
     "data": {
      "text/plain": [
       "array([19, 64, 38, 57, 57, 72, 38, 47, 34,  2])"
      ]
     },
     "execution_count": 66,
     "metadata": {},
     "output_type": "execute_result"
    }
   ],
   "source": [
    "arr = np.random.randint(1,100,10)\n",
    "arr"
   ]
  },
  {
   "cell_type": "markdown",
   "id": "86261691",
   "metadata": {},
   "source": [
    "* So now if we are having an even number let's convert it into 100 and the ones which are odd we leave it to the way it is"
   ]
  },
  {
   "cell_type": "code",
   "execution_count": 67,
   "id": "e204f540",
   "metadata": {},
   "outputs": [
    {
     "name": "stdout",
     "output_type": "stream",
     "text": [
      "[19 64 38 57 57 72 38 47 34  2]\n",
      "['19' 'even' 'even' '57' '57' 'even' 'even' '47' 'even' 'even']\n",
      "['odd' '64' '38' 'odd' 'odd' '72' '38' 'odd' '34' '2']\n",
      "['odd' 'even' 'even' 'odd' 'odd' 'even' 'even' 'odd' 'even' 'even']\n"
     ]
    }
   ],
   "source": [
    "print(arr)\n",
    "\n",
    "print(np.where(arr%2==0, 'even',arr))\n",
    "print(np.where(arr%2!=0, 'odd',arr))\n",
    "\n",
    "arr1 = np.where(arr%2==0, 'even',arr)\n",
    "arr1 = np.where(arr%2!=0, 'odd',arr1)\n",
    "\n",
    "print(arr1)"
   ]
  },
  {
   "cell_type": "markdown",
   "id": "85c0e513",
   "metadata": {},
   "source": [
    "# `26. Merging Arrays`\n",
    "## `a) Concatenate`\n",
    "`We can perform the concatenation operation using the concatenate() function. With this function, arrays are concatenated either row-wise or column-wise, given that they have equal rows or columns respectively. Column-wise concatenation can be done by equating axis to 1 as an argument in the function.`"
   ]
  },
  {
   "cell_type": "code",
   "execution_count": 68,
   "id": "71ac72c4",
   "metadata": {},
   "outputs": [
    {
     "name": "stdout",
     "output_type": "stream",
     "text": [
      "[[6 6 8 5]\n",
      " [4 1 1 1]]\n",
      "---------------\n",
      "[[1 3 3 8]\n",
      " [1 6 1 2]]\n",
      "------------------------------\n",
      "[[6 6 8 5]\n",
      " [4 1 1 1]\n",
      " [1 3 3 8]\n",
      " [1 6 1 2]]\n",
      "------------------------------\n",
      "[[6 6 8 5 1 3 3 8]\n",
      " [4 1 1 1 1 6 1 2]]\n"
     ]
    }
   ],
   "source": [
    "arr1 = np.random.randint(1,10,(2,4))\n",
    "arr2 = np.random.randint(1,10,(2,4))\n",
    "\n",
    "print(arr1)\n",
    "print('-'*15)\n",
    "print(arr2)\n",
    "\n",
    "print('-'*30)\n",
    "print(np.concatenate((arr1,arr2), axis = 0))\n",
    "print('-'*30)\n",
    "print(np.concatenate((arr1,arr2), axis = 1))"
   ]
  },
  {
   "cell_type": "markdown",
   "id": "80ab4b57",
   "metadata": {},
   "source": [
    "## `b) Vstack and Hstack`\n",
    "`numpy.hstack() function is used to stack the sequence of input arrays horizontally (i.e. column wise) to make a single array.`"
   ]
  },
  {
   "cell_type": "code",
   "execution_count": 69,
   "id": "b8fcd51e",
   "metadata": {},
   "outputs": [
    {
     "name": "stdout",
     "output_type": "stream",
     "text": [
      "[[5 2 3 3]\n",
      " [5 9 1 7]]\n",
      "---------------\n",
      "[[1 5 2 6]\n",
      " [2 9 9 8]]\n",
      "---------------\n",
      "[[5 2 3 3 1 5 2 6]\n",
      " [5 9 1 7 2 9 9 8]]\n"
     ]
    }
   ],
   "source": [
    "arr1 = np.random.randint(1,10,(2,4))\n",
    "arr2 = np.random.randint(1,10,(2,4))\n",
    "\n",
    "print(arr1)\n",
    "print('-'*15)\n",
    "print(arr2)\n",
    "print('-'*15)\n",
    "\n",
    "print(np.hstack((arr1,arr2)))"
   ]
  },
  {
   "cell_type": "markdown",
   "id": "ed7f3546",
   "metadata": {},
   "source": [
    "**numpy.vstack() function is used to stack the sequence of input arrays vertically to make a single array.**"
   ]
  },
  {
   "cell_type": "code",
   "execution_count": 70,
   "id": "4ef4cbb8",
   "metadata": {},
   "outputs": [
    {
     "name": "stdout",
     "output_type": "stream",
     "text": [
      "[[5 2 3 3]\n",
      " [5 9 1 7]]\n",
      "---------------\n",
      "[[1 5 2 6]\n",
      " [2 9 9 8]]\n",
      "---------------\n",
      "[[5 2 3 3]\n",
      " [5 9 1 7]\n",
      " [1 5 2 6]\n",
      " [2 9 9 8]]\n"
     ]
    }
   ],
   "source": [
    "print(arr1)\n",
    "print('-'*15)\n",
    "print(arr2)\n",
    "print('-'*15)\n",
    "\n",
    "print(np.vstack((arr1,arr2)))"
   ]
  },
  {
   "cell_type": "markdown",
   "id": "1de2cc0d",
   "metadata": {},
   "source": [
    "# `27. Splitting Arrays`"
   ]
  },
  {
   "cell_type": "code",
   "execution_count": 71,
   "id": "873c899e",
   "metadata": {},
   "outputs": [
    {
     "name": "stdout",
     "output_type": "stream",
     "text": [
      "[[1 1 2 8]\n",
      " [9 8 5 1]\n",
      " [1 5 4 1]\n",
      " [9 3 8 3]]\n"
     ]
    }
   ],
   "source": [
    "arr = np.random.randint(1,10,(4,4))\n",
    "\n",
    "print(arr)"
   ]
  },
  {
   "cell_type": "markdown",
   "id": "967a5997",
   "metadata": {},
   "source": [
    "* **numpy.vsplit() function split an array into multiple sub-arrays vertically (row-wise). vsplit is equivalent to split with axis=0 (default), the array is always split along the first axis regardless of the array dimension.**"
   ]
  },
  {
   "cell_type": "code",
   "execution_count": 72,
   "id": "279223df",
   "metadata": {},
   "outputs": [
    {
     "data": {
      "text/plain": [
       "[array([[1, 1, 2, 8],\n",
       "        [9, 8, 5, 1]]),\n",
       " array([[1, 5, 4, 1],\n",
       "        [9, 3, 8, 3]])]"
      ]
     },
     "execution_count": 72,
     "metadata": {},
     "output_type": "execute_result"
    }
   ],
   "source": [
    "np.vsplit(arr, 2)"
   ]
  },
  {
   "cell_type": "markdown",
   "id": "bd886720",
   "metadata": {},
   "source": [
    "* **numpy.hsplit() function split an array into multiple sub-arrays horizontally (column-wise). hsplit is equivalent to split with axis=1, the array is always split along the second axis regardless of the array dimension.**"
   ]
  },
  {
   "cell_type": "code",
   "execution_count": 73,
   "id": "3b6ce5cf",
   "metadata": {},
   "outputs": [
    {
     "data": {
      "text/plain": [
       "[array([[1, 1],\n",
       "        [9, 8],\n",
       "        [1, 5],\n",
       "        [9, 3]]),\n",
       " array([[2, 8],\n",
       "        [5, 1],\n",
       "        [4, 1],\n",
       "        [8, 3]])]"
      ]
     },
     "execution_count": 73,
     "metadata": {},
     "output_type": "execute_result"
    }
   ],
   "source": [
    "np.hsplit(arr, 2)"
   ]
  },
  {
   "cell_type": "markdown",
   "id": "97cdf2a1",
   "metadata": {},
   "source": [
    "# `28. Turning Pics into Numpy arrays`"
   ]
  },
  {
   "cell_type": "markdown",
   "id": "905a47a1",
   "metadata": {},
   "source": [
    "`This is picture we are having right here.`\n",
    "\n",
    "`Once we can turn this picture into an numpy array we can perform operations on that and pass the array even for some machine learning algorithms which will be benefitial for us.`\n",
    "\n",
    "`We will be using imread function here which belongs from the matplotlib class.`"
   ]
  },
  {
   "attachments": {
    "GFG.png": {
     "image/png": "[encoded data removed]"
    }
   },
   "cell_type": "markdown",
   "id": "e8d8eae7",
   "metadata": {},
   "source": [
    "![GFG.png](attachment:GFG.png)"
   ]
  },
  {
   "cell_type": "code",
   "execution_count": 76,
   "id": "796aa78e",
   "metadata": {},
   "outputs": [
    {
     "data": {
      "text/plain": [
       "(225, 225, 4)"
      ]
     },
     "execution_count": 76,
     "metadata": {},
     "output_type": "execute_result"
    }
   ],
   "source": [
    "from matplotlib.image import imread\n",
    "\n",
    "img = imread('GFG.png')\n",
    "\n",
    "img.shape"
   ]
  },
  {
   "cell_type": "code",
   "execution_count": null,
   "id": "294ce1a5",
   "metadata": {},
   "outputs": [],
   "source": []
  }
 ],
 "metadata": {
  "kernelspec": {
   "display_name": "Python 3 (ipykernel)",
   "language": "python",
   "name": "python3"
  },
  "language_info": {
   "codemirror_mode": {
    "name": "ipython",
    "version": 3
   },
   "file_extension": ".py",
   "mimetype": "text/x-python",
   "name": "python",
   "nbconvert_exporter": "python",
   "pygments_lexer": "ipython3",
   "version": "3.10.9"
  }
 },
 "nbformat": 4,
 "nbformat_minor": 5
}
