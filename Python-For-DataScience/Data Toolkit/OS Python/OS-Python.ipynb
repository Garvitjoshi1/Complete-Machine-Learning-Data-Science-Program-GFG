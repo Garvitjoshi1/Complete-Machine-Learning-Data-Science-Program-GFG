{
 "cells": [
  {
   "cell_type": "code",
   "execution_count": 1,
   "id": "6048643b",
   "metadata": {},
   "outputs": [],
   "source": [
    "import os"
   ]
  },
  {
   "cell_type": "code",
   "execution_count": 2,
   "id": "d0078ebb",
   "metadata": {},
   "outputs": [
    {
     "data": {
      "text/plain": [
       "<module 'os' from 'C:\\\\Users\\\\LENOVO\\\\anaconda3\\\\lib\\\\os.py'>"
      ]
     },
     "execution_count": 2,
     "metadata": {},
     "output_type": "execute_result"
    }
   ],
   "source": [
    "os"
   ]
  },
  {
   "cell_type": "code",
   "execution_count": 3,
   "id": "4e5cdf06",
   "metadata": {},
   "outputs": [
    {
     "data": {
      "text/plain": [
       "'C:\\\\Users\\\\LENOVO\\\\GFG\\\\Data_Toolkit\\\\OS-Python'"
      ]
     },
     "execution_count": 3,
     "metadata": {},
     "output_type": "execute_result"
    }
   ],
   "source": [
    "os.getcwd()\n",
    "# get the current working directory"
   ]
  },
  {
   "cell_type": "code",
   "execution_count": 30,
   "id": "45faeea1",
   "metadata": {},
   "outputs": [],
   "source": [
    "os.mkdir(\"A\")\n",
    "# make new directory "
   ]
  },
  {
   "cell_type": "code",
   "execution_count": 31,
   "id": "d6245afb",
   "metadata": {},
   "outputs": [
    {
     "name": "stdout",
     "output_type": "stream",
     "text": [
      " Volume in drive C has no label.\n",
      " Volume Serial Number is EAEB-5477\n",
      "\n",
      " Directory of C:\\Users\\LENOVO\\GFG\\Data_Toolkit\\OS-Python\n",
      "\n",
      "30-06-2023  05:32 PM    <DIR>          .\n",
      "30-06-2023  05:32 PM    <DIR>          ..\n",
      "30-06-2023  05:29 PM    <DIR>          .ipynb_checkpoints\n",
      "30-06-2023  05:32 PM    <DIR>          A\n",
      "30-06-2023  05:26 PM    <DIR>          Image\n",
      "30-06-2023  05:09 PM                 0 os.txt\n",
      "30-06-2023  05:31 PM            10,234 OS-Python.ipynb\n",
      "               2 File(s)         10,234 bytes\n",
      "               5 Dir(s)  148,093,878,272 bytes free\n"
     ]
    }
   ],
   "source": [
    "ls"
   ]
  },
  {
   "cell_type": "code",
   "execution_count": 32,
   "id": "2e55132c",
   "metadata": {},
   "outputs": [],
   "source": [
    "os.chdir(\"A\")\n",
    "# change directory"
   ]
  },
  {
   "cell_type": "code",
   "execution_count": 33,
   "id": "89c14292",
   "metadata": {},
   "outputs": [
    {
     "data": {
      "text/plain": [
       "'C:\\\\Users\\\\LENOVO\\\\GFG\\\\Data_Toolkit\\\\OS-Python\\\\A'"
      ]
     },
     "execution_count": 33,
     "metadata": {},
     "output_type": "execute_result"
    }
   ],
   "source": [
    "os.getcwd()"
   ]
  },
  {
   "cell_type": "code",
   "execution_count": 34,
   "id": "90e81230",
   "metadata": {},
   "outputs": [],
   "source": [
    "os.chdir(\"../\")\n",
    "# move prev. directory"
   ]
  },
  {
   "cell_type": "code",
   "execution_count": 35,
   "id": "46256165",
   "metadata": {},
   "outputs": [
    {
     "data": {
      "text/plain": [
       "'C:\\\\Users\\\\LENOVO\\\\GFG\\\\Data_Toolkit\\\\OS-Python'"
      ]
     },
     "execution_count": 35,
     "metadata": {},
     "output_type": "execute_result"
    }
   ],
   "source": [
    "os.getcwd()"
   ]
  },
  {
   "cell_type": "code",
   "execution_count": 36,
   "id": "ae505760",
   "metadata": {},
   "outputs": [],
   "source": [
    "os.makedirs(\"GFG/GFG/GFG\")\n",
    "# to make directory inside directory"
   ]
  },
  {
   "cell_type": "code",
   "execution_count": 37,
   "id": "07c4e411",
   "metadata": {
    "scrolled": true
   },
   "outputs": [
    {
     "name": "stdout",
     "output_type": "stream",
     "text": [
      " Volume in drive C has no label.\n",
      " Volume Serial Number is EAEB-5477\n",
      "\n",
      " Directory of C:\\Users\\LENOVO\\GFG\\Data_Toolkit\\OS-Python\n",
      "\n",
      "30-06-2023  05:34 PM    <DIR>          .\n",
      "30-06-2023  05:32 PM    <DIR>          ..\n",
      "30-06-2023  05:29 PM    <DIR>          .ipynb_checkpoints\n",
      "30-06-2023  05:32 PM    <DIR>          A\n",
      "30-06-2023  05:34 PM    <DIR>          GFG\n",
      "30-06-2023  05:26 PM    <DIR>          Image\n",
      "30-06-2023  05:09 PM                 0 os.txt\n",
      "30-06-2023  05:33 PM            10,236 OS-Python.ipynb\n",
      "               2 File(s)         10,236 bytes\n",
      "               6 Dir(s)  148,401,053,696 bytes free\n"
     ]
    }
   ],
   "source": [
    "ls"
   ]
  },
  {
   "cell_type": "code",
   "execution_count": 38,
   "id": "be6a2469",
   "metadata": {},
   "outputs": [],
   "source": [
    "# os.rmdir(\"Untitled Folder\") to remove direcotry"
   ]
  },
  {
   "cell_type": "code",
   "execution_count": 39,
   "id": "f6fafcee",
   "metadata": {},
   "outputs": [],
   "source": [
    "os.removedirs(\"GFG/GFG/GFG\")\n",
    "# remove directory inside directory at a time"
   ]
  },
  {
   "cell_type": "code",
   "execution_count": 40,
   "id": "6dc4117f",
   "metadata": {},
   "outputs": [
    {
     "data": {
      "text/plain": [
       "'GFG/GFG'"
      ]
     },
     "execution_count": 40,
     "metadata": {},
     "output_type": "execute_result"
    }
   ],
   "source": [
    "a = \"GFG\"\n",
    "b = \"GFG\"\n",
    "\n",
    "a + \"/\" + b"
   ]
  },
  {
   "cell_type": "code",
   "execution_count": 41,
   "id": "b199cee3",
   "metadata": {},
   "outputs": [
    {
     "data": {
      "text/plain": [
       "'GFG/GFG'"
      ]
     },
     "execution_count": 41,
     "metadata": {},
     "output_type": "execute_result"
    }
   ],
   "source": [
    "os.path.join(\"GFG/GFG\")"
   ]
  },
  {
   "cell_type": "code",
   "execution_count": 42,
   "id": "59527223",
   "metadata": {},
   "outputs": [
    {
     "name": "stdout",
     "output_type": "stream",
     "text": [
      " Volume in drive C has no label.\n",
      " Volume Serial Number is EAEB-5477\n",
      "\n",
      " Directory of C:\\Users\\LENOVO\\GFG\\Data_Toolkit\\OS-Python\n",
      "\n",
      "30-06-2023  05:34 PM    <DIR>          .\n",
      "30-06-2023  05:32 PM    <DIR>          ..\n",
      "30-06-2023  05:29 PM    <DIR>          .ipynb_checkpoints\n",
      "30-06-2023  05:32 PM    <DIR>          A\n",
      "30-06-2023  05:26 PM    <DIR>          Image\n",
      "30-06-2023  05:09 PM                 0 os.txt\n",
      "30-06-2023  05:33 PM            10,236 OS-Python.ipynb\n",
      "               2 File(s)         10,236 bytes\n",
      "               5 Dir(s)  148,401,053,696 bytes free\n"
     ]
    }
   ],
   "source": [
    "ls"
   ]
  },
  {
   "cell_type": "code",
   "execution_count": 43,
   "id": "0b9b5760",
   "metadata": {},
   "outputs": [
    {
     "data": {
      "text/plain": [
       "'C:\\\\Users\\\\LENOVO\\\\GFG\\\\Data_Toolkit\\\\OS-Python'"
      ]
     },
     "execution_count": 43,
     "metadata": {},
     "output_type": "execute_result"
    }
   ],
   "source": [
    "pwd"
   ]
  },
  {
   "cell_type": "code",
   "execution_count": 44,
   "id": "1bd24be0",
   "metadata": {},
   "outputs": [],
   "source": [
    "os.rmdir(\"A\") #rmdir is o remove directory\n",
    "# OSError: [WinError 145] The directory is not empty: 'A' this error occur on deleting non empty directory"
   ]
  },
  {
   "cell_type": "code",
   "execution_count": 45,
   "id": "a74c71b9",
   "metadata": {},
   "outputs": [
    {
     "data": {
      "text/plain": [
       "['.ipynb_checkpoints', 'Image', 'OS-Python.ipynb', 'os.txt']"
      ]
     },
     "execution_count": 45,
     "metadata": {},
     "output_type": "execute_result"
    }
   ],
   "source": [
    "os.listdir()\n",
    "# list all the files"
   ]
  },
  {
   "cell_type": "code",
   "execution_count": 46,
   "id": "8221907d",
   "metadata": {},
   "outputs": [
    {
     "data": {
      "text/plain": [
       "['A.txt', 'B.txt', 'C.txt', 'D.txt']"
      ]
     },
     "execution_count": 46,
     "metadata": {},
     "output_type": "execute_result"
    }
   ],
   "source": [
    "os.listdir(\"Image\")\n",
    "# to list for particular directory"
   ]
  },
  {
   "cell_type": "code",
   "execution_count": 47,
   "id": "01700f24",
   "metadata": {},
   "outputs": [
    {
     "name": "stdout",
     "output_type": "stream",
     "text": [
      "B.txt\n",
      "C.txt\n",
      "D.txt\n"
     ]
    }
   ],
   "source": [
    "# to automate the given process\n",
    "for i in os.listdir(\"Image\"):\n",
    "    if i != \"A.txt\":\n",
    "        print(i)"
   ]
  },
  {
   "cell_type": "code",
   "execution_count": 49,
   "id": "8c58d0d5",
   "metadata": {},
   "outputs": [
    {
     "name": "stdout",
     "output_type": "stream",
     "text": [
      " Volume in drive C has no label.\n",
      " Volume Serial Number is EAEB-5477\n",
      "\n",
      " Directory of C:\\Users\\LENOVO\\GFG\\Data_Toolkit\\OS-Python\n",
      "\n",
      "30-06-2023  05:34 PM    <DIR>          .\n",
      "30-06-2023  05:32 PM    <DIR>          ..\n",
      "30-06-2023  05:29 PM    <DIR>          .ipynb_checkpoints\n",
      "30-06-2023  05:26 PM    <DIR>          Image\n",
      "30-06-2023  05:09 PM                 0 os.txt\n",
      "30-06-2023  05:33 PM            10,236 OS-Python.ipynb\n",
      "               2 File(s)         10,236 bytes\n",
      "               4 Dir(s)  148,401,029,120 bytes free\n"
     ]
    }
   ],
   "source": [
    "ls"
   ]
  },
  {
   "cell_type": "code",
   "execution_count": 53,
   "id": "77c58409",
   "metadata": {},
   "outputs": [],
   "source": [
    "! type nul > file.txt\n",
    "# command used to create txxt file in cmd in window\n",
    "# ! mark to tell the kernel its a terminal command"
   ]
  },
  {
   "cell_type": "code",
   "execution_count": 54,
   "id": "9878650a",
   "metadata": {},
   "outputs": [
    {
     "name": "stdout",
     "output_type": "stream",
     "text": [
      " Volume in drive C has no label.\n",
      " Volume Serial Number is EAEB-5477\n",
      "\n",
      " Directory of C:\\Users\\LENOVO\\GFG\\Data_Toolkit\\OS-Python\n",
      "\n",
      "30-06-2023  05:35 PM    <DIR>          .\n",
      "30-06-2023  05:32 PM    <DIR>          ..\n",
      "30-06-2023  05:29 PM    <DIR>          .ipynb_checkpoints\n",
      "30-06-2023  05:36 PM                 0 file.txt\n",
      "30-06-2023  05:26 PM    <DIR>          Image\n",
      "30-06-2023  05:09 PM                 0 os.txt\n",
      "30-06-2023  05:35 PM            11,106 OS-Python.ipynb\n",
      "               3 File(s)         11,106 bytes\n",
      "               4 Dir(s)  148,352,057,344 bytes free\n"
     ]
    }
   ],
   "source": [
    "ls"
   ]
  },
  {
   "cell_type": "code",
   "execution_count": 55,
   "id": "16b663d9",
   "metadata": {},
   "outputs": [],
   "source": [
    "os.rename(\"file.txt\", \"File.txt\")\n",
    "# to rename the file"
   ]
  },
  {
   "cell_type": "code",
   "execution_count": 56,
   "id": "a316bd9e",
   "metadata": {},
   "outputs": [],
   "source": [
    "os.remove(\"File.txt\")\n",
    "# to remove the file"
   ]
  },
  {
   "cell_type": "code",
   "execution_count": 58,
   "id": "629b4264",
   "metadata": {},
   "outputs": [
    {
     "data": {
      "text/plain": [
       "True"
      ]
     },
     "execution_count": 58,
     "metadata": {},
     "output_type": "execute_result"
    }
   ],
   "source": [
    "os.path.exists(\"Image/A.txt\")\n",
    "# to check whether the file exists or not"
   ]
  },
  {
   "cell_type": "code",
   "execution_count": 59,
   "id": "8ddab093",
   "metadata": {},
   "outputs": [
    {
     "data": {
      "text/plain": [
       "False"
      ]
     },
     "execution_count": 59,
     "metadata": {},
     "output_type": "execute_result"
    }
   ],
   "source": [
    "os.path.exists(\"Image/Hi\")"
   ]
  },
  {
   "cell_type": "code",
   "execution_count": 3,
   "id": "fbeb4014",
   "metadata": {},
   "outputs": [],
   "source": [
    "if os.path.exists(\"Image/G\"):\n",
    "    print(\"Folder Already Exists\")\n",
    "else:\n",
    "    os.mkdir(\"Image/G\")"
   ]
  },
  {
   "cell_type": "code",
   "execution_count": 5,
   "id": "81b36786",
   "metadata": {},
   "outputs": [
    {
     "data": {
      "text/plain": [
       "4096"
      ]
     },
     "execution_count": 5,
     "metadata": {},
     "output_type": "execute_result"
    }
   ],
   "source": [
    "os.path.getsize(\"Image\")"
   ]
  },
  {
   "cell_type": "markdown",
   "id": "f2a7b004",
   "metadata": {},
   "source": [
    "## Bulk Directories Creation"
   ]
  },
  {
   "cell_type": "code",
   "execution_count": 12,
   "id": "89dd90d2",
   "metadata": {},
   "outputs": [],
   "source": [
    "!mkdir Test\n",
    "# creates a directory named Test\n",
    "for i in range(1000):\n",
    "    name = \"Test/Test \"+str(i+1)\n",
    "    # create multiple directory inside Test\n",
    "    os.mkdir(name)"
   ]
  },
  {
   "cell_type": "code",
   "execution_count": 13,
   "id": "85530d3b",
   "metadata": {},
   "outputs": [
    {
     "name": "stdout",
     "output_type": "stream",
     "text": [
      " Volume in drive C has no label.\n",
      " Volume Serial Number is EAEB-5477\n",
      "\n",
      " Directory of C:\\Users\\LENOVO\\GFG\\Data_Toolkit\\OS-Python\n",
      "\n",
      "01-07-2023  07:11 AM    <DIR>          .\n",
      "30-06-2023  05:32 PM    <DIR>          ..\n",
      "30-06-2023  05:29 PM    <DIR>          .ipynb_checkpoints\n",
      "01-07-2023  07:02 AM    <DIR>          Image\n",
      "30-06-2023  05:09 PM                 0 os.txt\n",
      "01-07-2023  07:10 AM            14,306 OS-Python.ipynb\n",
      "01-07-2023  07:11 AM    <DIR>          Test\n",
      "               2 File(s)         14,306 bytes\n",
      "               5 Dir(s)  147,966,136,320 bytes free\n"
     ]
    }
   ],
   "source": [
    "ls"
   ]
  },
  {
   "cell_type": "code",
   "execution_count": null,
   "id": "1674858c",
   "metadata": {},
   "outputs": [
    {
     "name": "stdout",
     "output_type": "stream",
     "text": [
      "Enter the directory you want to create: GFG\n",
      "Enter the number of sub-directories you want: 100000\n"
     ]
    }
   ],
   "source": [
    "n = input(\"Enter the directory you want to create: \")\n",
    "os.mkdir(n)\n",
    "m = int(input(\"Enter the number of sub-directories you want: \"))\n",
    "# creates a directory named n\n",
    "for i in range(m):\n",
    "    name = n + \"/\" + 'Test '+str(i+1)\n",
    "    # create multiple directory inside Test\n",
    "    os.mkdir(name)"
   ]
  },
  {
   "cell_type": "markdown",
   "id": "e5c3c1bb",
   "metadata": {},
   "source": [
    "## Hirerical Bulk Directories Creation"
   ]
  },
  {
   "cell_type": "code",
   "execution_count": 2,
   "id": "a098ea28",
   "metadata": {},
   "outputs": [
    {
     "name": "stdout",
     "output_type": "stream",
     "text": [
      "31\n"
     ]
    }
   ],
   "source": [
    "import os\n",
    "master = 'GFG'\n",
    "\n",
    "os.mkdir(master)\n",
    "\n",
    "n = 5\n",
    "m = 5\n",
    "\n",
    "for i in range(n):\n",
    "    \n",
    "    name = master +'/'+ master + \" \" + str(i+1)\n",
    "    os.mkdir(name)\n",
    "    \n",
    "    for j in range(m):\n",
    "        name = master +'/'+ master + \" \" + str(i+1) +\"/\"+ master + \" \" + str(j+1) \n",
    "        os.mkdir(name)\n",
    "        \n",
    "print(n*m + n + 1)"
   ]
  },
  {
   "cell_type": "code",
   "execution_count": 4,
   "id": "96accef6",
   "metadata": {
    "scrolled": true
   },
   "outputs": [
    {
     "name": "stdout",
     "output_type": "stream",
     "text": [
      " Volume in drive C has no label.\n",
      " Volume Serial Number is EAEB-5477\n",
      "\n",
      " Directory of C:\\Users\\LENOVO\\GFG\\Data_Toolkit\\OS-Python\n",
      "\n",
      "01-07-2023  10:42 AM    <DIR>          .\n",
      "30-06-2023  05:32 PM    <DIR>          ..\n",
      "30-06-2023  05:29 PM    <DIR>          .ipynb_checkpoints\n",
      "01-07-2023  10:42 AM    <DIR>          GFG\n",
      "01-07-2023  07:02 AM    <DIR>          Image\n",
      "30-06-2023  05:09 PM                 0 os.txt\n",
      "01-07-2023  10:29 AM            15,249 OS-Python.ipynb\n",
      "               2 File(s)         15,249 bytes\n",
      "               5 Dir(s)  147,519,848,448 bytes free\n"
     ]
    }
   ],
   "source": [
    "ls"
   ]
  },
  {
   "cell_type": "code",
   "execution_count": null,
   "id": "2a4a6a8d",
   "metadata": {},
   "outputs": [],
   "source": [
    "'''\n",
    "Hirerical order for directories\n",
    "GFG\n",
    "    ->GFG 1\n",
    "        ->GFG 1\n",
    "        ->GFG 2\n",
    "        ->GFG 3\n",
    "    ->GFG 2\n",
    "        ->GFG 1\n",
    "        ->GFG 2\n",
    "        ->GFG 3\n",
    "    ->GFG 3\n",
    "        ->GFG 1\n",
    "        ->GFG 2\n",
    "        ->GFG 3\n",
    "        \n",
    "'''"
   ]
  },
  {
   "cell_type": "markdown",
   "id": "093ba24c",
   "metadata": {},
   "source": [
    "## Bulk Text-file Reading"
   ]
  },
  {
   "cell_type": "code",
   "execution_count": 5,
   "id": "093a3391",
   "metadata": {},
   "outputs": [],
   "source": [
    "file = os.listdir(\"GFG\")"
   ]
  },
  {
   "cell_type": "code",
   "execution_count": 6,
   "id": "c2d74869",
   "metadata": {},
   "outputs": [
    {
     "data": {
      "text/plain": [
       "['GFG 1', 'GFG 2', 'GFG 3', 'GFG 4', 'GFG 5']"
      ]
     },
     "execution_count": 6,
     "metadata": {},
     "output_type": "execute_result"
    }
   ],
   "source": [
    "file"
   ]
  },
  {
   "cell_type": "code",
   "execution_count": 7,
   "id": "e6a1ec6f",
   "metadata": {},
   "outputs": [
    {
     "name": "stdout",
     "output_type": "stream",
     "text": [
      "GFG 1\n",
      "GFG 2\n",
      "GFG 3\n",
      "GFG 4\n",
      "GFG 5\n"
     ]
    }
   ],
   "source": [
    "for i in file:\n",
    "    print(i)"
   ]
  },
  {
   "cell_type": "code",
   "execution_count": 10,
   "id": "9a7d87c2",
   "metadata": {},
   "outputs": [
    {
     "data": {
      "text/plain": [
       "5"
      ]
     },
     "execution_count": 10,
     "metadata": {},
     "output_type": "execute_result"
    }
   ],
   "source": [
    "len(file)"
   ]
  },
  {
   "cell_type": "code",
   "execution_count": 11,
   "id": "8f0ed8e5",
   "metadata": {},
   "outputs": [
    {
     "data": {
      "text/plain": [
       "list"
      ]
     },
     "execution_count": 11,
     "metadata": {},
     "output_type": "execute_result"
    }
   ],
   "source": [
    "type(file)"
   ]
  },
  {
   "cell_type": "code",
   "execution_count": 15,
   "id": "2e31f405",
   "metadata": {},
   "outputs": [
    {
     "name": "stdout",
     "output_type": "stream",
     "text": [
      "This is file 1\n"
     ]
    }
   ],
   "source": [
    "fd = open(\"GFG/GFG 1/GFG 1/file1.txt\")\n",
    "print(fd.read())\n",
    "fd.close()"
   ]
  },
  {
   "cell_type": "code",
   "execution_count": null,
   "id": "be854357",
   "metadata": {},
   "outputs": [],
   "source": []
  }
 ],
 "metadata": {
  "kernelspec": {
   "display_name": "Python 3 (ipykernel)",
   "language": "python",
   "name": "python3"
  },
  "language_info": {
   "codemirror_mode": {
    "name": "ipython",
    "version": 3
   },
   "file_extension": ".py",
   "mimetype": "text/x-python",
   "name": "python",
   "nbconvert_exporter": "python",
   "pygments_lexer": "ipython3",
   "version": "3.10.9"
  }
 },
 "nbformat": 4,
 "nbformat_minor": 5
}
