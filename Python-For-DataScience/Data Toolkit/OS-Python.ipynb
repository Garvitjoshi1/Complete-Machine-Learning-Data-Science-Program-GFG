{
 "cells": [
  {
   "cell_type": "code",
   "execution_count": 67,
   "id": "6048643b",
   "metadata": {},
   "outputs": [],
   "source": [
    "import os"
   ]
  },
  {
   "cell_type": "code",
   "execution_count": 68,
   "id": "d0078ebb",
   "metadata": {},
   "outputs": [
    {
     "data": {
      "text/plain": [
       "<module 'os' from 'C:\\\\Users\\\\LENOVO\\\\anaconda3\\\\lib\\\\os.py'>"
      ]
     },
     "execution_count": 68,
     "metadata": {},
     "output_type": "execute_result"
    }
   ],
   "source": [
    "os"
   ]
  },
  {
   "cell_type": "code",
   "execution_count": 69,
   "id": "4e5cdf06",
   "metadata": {},
   "outputs": [
    {
     "data": {
      "text/plain": [
       "'C:\\\\Users\\\\LENOVO\\\\GFG\\\\Data_Toolkit'"
      ]
     },
     "execution_count": 69,
     "metadata": {},
     "output_type": "execute_result"
    }
   ],
   "source": [
    "os.getcwd()\n",
    "# get the current working directory"
   ]
  },
  {
   "cell_type": "code",
   "execution_count": 71,
   "id": "45faeea1",
   "metadata": {},
   "outputs": [],
   "source": [
    "os.mkdir(\"A\")\n",
    "# make new directory "
   ]
  },
  {
   "cell_type": "code",
   "execution_count": 72,
   "id": "d6245afb",
   "metadata": {},
   "outputs": [
    {
     "name": "stdout",
     "output_type": "stream",
     "text": [
      " Volume in drive C has no label.\n",
      " Volume Serial Number is EAEB-5477\n",
      "\n",
      " Directory of C:\\Users\\LENOVO\\GFG\\Data_Toolkit\n",
      "\n",
      "30-06-2023  05:18 PM    <DIR>          .\n",
      "29-05-2023  03:03 PM    <DIR>          ..\n",
      "30-06-2023  04:47 PM    <DIR>          .ipynb_checkpoints\n",
      "30-06-2023  05:18 PM    <DIR>          A\n",
      "02-06-2023  08:47 PM                80 create.txt\n",
      "02-06-2023  12:00 PM             2,795 data.txt\n",
      "02-06-2023  07:57 AM            41,825 File_data_reading.ipynb\n",
      "10-06-2023  11:01 AM    <DIR>          Inventory_management_System\n",
      "15-06-2023  12:57 PM    <DIR>          Inventory_Management_System_with_JSON\n",
      "24-06-2023  07:14 PM    <DIR>          Numpy\n",
      "30-06-2023  05:09 PM                 0 os.txt\n",
      "30-06-2023  05:16 PM             9,865 OS-Python.ipynb\n",
      "02-06-2023  08:49 PM             3,255 Writing-data-on-file.ipynb\n",
      "               6 File(s)         57,820 bytes\n",
      "               7 Dir(s)  148,190,003,200 bytes free\n"
     ]
    }
   ],
   "source": [
    "ls"
   ]
  },
  {
   "cell_type": "code",
   "execution_count": 73,
   "id": "2e55132c",
   "metadata": {},
   "outputs": [],
   "source": [
    "os.chdir(\"A\")\n",
    "# change directory"
   ]
  },
  {
   "cell_type": "code",
   "execution_count": 74,
   "id": "89c14292",
   "metadata": {},
   "outputs": [
    {
     "data": {
      "text/plain": [
       "'C:\\\\Users\\\\LENOVO\\\\GFG\\\\Data_Toolkit\\\\A'"
      ]
     },
     "execution_count": 74,
     "metadata": {},
     "output_type": "execute_result"
    }
   ],
   "source": [
    "os.getcwd()"
   ]
  },
  {
   "cell_type": "code",
   "execution_count": 75,
   "id": "90e81230",
   "metadata": {},
   "outputs": [],
   "source": [
    "os.chdir(\"../\")\n",
    "# move prev. directory"
   ]
  },
  {
   "cell_type": "code",
   "execution_count": 76,
   "id": "46256165",
   "metadata": {},
   "outputs": [
    {
     "data": {
      "text/plain": [
       "'C:\\\\Users\\\\LENOVO\\\\GFG\\\\Data_Toolkit'"
      ]
     },
     "execution_count": 76,
     "metadata": {},
     "output_type": "execute_result"
    }
   ],
   "source": [
    "os.getcwd()"
   ]
  },
  {
   "cell_type": "code",
   "execution_count": 77,
   "id": "ae505760",
   "metadata": {},
   "outputs": [],
   "source": [
    "os.makedirs(\"GFG/GFG/GFG\")\n",
    "# to make directory inside directory"
   ]
  },
  {
   "cell_type": "code",
   "execution_count": 78,
   "id": "07c4e411",
   "metadata": {
    "scrolled": true
   },
   "outputs": [
    {
     "name": "stdout",
     "output_type": "stream",
     "text": [
      " Volume in drive C has no label.\n",
      " Volume Serial Number is EAEB-5477\n",
      "\n",
      " Directory of C:\\Users\\LENOVO\\GFG\\Data_Toolkit\n",
      "\n",
      "30-06-2023  05:18 PM    <DIR>          .\n",
      "29-05-2023  03:03 PM    <DIR>          ..\n",
      "30-06-2023  04:47 PM    <DIR>          .ipynb_checkpoints\n",
      "30-06-2023  05:18 PM    <DIR>          A\n",
      "02-06-2023  08:47 PM                80 create.txt\n",
      "02-06-2023  12:00 PM             2,795 data.txt\n",
      "02-06-2023  07:57 AM            41,825 File_data_reading.ipynb\n",
      "30-06-2023  05:18 PM    <DIR>          GFG\n",
      "10-06-2023  11:01 AM    <DIR>          Inventory_management_System\n",
      "15-06-2023  12:57 PM    <DIR>          Inventory_Management_System_with_JSON\n",
      "24-06-2023  07:14 PM    <DIR>          Numpy\n",
      "30-06-2023  05:09 PM                 0 os.txt\n",
      "30-06-2023  05:16 PM             9,865 OS-Python.ipynb\n",
      "02-06-2023  08:49 PM             3,255 Writing-data-on-file.ipynb\n",
      "               6 File(s)         57,820 bytes\n",
      "               8 Dir(s)  148,186,341,376 bytes free\n"
     ]
    }
   ],
   "source": [
    "ls"
   ]
  },
  {
   "cell_type": "code",
   "execution_count": 79,
   "id": "be6a2469",
   "metadata": {},
   "outputs": [],
   "source": [
    "# os.rmdir(\"Untitled Folder\") to remove direcotry"
   ]
  },
  {
   "cell_type": "code",
   "execution_count": 80,
   "id": "f6fafcee",
   "metadata": {},
   "outputs": [],
   "source": [
    "os.removedirs(\"GFG/GFG/GFG\")\n",
    "# remove directory inside directory at a time"
   ]
  },
  {
   "cell_type": "code",
   "execution_count": 81,
   "id": "6dc4117f",
   "metadata": {},
   "outputs": [
    {
     "data": {
      "text/plain": [
       "'GFG/GFG'"
      ]
     },
     "execution_count": 81,
     "metadata": {},
     "output_type": "execute_result"
    }
   ],
   "source": [
    "a = \"GFG\"\n",
    "b = \"GFG\"\n",
    "\n",
    "a + \"/\" + b"
   ]
  },
  {
   "cell_type": "code",
   "execution_count": 82,
   "id": "b199cee3",
   "metadata": {},
   "outputs": [
    {
     "data": {
      "text/plain": [
       "'GFG/GFG'"
      ]
     },
     "execution_count": 82,
     "metadata": {},
     "output_type": "execute_result"
    }
   ],
   "source": [
    "os.path.join(\"GFG/GFG\")"
   ]
  },
  {
   "cell_type": "code",
   "execution_count": 83,
   "id": "59527223",
   "metadata": {},
   "outputs": [
    {
     "name": "stdout",
     "output_type": "stream",
     "text": [
      " Volume in drive C has no label.\n",
      " Volume Serial Number is EAEB-5477\n",
      "\n",
      " Directory of C:\\Users\\LENOVO\\GFG\\Data_Toolkit\n",
      "\n",
      "30-06-2023  05:18 PM    <DIR>          .\n",
      "29-05-2023  03:03 PM    <DIR>          ..\n",
      "30-06-2023  04:47 PM    <DIR>          .ipynb_checkpoints\n",
      "30-06-2023  05:18 PM    <DIR>          A\n",
      "02-06-2023  08:47 PM                80 create.txt\n",
      "02-06-2023  12:00 PM             2,795 data.txt\n",
      "02-06-2023  07:57 AM            41,825 File_data_reading.ipynb\n",
      "10-06-2023  11:01 AM    <DIR>          Inventory_management_System\n",
      "15-06-2023  12:57 PM    <DIR>          Inventory_Management_System_with_JSON\n",
      "24-06-2023  07:14 PM    <DIR>          Numpy\n",
      "30-06-2023  05:09 PM                 0 os.txt\n",
      "30-06-2023  05:16 PM             9,865 OS-Python.ipynb\n",
      "02-06-2023  08:49 PM             3,255 Writing-data-on-file.ipynb\n",
      "               6 File(s)         57,820 bytes\n",
      "               7 Dir(s)  148,186,341,376 bytes free\n"
     ]
    }
   ],
   "source": [
    "ls"
   ]
  },
  {
   "cell_type": "code",
   "execution_count": 84,
   "id": "0b9b5760",
   "metadata": {},
   "outputs": [
    {
     "data": {
      "text/plain": [
       "'C:\\\\Users\\\\LENOVO\\\\GFG\\\\Data_Toolkit'"
      ]
     },
     "execution_count": 84,
     "metadata": {},
     "output_type": "execute_result"
    }
   ],
   "source": [
    "pwd"
   ]
  },
  {
   "cell_type": "code",
   "execution_count": 85,
   "id": "1bd24be0",
   "metadata": {},
   "outputs": [],
   "source": [
    "os.rmdir(\"A\") #rmdir is o remove directory\n",
    "# OSError: [WinError 145] The directory is not empty: 'A' this error occur on deleting non empty directory"
   ]
  },
  {
   "cell_type": "code",
   "execution_count": 86,
   "id": "a74c71b9",
   "metadata": {},
   "outputs": [
    {
     "data": {
      "text/plain": [
       "['.ipynb_checkpoints',\n",
       " 'create.txt',\n",
       " 'data.txt',\n",
       " 'File_data_reading.ipynb',\n",
       " 'Inventory_management_System',\n",
       " 'Inventory_Management_System_with_JSON',\n",
       " 'Numpy',\n",
       " 'OS-Python.ipynb',\n",
       " 'os.txt',\n",
       " 'Writing-data-on-file.ipynb']"
      ]
     },
     "execution_count": 86,
     "metadata": {},
     "output_type": "execute_result"
    }
   ],
   "source": [
    "os.listdir()\n",
    "# list all the files"
   ]
  },
  {
   "cell_type": "code",
   "execution_count": 87,
   "id": "0c6dc7a8",
   "metadata": {},
   "outputs": [
    {
     "data": {
      "text/plain": [
       "['.ipynb_checkpoints',\n",
       " 'Inventory-management-overview.ipynb',\n",
       " 'Inventory.txt',\n",
       " 'sales.txt']"
      ]
     },
     "execution_count": 87,
     "metadata": {},
     "output_type": "execute_result"
    }
   ],
   "source": [
    "# for particular list of files of directory\n",
    "os.listdir(\"Inventory_management_System\")"
   ]
  },
  {
   "cell_type": "code",
   "execution_count": null,
   "id": "a6e683df",
   "metadata": {},
   "outputs": [],
   "source": [
    "# to automate the given process\n",
    "os.move()"
   ]
  }
 ],
 "metadata": {
  "kernelspec": {
   "display_name": "Python 3 (ipykernel)",
   "language": "python",
   "name": "python3"
  },
  "language_info": {
   "codemirror_mode": {
    "name": "ipython",
    "version": 3
   },
   "file_extension": ".py",
   "mimetype": "text/x-python",
   "name": "python",
   "nbconvert_exporter": "python",
   "pygments_lexer": "ipython3",
   "version": "3.10.9"
  }
 },
 "nbformat": 4,
 "nbformat_minor": 5
}
