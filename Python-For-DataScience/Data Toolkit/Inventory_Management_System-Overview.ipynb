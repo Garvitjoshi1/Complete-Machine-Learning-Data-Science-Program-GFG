{
 "cells": [
  {
   "cell_type": "code",
   "execution_count": 1,
   "id": "ef96c29c",
   "metadata": {},
   "outputs": [],
   "source": [
    "'''We store data in dictionary because json is also a dictionary.\n",
    "   it stores data in key-value pair, and we can only access the value using key otherwise it gives Keyerror'''\n",
    "\n",
    "record = {1001:\"5 Star\",\n",
    "          1002:\"Bar_One\",\n",
    "          1003:\"Candy\",\n",
    "          1004:\"Chocalate Cake\",\n",
    "          1005:\"Blueberries Cake\"}"
   ]
  },
  {
   "cell_type": "code",
   "execution_count": 2,
   "id": "16dc60e9",
   "metadata": {},
   "outputs": [
    {
     "data": {
      "text/plain": [
       "'Chocalate Cake'"
      ]
     },
     "execution_count": 2,
     "metadata": {},
     "output_type": "execute_result"
    }
   ],
   "source": [
    "record[1004]"
   ]
  },
  {
   "cell_type": "markdown",
   "id": "fff84327",
   "metadata": {},
   "source": [
    "* To access value from a dict. of a dict."
   ]
  },
  {
   "cell_type": "code",
   "execution_count": 3,
   "id": "e89cea82",
   "metadata": {},
   "outputs": [],
   "source": [
    "import json\n",
    "# To save all these data in the file to maintain a proper record to it\n",
    "record = {1001:{\"Name\":\"5 Star\"          , \"Price\": 10,   \"Qn\": 200},\n",
    "          1002:{\"Name\":\"Bar_One\"         , \"Price\": 20,   \"Qn\": 100},\n",
    "          1003:{\"Name\":\"Candy\"           , \"Price\": 2,    \"Qn\": 10},\n",
    "          1004:{\"Name\":\"Chocalate Cake\"  , \"Price\": 550,  \"Qn\": 10},\n",
    "          1005:{\"Name\":\"Blueberries Cake\", \"Price\": 650,  \"Qn\": 10}}"
   ]
  },
  {
   "cell_type": "code",
   "execution_count": 4,
   "id": "45c308c2",
   "metadata": {},
   "outputs": [
    {
     "data": {
      "text/plain": [
       "'5 Star'"
      ]
     },
     "execution_count": 4,
     "metadata": {},
     "output_type": "execute_result"
    }
   ],
   "source": [
    "record[1001]['Name']"
   ]
  },
  {
   "cell_type": "code",
   "execution_count": 5,
   "id": "612e97d2",
   "metadata": {},
   "outputs": [
    {
     "data": {
      "text/plain": [
       "{'Name': '5 Star', 'Price': 10, 'Qn': 200}"
      ]
     },
     "execution_count": 5,
     "metadata": {},
     "output_type": "execute_result"
    }
   ],
   "source": [
    "record[1001]"
   ]
  },
  {
   "cell_type": "code",
   "execution_count": 6,
   "id": "a237024f",
   "metadata": {
    "scrolled": true
   },
   "outputs": [
    {
     "name": "stdout",
     "output_type": "stream",
     "text": [
      "Chocalate Cake\n",
      "550\n",
      "10\n"
     ]
    }
   ],
   "source": [
    "print(record[1004][\"Name\"])\n",
    "print(record[1004][\"Price\"])\n",
    "print(record[1004][\"Qn\"])"
   ]
  },
  {
   "cell_type": "markdown",
   "id": "c2f90d24",
   "metadata": {},
   "source": [
    "# Inventory Management System - Generating     Bill"
   ]
  },
  {
   "cell_type": "code",
   "execution_count": 7,
   "id": "ca305dcb",
   "metadata": {
    "scrolled": true
   },
   "outputs": [
    {
     "name": "stdout",
     "output_type": "stream",
     "text": [
      "{'Name': '5 Star', 'Price': 10, 'Qn': 200}\n",
      "{'Name': 'Bar_One', 'Price': 20, 'Qn': 100}\n",
      "{'Name': 'Candy', 'Price': 2, 'Qn': 10}\n",
      "{'Name': 'Chocalate Cake', 'Price': 550, 'Qn': 10}\n",
      "{'Name': 'Blueberries Cake', 'Price': 650, 'Qn': 10}\n"
     ]
    }
   ],
   "source": [
    "for key in record.keys():\n",
    "    print(record[key])"
   ]
  },
  {
   "cell_type": "markdown",
   "id": "1a003de7",
   "metadata": {},
   "source": [
    "* To get List of all products"
   ]
  },
  {
   "cell_type": "code",
   "execution_count": 20,
   "id": "0ebc239d",
   "metadata": {
    "scrolled": true
   },
   "outputs": [
    {
     "name": "stdout",
     "output_type": "stream",
     "text": [
      "=====================MENU====================\n",
      "\n",
      "1001 : 5 Star | 10 | 130\n",
      "1002 : Bar_One | 20 | 65\n",
      "1003 : Candy | 2 | 10\n",
      "1004 : Chocalate Cake | 550 | 10\n",
      "1005 : Blueberries Cake | 650 | -10\n",
      "=============================================\n",
      "\n",
      "Enter the product id  : 1003\n",
      "Enter Quantity    : 12\n",
      "=============================================\n",
      "             BiLL                 \n",
      "\n",
      "Name              :  Candy\n",
      "Price             :  Rs. 2\n",
      "Quantity          :  12\n",
      "=============================================\n",
      "Billing Amount is :  Rs. 24\n",
      "=============================================\n",
      "=============================================\n",
      "  Thanks for your order, Inventory Updated!  \n",
      "=============================================\n"
     ]
    }
   ],
   "source": [
    "#read the data from file\n",
    "fd = open(\"Records.json\", 'r')\n",
    "js = fd.read()\n",
    "fd.close()\n",
    "\n",
    "#Accessing the data from records.json file\n",
    "record = json.loads(js)\n",
    "\n",
    "# purchasing the items with required quantity\n",
    "print(\"=====================MENU====================\\n\")\n",
    "\n",
    "for key in record.keys():\n",
    "    print(key, \":\" , record[key]['Name'], \"|\",record[key]['Price'], \"|\", record[key]['Qn'])\n",
    "\n",
    "print(\"=============================================\\n\")\n",
    "\n",
    "ui_pr = str(input(\"Enter the product id  : \"))\n",
    "ui_qn = int(input(\"Enter Quantity    : \"))\n",
    "\n",
    "print(\"=============================================\")\n",
    "print(\"             BiLL                 \\n\")\n",
    "\n",
    "print(\"Name              : \", record[ui_pr]['Name'])\n",
    "print(\"Price             : \", \"Rs.\",record[ui_pr]['Price'])\n",
    "print(\"Quantity          : \", ui_qn)\n",
    "\n",
    "print(\"=============================================\")\n",
    "print(\"Billing Amount is : \",\"Rs.\",ui_qn*record[ui_pr][\"Price\"])\n",
    "print(\"=============================================\")\n",
    "\n",
    "record[ui_pr]['Qn'] = record[ui_pr]['Qn'] - ui_qn\n",
    "\n",
    "print(\"=============================================\")\n",
    "print(\"  Thanks for your order, Inventory Updated!  \")\n",
    "print(\"=============================================\")\n",
    "js = json.dumps(record)\n",
    "\n",
    "\n",
    "# Updating values in file to maintain record.\n",
    "fd = open(\"Records.json\", 'w')\n",
    "fd.write(js)\n",
    "fd.close()"
   ]
  },
  {
   "cell_type": "markdown",
   "id": "c1123fd1",
   "metadata": {},
   "source": [
    "## Inventory Management System - Updating Inventory"
   ]
  },
  {
   "cell_type": "markdown",
   "id": "a9813e94",
   "metadata": {},
   "source": [
    "* The dump function in Python is mainly used when we want to store and transfer objects (Python objects) into a file in the form of JSON (JavaScript Object Notation - a standard text-based format or a lightweight format used to store and transport data on the web)."
   ]
  },
  {
   "cell_type": "code",
   "execution_count": 21,
   "id": "aa7d2125",
   "metadata": {
    "scrolled": true
   },
   "outputs": [
    {
     "data": {
      "text/plain": [
       "'{\"1001\": {\"Name\": \"5 Star\", \"Price\": 10, \"Qn\": 130}, \"1002\": {\"Name\": \"Bar_One\", \"Price\": 20, \"Qn\": 65}, \"1003\": {\"Name\": \"Candy\", \"Price\": 2, \"Qn\": -2}, \"1004\": {\"Name\": \"Chocalate Cake\", \"Price\": 550, \"Qn\": 10}, \"1005\": {\"Name\": \"Blueberries Cake\", \"Price\": 650, \"Qn\": -10}}'"
      ]
     },
     "execution_count": 21,
     "metadata": {},
     "output_type": "execute_result"
    }
   ],
   "source": [
    "js = json.dumps(record)\n",
    "js\n",
    "# now the key value is stored in form of string rather than integer"
   ]
  },
  {
   "cell_type": "code",
   "execution_count": 22,
   "id": "64ee4859",
   "metadata": {
    "scrolled": true
   },
   "outputs": [
    {
     "data": {
      "text/plain": [
       "str"
      ]
     },
     "execution_count": 22,
     "metadata": {},
     "output_type": "execute_result"
    }
   ],
   "source": [
    "type(json.dumps(record))"
   ]
  },
  {
   "cell_type": "code",
   "execution_count": 23,
   "id": "50782875",
   "metadata": {},
   "outputs": [],
   "source": [
    "fd = open(\"Records.json\", 'w')\n",
    "\n",
    "fd.write(js)\n",
    "\n",
    "fd.close()"
   ]
  },
  {
   "cell_type": "code",
   "execution_count": 24,
   "id": "da288dae",
   "metadata": {
    "scrolled": true
   },
   "outputs": [
    {
     "name": "stdout",
     "output_type": "stream",
     "text": [
      " Volume in drive C has no label.\n",
      " Volume Serial Number is EAEB-5477\n",
      "\n",
      " Directory of C:\\Users\\LENOVO\\GFG\\Data_Toolkit\\Inventory_Management_System_with_JSON\n",
      "\n",
      "15-06-2023  10:26 AM    <DIR>          .\n",
      "10-06-2023  11:03 AM    <DIR>          ..\n",
      "10-06-2023  11:12 AM    <DIR>          .ipynb_checkpoints\n",
      "15-06-2023  10:26 AM            11,505 Inventory_Management_System-Overview.ipynb\n",
      "15-06-2023  10:26 AM               276 Records.json\n",
      "               2 File(s)         11,781 bytes\n",
      "               3 Dir(s)  140,456,747,008 bytes free\n"
     ]
    }
   ],
   "source": [
    "ls"
   ]
  },
  {
   "cell_type": "markdown",
   "id": "bded03ca",
   "metadata": {},
   "source": [
    "* as we can see from above now we have record file created as well."
   ]
  },
  {
   "cell_type": "code",
   "execution_count": 25,
   "id": "32166f04",
   "metadata": {
    "scrolled": true
   },
   "outputs": [
    {
     "data": {
      "text/plain": [
       "{'1001': {'Name': '5 Star', 'Price': 10, 'Qn': 130},\n",
       " '1002': {'Name': 'Bar_One', 'Price': 20, 'Qn': 65},\n",
       " '1003': {'Name': 'Candy', 'Price': 2, 'Qn': -2},\n",
       " '1004': {'Name': 'Chocalate Cake', 'Price': 550, 'Qn': 10},\n",
       " '1005': {'Name': 'Blueberries Cake', 'Price': 650, 'Qn': -10}}"
      ]
     },
     "execution_count": 25,
     "metadata": {},
     "output_type": "execute_result"
    }
   ],
   "source": [
    "json.loads(js)"
   ]
  },
  {
   "cell_type": "code",
   "execution_count": 26,
   "id": "43c0b354",
   "metadata": {},
   "outputs": [
    {
     "data": {
      "text/plain": [
       "{'1001': {'Name': '5 Star', 'Price': 10, 'Qn': 130},\n",
       " '1002': {'Name': 'Bar_One', 'Price': 20, 'Qn': 65},\n",
       " '1003': {'Name': 'Candy', 'Price': 2, 'Qn': -2},\n",
       " '1004': {'Name': 'Chocalate Cake', 'Price': 550, 'Qn': 10},\n",
       " '1005': {'Name': 'Blueberries Cake', 'Price': 650, 'Qn': -10}}"
      ]
     },
     "execution_count": 26,
     "metadata": {},
     "output_type": "execute_result"
    }
   ],
   "source": [
    "record"
   ]
  },
  {
   "cell_type": "code",
   "execution_count": null,
   "id": "d9a5ce11",
   "metadata": {},
   "outputs": [],
   "source": []
  }
 ],
 "metadata": {
  "kernelspec": {
   "display_name": "Python 3 (ipykernel)",
   "language": "python",
   "name": "python3"
  },
  "language_info": {
   "codemirror_mode": {
    "name": "ipython",
    "version": 3
   },
   "file_extension": ".py",
   "mimetype": "text/x-python",
   "name": "python",
   "nbconvert_exporter": "python",
   "pygments_lexer": "ipython3",
   "version": "3.10.9"
  }
 },
 "nbformat": 4,
 "nbformat_minor": 5
}
